{
 "cells": [
  {
   "cell_type": "code",
   "execution_count": null,
   "metadata": {},
   "outputs": [],
   "source": [
    "import pandas as pd\n",
    "import matplotlib.pyplot as plt"
   ]
  },
  {
   "cell_type": "code",
   "execution_count": 2,
   "metadata": {},
   "outputs": [
    {
     "data": {
      "text/plain": [
       "(57015, 7)"
      ]
     },
     "execution_count": 2,
     "metadata": {},
     "output_type": "execute_result"
    }
   ],
   "source": [
    "# load example parquet file\n",
    "df = pd.read_parquet('../data/asl-signs/train_landmark_files/16069/100015657.parquet')\n",
    "df.shape"
   ]
  },
  {
   "cell_type": "code",
   "execution_count": 4,
   "metadata": {},
   "outputs": [
    {
     "data": {
      "text/html": [
       "<div>\n",
       "<style scoped>\n",
       "    .dataframe tbody tr th:only-of-type {\n",
       "        vertical-align: middle;\n",
       "    }\n",
       "\n",
       "    .dataframe tbody tr th {\n",
       "        vertical-align: top;\n",
       "    }\n",
       "\n",
       "    .dataframe thead th {\n",
       "        text-align: right;\n",
       "    }\n",
       "</style>\n",
       "<table border=\"1\" class=\"dataframe\">\n",
       "  <thead>\n",
       "    <tr style=\"text-align: right;\">\n",
       "      <th></th>\n",
       "      <th>frame</th>\n",
       "      <th>row_id</th>\n",
       "      <th>type</th>\n",
       "      <th>landmark_index</th>\n",
       "      <th>x</th>\n",
       "      <th>y</th>\n",
       "      <th>z</th>\n",
       "    </tr>\n",
       "  </thead>\n",
       "  <tbody>\n",
       "    <tr>\n",
       "      <th>0</th>\n",
       "      <td>103</td>\n",
       "      <td>103-face-0</td>\n",
       "      <td>face</td>\n",
       "      <td>0</td>\n",
       "      <td>0.437886</td>\n",
       "      <td>0.437599</td>\n",
       "      <td>-0.051134</td>\n",
       "    </tr>\n",
       "    <tr>\n",
       "      <th>1</th>\n",
       "      <td>103</td>\n",
       "      <td>103-face-1</td>\n",
       "      <td>face</td>\n",
       "      <td>1</td>\n",
       "      <td>0.443258</td>\n",
       "      <td>0.392901</td>\n",
       "      <td>-0.067054</td>\n",
       "    </tr>\n",
       "    <tr>\n",
       "      <th>2</th>\n",
       "      <td>103</td>\n",
       "      <td>103-face-2</td>\n",
       "      <td>face</td>\n",
       "      <td>2</td>\n",
       "      <td>0.443997</td>\n",
       "      <td>0.409998</td>\n",
       "      <td>-0.042990</td>\n",
       "    </tr>\n",
       "    <tr>\n",
       "      <th>3</th>\n",
       "      <td>103</td>\n",
       "      <td>103-face-3</td>\n",
       "      <td>face</td>\n",
       "      <td>3</td>\n",
       "      <td>0.435256</td>\n",
       "      <td>0.362771</td>\n",
       "      <td>-0.039492</td>\n",
       "    </tr>\n",
       "    <tr>\n",
       "      <th>4</th>\n",
       "      <td>103</td>\n",
       "      <td>103-face-4</td>\n",
       "      <td>face</td>\n",
       "      <td>4</td>\n",
       "      <td>0.443780</td>\n",
       "      <td>0.381762</td>\n",
       "      <td>-0.068013</td>\n",
       "    </tr>\n",
       "  </tbody>\n",
       "</table>\n",
       "</div>"
      ],
      "text/plain": [
       "   frame      row_id  type  landmark_index         x         y         z\n",
       "0    103  103-face-0  face               0  0.437886  0.437599 -0.051134\n",
       "1    103  103-face-1  face               1  0.443258  0.392901 -0.067054\n",
       "2    103  103-face-2  face               2  0.443997  0.409998 -0.042990\n",
       "3    103  103-face-3  face               3  0.435256  0.362771 -0.039492\n",
       "4    103  103-face-4  face               4  0.443780  0.381762 -0.068013"
      ]
     },
     "execution_count": 4,
     "metadata": {},
     "output_type": "execute_result"
    }
   ],
   "source": [
    "df.head()"
   ]
  },
  {
   "cell_type": "code",
   "execution_count": 3,
   "metadata": {},
   "outputs": [
    {
     "name": "stdout",
     "output_type": "stream",
     "text": [
      "<class 'pandas.core.frame.DataFrame'>\n",
      "RangeIndex: 57015 entries, 0 to 57014\n",
      "Data columns (total 7 columns):\n",
      " #   Column          Non-Null Count  Dtype  \n",
      "---  ------          --------------  -----  \n",
      " 0   frame           57015 non-null  int16  \n",
      " 1   row_id          57015 non-null  object \n",
      " 2   type            57015 non-null  object \n",
      " 3   landmark_index  57015 non-null  int16  \n",
      " 4   x               53193 non-null  float64\n",
      " 5   y               53193 non-null  float64\n",
      " 6   z               53193 non-null  float64\n",
      "dtypes: float64(3), int16(2), object(2)\n",
      "memory usage: 2.4+ MB\n"
     ]
    }
   ],
   "source": [
    "df.info()"
   ]
  },
  {
   "cell_type": "code",
   "execution_count": 5,
   "metadata": {},
   "outputs": [
    {
     "data": {
      "text/html": [
       "<div>\n",
       "<style scoped>\n",
       "    .dataframe tbody tr th:only-of-type {\n",
       "        vertical-align: middle;\n",
       "    }\n",
       "\n",
       "    .dataframe tbody tr th {\n",
       "        vertical-align: top;\n",
       "    }\n",
       "\n",
       "    .dataframe thead th {\n",
       "        text-align: right;\n",
       "    }\n",
       "</style>\n",
       "<table border=\"1\" class=\"dataframe\">\n",
       "  <thead>\n",
       "    <tr style=\"text-align: right;\">\n",
       "      <th></th>\n",
       "      <th>frame</th>\n",
       "      <th>landmark_index</th>\n",
       "      <th>x</th>\n",
       "      <th>y</th>\n",
       "      <th>z</th>\n",
       "    </tr>\n",
       "  </thead>\n",
       "  <tbody>\n",
       "    <tr>\n",
       "      <th>count</th>\n",
       "      <td>57015.00000</td>\n",
       "      <td>57015.000000</td>\n",
       "      <td>53193.000000</td>\n",
       "      <td>53193.000000</td>\n",
       "      <td>53193.000000</td>\n",
       "    </tr>\n",
       "    <tr>\n",
       "      <th>mean</th>\n",
       "      <td>155.00000</td>\n",
       "      <td>202.994475</td>\n",
       "      <td>0.438283</td>\n",
       "      <td>0.457483</td>\n",
       "      <td>-0.047699</td>\n",
       "    </tr>\n",
       "    <tr>\n",
       "      <th>std</th>\n",
       "      <td>30.30978</td>\n",
       "      <td>146.791506</td>\n",
       "      <td>0.115117</td>\n",
       "      <td>0.268900</td>\n",
       "      <td>0.294060</td>\n",
       "    </tr>\n",
       "    <tr>\n",
       "      <th>min</th>\n",
       "      <td>103.00000</td>\n",
       "      <td>0.000000</td>\n",
       "      <td>-0.042923</td>\n",
       "      <td>0.248094</td>\n",
       "      <td>-2.838325</td>\n",
       "    </tr>\n",
       "    <tr>\n",
       "      <th>25%</th>\n",
       "      <td>129.00000</td>\n",
       "      <td>60.000000</td>\n",
       "      <td>0.372952</td>\n",
       "      <td>0.361456</td>\n",
       "      <td>-0.039124</td>\n",
       "    </tr>\n",
       "    <tr>\n",
       "      <th>50%</th>\n",
       "      <td>155.00000</td>\n",
       "      <td>196.000000</td>\n",
       "      <td>0.424128</td>\n",
       "      <td>0.409588</td>\n",
       "      <td>-0.009181</td>\n",
       "    </tr>\n",
       "    <tr>\n",
       "      <th>75%</th>\n",
       "      <td>181.00000</td>\n",
       "      <td>332.000000</td>\n",
       "      <td>0.489478</td>\n",
       "      <td>0.474334</td>\n",
       "      <td>0.025908</td>\n",
       "    </tr>\n",
       "    <tr>\n",
       "      <th>max</th>\n",
       "      <td>207.00000</td>\n",
       "      <td>467.000000</td>\n",
       "      <td>1.197836</td>\n",
       "      <td>2.591290</td>\n",
       "      <td>1.587503</td>\n",
       "    </tr>\n",
       "  </tbody>\n",
       "</table>\n",
       "</div>"
      ],
      "text/plain": [
       "             frame  landmark_index             x             y             z\n",
       "count  57015.00000    57015.000000  53193.000000  53193.000000  53193.000000\n",
       "mean     155.00000      202.994475      0.438283      0.457483     -0.047699\n",
       "std       30.30978      146.791506      0.115117      0.268900      0.294060\n",
       "min      103.00000        0.000000     -0.042923      0.248094     -2.838325\n",
       "25%      129.00000       60.000000      0.372952      0.361456     -0.039124\n",
       "50%      155.00000      196.000000      0.424128      0.409588     -0.009181\n",
       "75%      181.00000      332.000000      0.489478      0.474334      0.025908\n",
       "max      207.00000      467.000000      1.197836      2.591290      1.587503"
      ]
     },
     "execution_count": 5,
     "metadata": {},
     "output_type": "execute_result"
    }
   ],
   "source": [
    "df.describe() # doesn't make much sense"
   ]
  },
  {
   "cell_type": "code",
   "execution_count": null,
   "metadata": {},
   "outputs": [],
   "source": []
  }
 ],
 "metadata": {
  "kernelspec": {
   "display_name": ".venv",
   "language": "python",
   "name": "python3"
  },
  "language_info": {
   "codemirror_mode": {
    "name": "ipython",
    "version": 3
   },
   "file_extension": ".py",
   "mimetype": "text/x-python",
   "name": "python",
   "nbconvert_exporter": "python",
   "pygments_lexer": "ipython3",
   "version": "3.9.8"
  },
  "orig_nbformat": 4
 },
 "nbformat": 4,
 "nbformat_minor": 2
}
