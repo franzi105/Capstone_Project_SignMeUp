{
 "cells": [
  {
   "attachments": {},
   "cell_type": "markdown",
   "metadata": {},
   "source": [
    "# __Kaggle Competition__: Google - Isolated Sign Language Recognition - Domain Knowledge"
   ]
  },
  {
   "attachments": {},
   "cell_type": "markdown",
   "metadata": {},
   "source": [
    "https://www.kaggle.com/competitions/asl-signs"
   ]
  },
  {
   "attachments": {},
   "cell_type": "markdown",
   "metadata": {},
   "source": [
    "## __Overview__"
   ]
  },
  {
   "attachments": {},
   "cell_type": "markdown",
   "metadata": {},
   "source": [
    "### __Description__"
   ]
  },
  {
   "attachments": {},
   "cell_type": "markdown",
   "metadata": {},
   "source": [
    "#### __Goal of the Competition__"
   ]
  },
  {
   "attachments": {},
   "cell_type": "markdown",
   "metadata": {},
   "source": [
    "The goal of this competition is to classify isolated American Sign Language (ASL) signs. You will create a [TensorFlow Lite](https://www.tensorflow.org/lite) model trained on labeled landmark data extracted using the [MediaPipe Holistic Solution](https://google.github.io/mediapipe/solutions/holistic.html).\n",
    "\n",
    "Your work may improve the ability of PopSign* to help relatives of deaf children learn basic signs and communicate better with their loved ones.^"
   ]
  },
  {
   "attachments": {},
   "cell_type": "markdown",
   "metadata": {},
   "source": [
    "[![IMAGE ALT TEXT HERE](https://img.youtube.com/vi/jcyWo_1Q_jY/0.jpg)](https://www.youtube.com/watch?v=jcyWo_1Q_jY)"
   ]
  },
  {
   "attachments": {},
   "cell_type": "markdown",
   "metadata": {},
   "source": [
    "#### __Context__"
   ]
  },
  {
   "attachments": {},
   "cell_type": "markdown",
   "metadata": {},
   "source": [
    "##### __Every day, 33 babies are born with permanent hearing loss in the U.S.__"
   ]
  },
  {
   "attachments": {},
   "cell_type": "markdown",
   "metadata": {},
   "source": [
    "Around 90% of which are born to hearing parents many of which may not know American Sign Language. (kdhe.ks.gov, deafchildren.org) Without sign language, deaf babies are at risk of Language Deprivation Syndrome. This syndrome is characterized by a lack of access to naturally occurring language acquisition during their critical language-learning years. It can cause serious impacts on different aspects of their lives, such as relationships, education, and employment."
   ]
  },
  {
   "attachments": {},
   "cell_type": "markdown",
   "metadata": {},
   "source": [
    "##### __Learning sign language is challenging.__"
   ]
  },
  {
   "attachments": {},
   "cell_type": "markdown",
   "metadata": {},
   "source": [
    "Learning American Sign Language is as difficult for English speakers as learning Japanese. (jstor.org) It takes time and resources, which many parents don't have. They want to learn sign language, but it's hard when they are working long hours just to make ends meet. And even if they find the time and money for classes, the classes are often far away."
   ]
  },
  {
   "attachments": {},
   "cell_type": "markdown",
   "metadata": {},
   "source": [
    "##### __Games can help.__"
   ]
  },
  {
   "attachments": {},
   "cell_type": "markdown",
   "metadata": {},
   "source": [
    "PopSign is a smartphone game app that makes learning American Sign Language fun, interactive, and accessible. Players match videos of ASL signs with bubbles containing written English words to pop them.\n",
    "PopSign is designed to help parents with deaf children learn ASL, but it's open to anyone who wants to learn sign language vocabulary. By adding a sign language recognizer from this competition, PopSign players will be able to sign the type of bubble they want to shoot, providing the player with the opportunity to practice the sign themselves instead of just watching videos of other people signing."
   ]
  },
  {
   "attachments": {},
   "cell_type": "markdown",
   "metadata": {},
   "source": [
    "##### __You can help connect deaf children and their parents.__"
   ]
  },
  {
   "attachments": {},
   "cell_type": "markdown",
   "metadata": {},
   "source": [
    "By training a sign language recognizer for PopSign, you can help make the game more interactive and improve the learning and confidence of players who want to learn sign language to communicate with their loved ones."
   ]
  },
  {
   "attachments": {},
   "cell_type": "markdown",
   "metadata": {},
   "source": [
    "##### __Why TensorFlow Lite__"
   ]
  },
  {
   "attachments": {},
   "cell_type": "markdown",
   "metadata": {},
   "source": [
    "To allow the ML model to run on device in an attempt to limit latency inside the game, PopSign doesn’t send user videos to the cloud. Therefore, all inference must be done on the phone itself. PopSign is building its recognition pipeline on top of TensorFlow Lite, which runs on both Android and iOS. In order for the competition models to integrate seamlessly with PopSign, we are asking our competitors to submit their entries in the form of TensorFlow Lite models."
   ]
  },
  {
   "attachments": {},
   "cell_type": "markdown",
   "metadata": {},
   "source": [
    "##### __Special thanks to our partners__"
   ]
  },
  {
   "attachments": {},
   "cell_type": "markdown",
   "metadata": {},
   "source": [
    "We’d like to thank the Georgia Institute of Technology, the National Technical Institute for the Deaf at Rochester Institute of Technology, and Deaf Professional Arts Network for their work to create the dataset, the PopSign game, and overall competition preparation."
   ]
  },
  {
   "attachments": {},
   "cell_type": "markdown",
   "metadata": {},
   "source": [
    "| This is a Code Competition. Refer to [Code Requirements](https://kaggle.com/competitions/asl-signs/overview/code-requirements) for details |\n",
    "|--------------------------------------------------------------------------------------------------------------------------------------------|\n",
    "\n",
    "**PopSign is an app developed by the Georgia Institute of Technology and the National Technical Institute for the Deaf at Rochester Institute of Technology. The app is available in beta on Android and iOS.*\n",
    "\n",
    "^*We cannot guarantee the competition will benefit the competitors or the disabled community directly.*"
   ]
  },
  {
   "attachments": {},
   "cell_type": "markdown",
   "metadata": {},
   "source": [
    "### __Evaluation__"
   ]
  },
  {
   "attachments": {},
   "cell_type": "markdown",
   "metadata": {},
   "source": [
    "The evaluation metric for this contest is simple classification __accuracy__."
   ]
  },
  {
   "attachments": {},
   "cell_type": "markdown",
   "metadata": {},
   "source": [
    "#### __Submission Process__"
   ]
  },
  {
   "attachments": {},
   "cell_type": "markdown",
   "metadata": {},
   "source": [
    "In this competition you will be submitting a TensorFlow Lite model file. The model must take one or more landmark frames as an input and return a float vector (the predicted probabilities of each sign class) as the output. Your model must be packaged into a `submission.zip` file and compatible with the [TensorFlow Lite Runtime v2.9.1](https://www.tensorflow.org/lite/guide/python#run_an_inference_using_tflite_runtime). You are welcome to train your model using the framework of your choice, as long as you convert the model checkpoint into the tflite format prior to submission.\n",
    "\n",
    "Your model must also perform inference with less than 100 milliseconds of latency per video on average and use less than 40 MB of storage space. Expect to see approximately 40,000 videos in the test set. We allow an additional 10 minute buffer for loading the data and miscellaneous overhead.\n",
    "\n",
    "Each video is loaded with the following function:"
   ]
  },
  {
   "attachments": {},
   "cell_type": "markdown",
   "metadata": {},
   "source": [
    "```python\n",
    "ROWS_PER_FRAME = 543  # number of landmarks per frame\n",
    "\n",
    "def load_relevant_data_subset(pq_path):\n",
    "    data_columns = ['x', 'y', 'z']\n",
    "    data = pd.read_parquet(pq_path, columns=data_columns)\n",
    "    n_frames = int(len(data) / ROWS_PER_FRAME)\n",
    "    data = data.values.reshape(n_frames, ROWS_PER_FRAME, len(data_columns))\n",
    "    return data.astype(np.float32)\n",
    "```"
   ]
  },
  {
   "attachments": {},
   "cell_type": "markdown",
   "metadata": {},
   "source": [
    "Inference is performed (roughly) as follows, ignoring details like how we manage multiple videos:"
   ]
  },
  {
   "attachments": {},
   "cell_type": "markdown",
   "metadata": {},
   "source": [
    "```python\n",
    "import tflite_runtime.interpreter as tflite\n",
    "interpreter = tflite.Interpreter(model_path)\n",
    "\n",
    "found_signatures = list(interpreter.get_signature_list().keys())\n",
    "\n",
    "if REQUIRED_SIGNATURE not in found_signatures:\n",
    "    raise KernelEvalException('Required input signature not found.')\n",
    "\n",
    "prediction_fn = interpreter.get_signature_runner(\"serving_default\")\n",
    "output = prediction_fn(inputs=frames)\n",
    "sign = np.argmax(output[\"outputs\"])\n",
    "```"
   ]
  },
  {
   "attachments": {},
   "cell_type": "markdown",
   "metadata": {},
   "source": [
    "### __Timeline__"
   ]
  },
  {
   "attachments": {},
   "cell_type": "markdown",
   "metadata": {},
   "source": [
    "- __February 23, 2023__ - Start Date.\n",
    "\n",
    "- __April 25, 2023__ - Entry Deadline. You must accept the competition rules before this date in order to compete.\n",
    "\n",
    "- __April 25, 2023__ - Team Merger Deadline. This is the last day participants may join or merge teams.\n",
    "\n",
    "- __May 2, 2023__ - Final Submission Deadline.\n",
    "\n",
    "All deadlines are at 11:59 PM UTC on the corresponding day unless otherwise noted. The competition organizers reserve the right to update the contest timeline if they deem it necessary."
   ]
  },
  {
   "attachments": {},
   "cell_type": "markdown",
   "metadata": {},
   "source": [
    "### __Code Requirements__"
   ]
  },
  {
   "attachments": {},
   "cell_type": "markdown",
   "metadata": {},
   "source": [
    "#### __This is a Code Competition__"
   ]
  },
  {
   "attachments": {},
   "cell_type": "markdown",
   "metadata": {},
   "source": [
    "Submissions to this competition must be made through Notebooks. In order for the \"Submit\" button to be active after a commit, the following conditions must be met:\n",
    "\n",
    "* CPU Notebook <= 9 hours run-time\n",
    "* GPU Notebook <= 9 hours run-time\n",
    "* Internet access disabled\n",
    "* Freely & publicly available external data is allowed, including pre-trained models\n",
    "* Submission file must be named submission.zip.\n",
    "\n",
    "Please see the Code [Competition FAQ](https://www.kaggle.com/docs/competitions#notebooks-only-FAQ) for more information on how to submit. And review the [code debugging doc](https://www.kaggle.com/code-competition-debugging) if you are encountering submission errors."
   ]
  },
  {
   "attachments": {},
   "cell_type": "markdown",
   "metadata": {},
   "source": [
    "### __Acknowledgements__"
   ]
  },
  {
   "attachments": {},
   "cell_type": "markdown",
   "metadata": {},
   "source": [
    "The dataset provided by Deaf Professional Arts Network and the Georgia Institute of Technology is licensed under [CC-BY 4.0](https://creativecommons.org/licenses/by/4.0/). Kaggle and Google do not own and have not validated the dataset in any way."
   ]
  },
  {
   "attachments": {},
   "cell_type": "markdown",
   "metadata": {},
   "source": [
    "### __Data Card__"
   ]
  },
  {
   "attachments": {},
   "cell_type": "markdown",
   "metadata": {},
   "source": [
    "##### __Dataset Summary__"
   ]
  },
  {
   "attachments": {},
   "cell_type": "markdown",
   "metadata": {},
   "source": [
    "The Isolated Sign Language Recognition corpus (version 1.0) is a collection of hand and facial landmarks generated by Mediapipe version 0.9.0.1 on ~100k videos of isolated signs performed by 21 Deaf signers from a 250-sign vocabulary."
   ]
  },
  {
   "attachments": {},
   "cell_type": "markdown",
   "metadata": {},
   "source": [
    "##### __Supported Tasks and Leaderboards__"
   ]
  },
  {
   "attachments": {},
   "cell_type": "markdown",
   "metadata": {},
   "source": [
    "https://www.kaggle.com/competitions/asl-signs/leaderboard"
   ]
  },
  {
   "attachments": {},
   "cell_type": "markdown",
   "metadata": {},
   "source": [
    "#### __Dataset Structure__"
   ]
  },
  {
   "attachments": {},
   "cell_type": "markdown",
   "metadata": {},
   "source": [
    "##### __Data Instances__"
   ]
  },
  {
   "attachments": {},
   "cell_type": "markdown",
   "metadata": {},
   "source": [
    "{'frame': 27, 'row_id': '27-face-0', 'type': 'face', 'landmark_index': 0, 'x': 0.4764270484447479, 'y': 0.3772650957107544, 'z': -0.05066078156232834}"
   ]
  },
  {
   "attachments": {},
   "cell_type": "markdown",
   "metadata": {},
   "source": [
    "##### __Data Fields__"
   ]
  },
  {
   "attachments": {},
   "cell_type": "markdown",
   "metadata": {},
   "source": [
    "See https://www.kaggle.com/competitions/asl-signs/data"
   ]
  },
  {
   "attachments": {},
   "cell_type": "markdown",
   "metadata": {},
   "source": [
    "#### __Dataset Creation__"
   ]
  },
  {
   "attachments": {},
   "cell_type": "markdown",
   "metadata": {},
   "source": [
    "##### __Curation Rationale__"
   ]
  },
  {
   "attachments": {},
   "cell_type": "markdown",
   "metadata": {},
   "source": [
    "The signs in the dataset represent 250 of the first concepts taught to infants in any language. The goal is to create an isolated sign recognizer to incorporate into educational games for helping hearing parents of Deaf children learn American Sign Language (ASL). Around 90% of deaf infants are born to hearing parents, many of whom may not know American Sign Language. (kdhe.ks.gov, deafchildren.org). Surrounding Deaf children with sign helps avoid Language Deprivation Syndrome. This syndrome is characterized by a lack of access to naturally occurring language acquisition during the critical language-learning years. It can cause serious impacts on different aspects of their lives, such as relationships, education, and employment.\n",
    "\n",
    "Learning American Sign Language (ASL) is as difficult for English speakers as learning Japanese (jstor.org). It takes time and resources that many parents don't have. They want to learn sign language, but it's hard when they are working long hours just to make ends meet. And even if they find the time and money for classes, the classes are often far away. \n",
    "PopSign is a smartphone game app that makes learning American Sign Language fun, interactive, and accessible. Currently, players match videos of ASL signs with bubbles containing written English words to pop the bubbles and advance game play.\n",
    "By adding isolated sign language recognition to Popsign, parents will play the game by making the signs instead of watching videos of signing. This sort of expressive practice improves confidence for communicating with Deaf children and the Deaf community."
   ]
  },
  {
   "attachments": {},
   "cell_type": "markdown",
   "metadata": {},
   "source": [
    "##### __Source Data__"
   ]
  },
  {
   "attachments": {},
   "cell_type": "markdown",
   "metadata": {},
   "source": [
    "###### __Initial Data Collection and Normalization__"
   ]
  },
  {
   "attachments": {},
   "cell_type": "markdown",
   "metadata": {},
   "source": [
    "Signers who communicate using American Sign Language as their primary language were recruited from across the United States. They were shipped a Pixel 4a smartphone with an installed collection app. The app prompted the signer with the concept in English to sign, randomly selected from the 250-sign vocabulary. Signers pressed and held an on-screen button on the phone to record video while signing each concept, releasing the button after each sign. The video of the sign is extracted with a buffer 0.5 seconds before the press of the button and 0.5 seconds after the release of the button. This method of video collection matches the game interface where players touch the screen to aim a bubble and release the touch after they have finished signing.\n",
    "\n",
    "While the app provided a video example of the sign desired, signers routinely made variants of the sign based on their background and region. More rarely, signers might fingerspell a sign, miss it completely, or produce the wrong sign. Extraneous movements, such as scratching an itch, or the ending movement from the previous sign or the onset of the next sign, are sometimes included. Conversely, some signers pressed the button late or released the button early, causing cropping in some sign examples. Some signers sign with their left hand; others sign with their right. Some signers switch their signing hand. All of these situations must be handled by the game’s recognition system.\n",
    "\n",
    "While the game includes 250 signs, it only needs to distinguish between five signs at a time due to the game design. Since accuracy increases as vocabulary decreases, even a recognition system with 60% accuracy on the 250-sign task should perform well when distinguishing between five signs."
   ]
  },
  {
   "attachments": {},
   "cell_type": "markdown",
   "metadata": {},
   "source": [
    "###### __Who are the source language producers?__"
   ]
  },
  {
   "attachments": {},
   "cell_type": "markdown",
   "metadata": {},
   "source": [
    "21 signers recruited by the Deaf Professional Arts Network provided the sign. They are from many regions across the United States and all use American Sign Language as their primary form of communication. They represent a mix of skin tones and genders."
   ]
  },
  {
   "attachments": {},
   "cell_type": "markdown",
   "metadata": {},
   "source": [
    "##### __Annotations__"
   ]
  },
  {
   "attachments": {},
   "cell_type": "markdown",
   "metadata": {},
   "source": [
    "###### __Annotation process__"
   ]
  },
  {
   "attachments": {},
   "cell_type": "markdown",
   "metadata": {},
   "source": [
    "Each video was annotated at creation time by the smartphone app. Videos were coarsely reviewed to attempt to remove poor recordings, but little judgment was made on the correctness or quality of the sign itself."
   ]
  },
  {
   "attachments": {},
   "cell_type": "markdown",
   "metadata": {},
   "source": [
    "###### __Who are the annotators?__"
   ]
  },
  {
   "attachments": {},
   "cell_type": "markdown",
   "metadata": {},
   "source": [
    "Researchers at the Georgia Institute of Technology coarsely reviewed the individual videos."
   ]
  },
  {
   "attachments": {},
   "cell_type": "markdown",
   "metadata": {},
   "source": [
    "##### __Personal and Sensitive Information__"
   ]
  },
  {
   "attachments": {},
   "cell_type": "markdown",
   "metadata": {},
   "source": [
    "The landmark data has been de-identified. Landmark data should not be used to identify or re-identify an individual. Landmark data is not intended to enable any form of identity recognition or store any unique biometric identification."
   ]
  },
  {
   "attachments": {},
   "cell_type": "markdown",
   "metadata": {},
   "source": [
    "#### __Considerations for Using the Data__"
   ]
  },
  {
   "attachments": {},
   "cell_type": "markdown",
   "metadata": {},
   "source": [
    "##### __Social Impact of Dataset__"
   ]
  },
  {
   "attachments": {},
   "cell_type": "markdown",
   "metadata": {},
   "source": [
    "The Isolated Sign Language Recognition corpus (version 1.0), which contains Mediapipe landmarks only, will be used to create sign language recognition systems for Popsign, an educational game that encourages hearing parents of deaf infants to practice their ASL signing. The same dataset can be used to add signing to other games. For example, one proposed use is to create a game that allows Deaf children to practice their written English skills. The video set upon which the corpus is based is being used to examine variations in signing and provide examples of those variations for the wider Deaf community."
   ]
  },
  {
   "attachments": {},
   "cell_type": "markdown",
   "metadata": {},
   "source": [
    "##### __Discussion of Biases__"
   ]
  },
  {
   "attachments": {},
   "cell_type": "markdown",
   "metadata": {},
   "source": [
    "While ASL is the most common sign language used in the United States, there are many sign languages, including British Sign Language, Native American Sign Languages, Hawaiian Sign Language, French Sign Language, and Signed Exact English. In addition, there are many regional and cultural accents associated with sign in the United States, including Black Sign Language. This dataset focuses on American Sign Language, but it does not capture a representative sample of all the sign variations that would be commonly understood in conversation. ASL has a grammar that is very different from English, and isolated signs do not capture the variation that occurs when a concept is signed in context. A larger number of signers is necessary to better represent skin tones, hand features, and different levels of signing dexterity."
   ]
  },
  {
   "attachments": {},
   "cell_type": "markdown",
   "metadata": {},
   "source": [
    "##### __Other Known Limitations__"
   ]
  },
  {
   "attachments": {},
   "cell_type": "markdown",
   "metadata": {},
   "source": [
    "This isolated sign dataset is intended to help create educational games for teaching ASL, and is not appropriate for other purposes such as ASL-to-English translation or natural language interfaces for computers."
   ]
  },
  {
   "attachments": {},
   "cell_type": "markdown",
   "metadata": {},
   "source": [
    "#### __Additional Information__"
   ]
  },
  {
   "attachments": {},
   "cell_type": "markdown",
   "metadata": {},
   "source": [
    "##### __Dataset Curators__"
   ]
  },
  {
   "attachments": {},
   "cell_type": "markdown",
   "metadata": {},
   "source": [
    "The Deaf Professional Arts Network (DPAN), is a 501(c)(3) non-profit founded in 2006 to make music, entertainment, and media accessible. The Georgia Institute of Technology is a top-10 public research university committed to improving the human condition through advanced science and technology. The National Technical Institute for the Deaf is one of the nine colleges of the Rochester Institute of Technology and is home to the world’s first and largest technological college for deaf and hard-of-hearing students."
   ]
  },
  {
   "attachments": {},
   "cell_type": "markdown",
   "metadata": {},
   "source": [
    "##### __Licensing Information__"
   ]
  },
  {
   "attachments": {},
   "cell_type": "markdown",
   "metadata": {},
   "source": [
    "The dataset provided by Deaf Professional Arts Network and the Georgia Institute of Technology is licensed under CC-BY."
   ]
  },
  {
   "attachments": {},
   "cell_type": "markdown",
   "metadata": {},
   "source": [
    "##### __Contributions__"
   ]
  },
  {
   "attachments": {},
   "cell_type": "markdown",
   "metadata": {},
   "source": [
    "Thanks to the staff at DPAN and the students and faculty at Georgia Tech and NTID who make Popsign and this dataset possible."
   ]
  },
  {
   "attachments": {},
   "cell_type": "markdown",
   "metadata": {},
   "source": [
    "______________"
   ]
  },
  {
   "attachments": {},
   "cell_type": "markdown",
   "metadata": {},
   "source": [
    "## __Data__"
   ]
  },
  {
   "attachments": {},
   "cell_type": "markdown",
   "metadata": {},
   "source": [
    "### __Dataset Description__"
   ]
  },
  {
   "attachments": {},
   "cell_type": "markdown",
   "metadata": {},
   "source": [
    "Deaf children are often born to hearing parents who do not know sign language. Your challenge in this competition is to help identify signs made in processed videos, which will support the development of mobile apps to help teach parents sign language so they can communicate with their Deaf children.\n",
    "\n",
    "This competition requires submissions to be made in the form of [TensorFlow Lite models](https://www.tensorflow.org/lite). You are welcome to train your model using the framework of your choice as long as you convert the model checkpoint into the tflite format prior to submission. Please see [the evaluation page](https://www.kaggle.com/competitions/asl-signs/overview/evaluation) for details."
   ]
  },
  {
   "attachments": {},
   "cell_type": "markdown",
   "metadata": {},
   "source": [
    "##### __train_landmark_files/[participant_id]/[sequence_id].parquet__"
   ]
  },
  {
   "attachments": {},
   "cell_type": "markdown",
   "metadata": {},
   "source": [
    "The landmark data. The landmarks were extracted from raw videos with the [MediaPipe holistic model](https://google.github.io/mediapipe/solutions/holistic.html). Not all of the frames necessarily had visible hands or hands that could be detected by the model. \n",
    "\n",
    "*Landmark data should not be used to identify or re-identify an individual. Landmark data is not intended to enable any form of identity recognition or store any unique biometric identification.*\n",
    "\n",
    "- `frame` - The frame number in the raw video.\n",
    "- `row_id` - A unique identifier for the row.\n",
    "- `type` - The type of landmark. One of ['face', 'left_hand', 'pose', 'right_hand'].\n",
    "- `landmark_index` - The landmark index number. Details of the hand landmark locations can be found here.\n",
    "- `[x/y/z]` - The normalized spatial coordinates of the landmark. These are the only columns that will be provided to your submitted model for inference. The MediaPipe model is not fully trained to predict depth so you may wish to ignore the z values.\n",
    "\n"
   ]
  },
  {
   "attachments": {},
   "cell_type": "markdown",
   "metadata": {},
   "source": [
    "##### [__train.csv__](../data/asl-signs/train.csv)"
   ]
  },
  {
   "attachments": {},
   "cell_type": "markdown",
   "metadata": {},
   "source": [
    "- `path` - The path to the landmark file.\n",
    "- `participant_id` - A unique identifier for the data contributor.\n",
    "- `sequence_id` - A unique identifier for the landmark sequence.\n",
    "- `sign` - The label for the landmark sequence."
   ]
  },
  {
   "attachments": {},
   "cell_type": "markdown",
   "metadata": {},
   "source": [
    "##### [__sign_to_prediction_index_map.json__ (3.35 kB)](../data/asl-signs/sign_to_prediction_index_map.json)"
   ]
  },
  {
   "attachments": {},
   "cell_type": "markdown",
   "metadata": {},
   "source": [
    "```bash\n",
    "kaggle competitions download -c asl-signs\n",
    "```"
   ]
  },
  {
   "attachments": {},
   "cell_type": "markdown",
   "metadata": {},
   "source": [
    "# __1. Domain Knowledge__: Sign Language"
   ]
  },
  {
   "attachments": {},
   "cell_type": "markdown",
   "metadata": {},
   "source": [
    "## __Basics of (American) Sign Language__"
   ]
  },
  {
   "attachments": {},
   "cell_type": "markdown",
   "metadata": {},
   "source": [
    "### Introduction"
   ]
  },
  {
   "attachments": {},
   "cell_type": "markdown",
   "metadata": {},
   "source": [
    "The Preservation of Sign Language by George W. Veditz (former president of National Association of the Deaf of the United States): "
   ]
  },
  {
   "attachments": {},
   "cell_type": "markdown",
   "metadata": {},
   "source": [
    "[![IMAGE ALT TEXT HERE](https://img.youtube.com/vi/XITbj3NTLUQ/0.jpg)](https://www.youtube.com/watch?v=XITbj3NTLUQ)"
   ]
  },
  {
   "attachments": {},
   "cell_type": "markdown",
   "metadata": {},
   "source": [
    "### American Sign Language"
   ]
  },
  {
   "attachments": {},
   "cell_type": "markdown",
   "metadata": {},
   "source": [
    "- one out of many other sign languages in the world\n",
    "- visual-manual modality\n",
    "- fully-fledged language with own grammar and lexicon\n",
    "- distinct from English, e.g. British and American sign languages differ\n",
    "- regional accents, dialect, slang, etc. \n",
    "- fingerspelling: only for names or to indicate an English word\n"
   ]
  },
  {
   "attachments": {},
   "cell_type": "markdown",
   "metadata": {},
   "source": [
    "### Fingerspelling"
   ]
  },
  {
   "attachments": {},
   "cell_type": "markdown",
   "metadata": {},
   "source": [
    "Palm usually faces the viewer! "
   ]
  },
  {
   "attachments": {},
   "cell_type": "markdown",
   "metadata": {},
   "source": [
    "![ASL finger spelling](https://www.researchgate.net/profile/Sergio-Benini/publication/259921409/figure/fig1/AS:614251592949760@1523460400036/ASL-finger-spelling-alphabet-reproduced-from-3.png)"
   ]
  },
  {
   "attachments": {},
   "cell_type": "markdown",
   "metadata": {},
   "source": [
    "### Basic Signs"
   ]
  },
  {
   "attachments": {},
   "cell_type": "markdown",
   "metadata": {},
   "source": [
    "![Basic ASL](https://www.dummies.com/wp-content/uploads/Sign-language-essential-expressions.png)"
   ]
  },
  {
   "attachments": {},
   "cell_type": "markdown",
   "metadata": {},
   "source": [
    "### ASL grammar basics"
   ]
  },
  {
   "attachments": {},
   "cell_type": "markdown",
   "metadata": {},
   "source": [
    "__Spatial grammar and simultaneity__\n",
    "\n",
    "- main difference: spoken language is linear vs. visual signs can be simultaneous!  \n",
    "- classifiers (handshapes) to visually indicate\n",
    "    - objects\n",
    "    - people\n",
    "    - size and shape\n",
    "    - location\n",
    "    - movement\n",
    "        \n",
    "__Iconicity__\n",
    "- similarity between “form” and “meaning” \n",
    "\n",
    "__Non-manual elements__ \n",
    "- movements of body, head, eyebrows, eyes, cheeks, mouth\n",
    "    - e.g. facial expressions accompany verbs of emotion, as in the sign for angry\n",
    "    - e.g. “not yet”: requires that the tongue touch the lower lip and that the head rotate from side to side, in addition to - the manual part of the sign\n",
    "    - e.g. asking a question: \n",
    "        - for “yes” or “no” answer: raise eyebrows\n",
    "        - for more detailed answer: lower eybrows\n",
    "\n"
   ]
  },
  {
   "attachments": {},
   "cell_type": "markdown",
   "metadata": {},
   "source": [
    "### How many signs?"
   ]
  },
  {
   "attachments": {},
   "cell_type": "markdown",
   "metadata": {},
   "source": [
    "About 10,000 different ASL signs exist that corresponds to English, which has about 200,000 words…\n",
    "\n",
    "--> conciseness, efficiency, simultaneity\n",
    "\n",
    "--> language restricted vocabulary\n",
    "\t\n"
   ]
  },
  {
   "attachments": {},
   "cell_type": "markdown",
   "metadata": {},
   "source": [
    "### References"
   ]
  },
  {
   "attachments": {},
   "cell_type": "markdown",
   "metadata": {},
   "source": [
    "https://www.nidcd.nih.gov/health/american-sign-language\n",
    "\n",
    "https://en.wikipedia.org/wiki/Sign_language#Relationships_with_spoken_languages\n",
    "\n",
    "https://www.youtube.com/watch?v=XS2c07HCdyo\n",
    "\n",
    "https://link.springer.com/article/10.1007/s00371-014-0921-x\n",
    "\n",
    "https://www.youtube.com/watch?v=BzGkYu47wuk\n",
    "\n",
    "https://www.babiesandlanguage.com/what-is-iconicity-and-arbitrariness/"
   ]
  },
  {
   "attachments": {},
   "cell_type": "markdown",
   "metadata": {},
   "source": [
    "## __Geographical and demographical statistics__"
   ]
  },
  {
   "attachments": {},
   "cell_type": "markdown",
   "metadata": {},
   "source": [
    "### How many sign languages are there? "
   ]
  },
  {
   "attachments": {},
   "cell_type": "markdown",
   "metadata": {},
   "source": [
    "- different sign languages used around the world\n",
    "- sign languages developed naturally through different groups of people interacting with each other\n",
    "- between 138 and 300 different types of sign language \n",
    "- countries that share the same spoken language do not necessarily have the same sign language \n",
    "\n",
    "Home Sign:\n",
    "- deaf children of hearing parents create their own signs\n",
    "- invented spontaneously by a deaf child who lacks accessible linguistic input    \n",
    "\n",
    "International Sign: \n",
    "- international communication system \n",
    "- highly variable type of signed communication used between two signers who lack a common sign language\n",
    "- no fixed grammar or lexicon; relies heavily on gestures\n",
    "- mostly used at international meetings or conferences of the deaf community\n",
    "\n"
   ]
  },
  {
   "attachments": {},
   "cell_type": "markdown",
   "metadata": {},
   "source": [
    "### Distribution around the globe"
   ]
  },
  {
   "attachments": {},
   "cell_type": "markdown",
   "metadata": {},
   "source": [
    "![Global Map of Sign Languages](https://upload.wikimedia.org/wikipedia/commons/e/ed/Sign_language_families.svg)"
   ]
  },
  {
   "attachments": {},
   "cell_type": "markdown",
   "metadata": {},
   "source": [
    "![#5d6a8f](https://placeholder.com/15/5d6a8f/000000?text) French Sign Language family\n",
    "\n",
    "![#1e2f5d](https://placeholder.com/15/1e2f5d/000000?text) American Sign Language (ASL) cluster, derived from FSL\n",
    "\n",
    "![#93a1c7](https://placeholder.com/15/93a1c7/000000?text) Russian Sign Language cluster, derived from FSL\n",
    "\n",
    "![#a8d3db](https://placeholder.com/15/a8d3db/000000?text) Czech Sign Language cluster, derived from FSL\n",
    "\n",
    "![#9c6cd0](https://placeholder.com/15/9c6cd0/000000?text) Danish Sign Language family, probably related to either FSL or SSL\n",
    "\n",
    "![#a596d8](https://placeholder.com/15/a596d8/000000?text) Swedish Sign Language family, probably related to DSL\n",
    "\n",
    "![#b08660](https://placeholder.com/15/b08660/000000?text) German Sign Language family\n",
    "\n",
    "![#660066](https://placeholder.com/15/660066/000000?text) Vietnamese sign languages, also some Thai and Lao SLs\n",
    "\n",
    "![#383834](https://placeholder.com/15/383834/000000?text) Arab sign-language family\n",
    "\n",
    "![#99ff00](https://placeholder.com/15/99ff00/000000?text) Indian Sign Language\n",
    "\n",
    "![#ff9691](https://placeholder.com/15/ff9691/000000?text) Chinese Sign Language (unrelated to Taiwanese Sign Language)\n",
    "\n",
    "![#bd4b31](https://placeholder.com/15/bd4b31/000000?text) Japanese Sign Language family (including Taiwanese Sign Language)\n",
    "\n",
    "![#4b874b](https://placeholder.com/15/4b874b/000000?text) BANZSL family (British, Australian and New Zealand Sign Language)\n",
    "\n",
    "![#1c5e31](https://placeholder.com/15/1c5e31/000000?text) South African Sign Language, derived from BANZSL\n",
    "\n",
    "![#fff200](https://placeholder.com/15/fff200/000000?text) Isolated languages\n",
    "\n",
    "![#e6e6e6](https://placeholder.com/15/e6e6e6/000000?text) No data\n"
   ]
  },
  {
   "attachments": {},
   "cell_type": "markdown",
   "metadata": {},
   "source": [
    "### Phylogeny of Sign Languages"
   ]
  },
  {
   "attachments": {},
   "cell_type": "markdown",
   "metadata": {},
   "source": [
    "![Phylogenetic Tree of Sign Languages](https://www.shh.mpg.de/1607317/original-1579622096.webp?t=eyJ3aWR0aCI6NjgyLCJmaWxlX2V4dGVuc2lvbiI6IndlYnAiLCJvYmpfaWQiOjE2MDczMTd9--b6a129694f8115ce0a2fe6f503dea46a3f8e36b9)"
   ]
  },
  {
   "attachments": {},
   "cell_type": "markdown",
   "metadata": {},
   "source": [
    "### Recognition of Sign Languages"
   ]
  },
  {
   "attachments": {},
   "cell_type": "markdown",
   "metadata": {},
   "source": [
    "![Global Map of Sign Language Recognition](https://1.bp.blogspot.com/-2Z5k0754f6o/YKaMHgBM9cI/AAAAAAAA6eY/zHUQRGHCMH8u7NYgLuZvtLvN5QGiSP_NACLcBGAsYHQ/s2580/SL%2BInfographic%2Brecogniton.png)"
   ]
  },
  {
   "attachments": {},
   "cell_type": "markdown",
   "metadata": {},
   "source": [
    "### How many people use Sign Language?"
   ]
  },
  {
   "attachments": {},
   "cell_type": "markdown",
   "metadata": {},
   "source": [
    "\n",
    "- 70 million hearing-impaired and deaf people all over the world use sign language (466 million deaf/hearing-impaired people in the world)\n",
    "- Estimates for sign language use are very crude, and definitions of what counts as proficiency are difficult\n",
    "- For most sign languages, there are no concrete estimates\n",
    "\n",
    "__ASL__:\n",
    "- In the United States, 500,000 hearing-impaired and deaf people use American sign language (ASL) \n",
    "- Only 1% of the hearing-impaired and deaf population in the United States\n",
    "- Not everyone with a hearing impairment has the resources to learn it\n",
    "- ASL is considered the fourth most-spoken language in the United States\n",
    "\n",
    "\n",
    "United Kingdom: over 80,000 British sign language speakers\n",
    "\n",
    "Indonesia: about 900,000 users of Indonesian sign language\n",
    "\n",
    "Germany: at least 200,000 people, of whom about 80,000 are deaf\n",
    "\n",
    "\n"
   ]
  },
  {
   "attachments": {},
   "cell_type": "markdown",
   "metadata": {},
   "source": [
    "### Reasons for usage"
   ]
  },
  {
   "attachments": {},
   "cell_type": "markdown",
   "metadata": {},
   "source": [
    "- deaf or hearing impaired people use sign languages to communicate\n",
    "- allows them to learn, work, access services, and be included in their communities\n",
    "\n",
    "- it’s also used by hearing people to communicate with deaf family member or friends\n",
    "- some people learn ASL as a second language to be helpful, and to be an interpreter  \n",
    "\n",
    "__Benefits from learning sign language:__\n",
    "\n",
    "- enhanced spatial reasoning - how we view visual information in our surroundings and consider three dimensional objects\n",
    "- activates how you interpret body language, improves non-verbal communication and brings charisma\n",
    "- helps with peripheral vision and reaction time\n",
    "- helps with long-term cognition\n",
    "- you can be helpful for others\n"
   ]
  },
  {
   "attachments": {},
   "cell_type": "markdown",
   "metadata": {},
   "source": [
    "![Info graphic deaf people world-wide and proportion coming from hearing families](https://1.bp.blogspot.com/-a0NWU7nmNh0/XYKUKIpt35I/AAAAAAAAg34/mw7nQMEQ5RIUCvyDrdet2PLuG9SCTFOjQCLcBGAsYHQ/s1600/SL%2BInfographic%2BPopulation.jpeg)"
   ]
  },
  {
   "attachments": {},
   "cell_type": "markdown",
   "metadata": {},
   "source": [
    "### References\n",
    "\n",
    "https://earthweb.com/sign-language-users/https://www.ai-media.tv/ai-media-blog/sign-language-alphabets-from-around-the-world/\n",
    "\n",
    "https://en.wikipedia.org/wiki/Sign_language\n",
    "\n",
    "https://www.unusualverse.com/2019/09/infographic-sign-language-rights-for-all.html\n",
    "\n",
    "https://www.deutschland.de/en/topic/life/germany-language-german-sign-language\n",
    "\n",
    "https://en.wikipedia.org/wiki/List_of_sign_languages_by_number_of_native_signers\n",
    "\n",
    "https://asianabsolute.co.uk/blog/2020/05/19/different-types-of-sign-language-used-around-the-world/\n",
    "\n",
    "https://www.shh.mpg.de/1607280/evolution-of-signed-languages "
   ]
  },
  {
   "attachments": {},
   "cell_type": "markdown",
   "metadata": {},
   "source": [
    "## __Learning sign language__"
   ]
  },
  {
   "attachments": {},
   "cell_type": "markdown",
   "metadata": {},
   "source": [
    "### Common methods"
   ]
  },
  {
   "attachments": {},
   "cell_type": "markdown",
   "metadata": {},
   "source": [
    "__Formal classes__: (schools, colleges, or community centers). \n",
    "- in-person \n",
    "- online \n",
    "\n",
    "__Self-study__: (through books, videos, or online resources).\n",
    "\n",
    "__Immersion__: this can be through attending deaf events, socializing with deaf individuals, or even living with deaf roommates or family members.\n",
    "\n",
    "__Language exchange__: Finding a deaf or hard-of-hearing individual who is willing to practice sign language. \n",
    "\n",
    "\n"
   ]
  },
  {
   "attachments": {},
   "cell_type": "markdown",
   "metadata": {},
   "source": [
    "### Why people learn sign language?"
   ]
  },
  {
   "attachments": {},
   "cell_type": "markdown",
   "metadata": {},
   "source": [
    "- Communication with deaf and hard-of-hearing individuals: it help break down barriers between hearing and non-hearing individuals.\n",
    "\n",
    "- Professional opportunities: in fields such as education, social work, and healthcare, where there may be a need to communicate with deaf and hard-of-hearing clients or patients.\n",
    "\n",
    "- Cultural interest\n",
    "\n",
    "- Personal growth\n",
    "\n",
    "- Communication with young children: Parents may learn sign language to communicate with young children who have not yet developed verbal language skills. \n",
    "\n",
    "- Enjoyment: Some people learn sign language simply for the joy and pleasure of learning a new language and skill.\n",
    "\n"
   ]
  },
  {
   "attachments": {},
   "cell_type": "markdown",
   "metadata": {},
   "source": [
    "## __Sign language apps__"
   ]
  },
  {
   "attachments": {},
   "cell_type": "markdown",
   "metadata": {},
   "source": [
    "__Yes, many. Some more popular than others__: \n",
    "\n",
    "ASL Dictionary: Available for iOS (https://apps.apple.com/us/app/asl-dictionary-sign-language/id421837323) and Android (https://play.google.com/store/apps/details?id=com.soardevelopment.asldictionary&hl=en_US&gl=US).\n",
    "\n",
    "SignSchool: Available for iOS (https://apps.apple.com/us/app/signschool-learn-asl/id1448369094) and Android (https://play.google.com/store/apps/details?id=com.signschool).\n",
    "\n",
    "Marlee Signs: Available for iOS (https://apps.apple.com/us/app/marlee-signs/id576760883).\n",
    "\n",
    "ProDeaf Translator: Available for iOS (https://apps.apple.com/us/app/prodeaf-translator/id1047513535) and Android (https://play.google.com/store/apps/details?id=com.prodeaf.interpreter&hl=en_US&gl=US).\n",
    "\n",
    "ASL Coach: Available for iOS (https://apps.apple.com/us/app/asl-coach/id966794847) and Android (https://play.google.com/store/apps/details?id=com.aslcoachingapp&hl=en_US&gl=US).\n",
    "\n",
    "Signily Keyboard: Available for iOS (https://apps.apple.com/us/app/signily-keyboard-asl-stickers/id1243185410).\n",
    "\n",
    "The ASL App: Available for iOS (https://apps.apple.com/us/app/the-asl-app/id1261131354).\n",
    "\n",
    "Hands-On ASL!: Available for iOS (https://apps.apple.com/us/app/hands-on-asl/id1472012624).\n",
    "\n",
    "ASL Pocket Sign: Available for iOS (https://apps.apple.com/us/app/asl-pocket-sign/id1073506174).\n",
    "\n",
    "My Smart Hands Baby Sign Language Dictionary: Available for iOS (https://apps.apple.com/us/app/my-smart-hands-baby-sign-language-dictionary/id367907212)."
   ]
  },
  {
   "attachments": {},
   "cell_type": "markdown",
   "metadata": {},
   "source": [
    "## __Impact of Sign Language__"
   ]
  },
  {
   "attachments": {},
   "cell_type": "markdown",
   "metadata": {},
   "source": [
    "### Do all deaf children learn ASL?\n"
   ]
  },
  {
   "attachments": {},
   "cell_type": "markdown",
   "metadata": {},
   "source": [
    "- children with hearing loss typically receive hearing aids or cochlear implants (CI)\n",
    "    - diagnosis in hospital\n",
    "    - CI implantation within the first year\n",
    "- thus many parents never teach their children ASL or at least do not learn it themselves\n",
    "- Problem: technology often does’t work very well, no way to predict whether it works\n",
    "    - one study: 47%  of deaf children stopped using their implants\n"
   ]
  },
  {
   "attachments": {},
   "cell_type": "markdown",
   "metadata": {},
   "source": [
    "### CI + spoken language or ASL?\n"
   ]
  },
  {
   "attachments": {},
   "cell_type": "markdown",
   "metadata": {},
   "source": [
    "CI (cochlear implants) + spoken language: \n",
    "- might hinder spoken language acquisition\n",
    "- spoken language with CI is super time sensitive\n",
    "- parents have to learn ASL too\n",
    "- learning ASL is time consuming and expensive \n",
    "\n",
    "(A)SL ((American) Sign Language): \n",
    "- protects from linguistic deprivation\n",
    "- promotes early parent-child communication\n",
    "- when CI fails, need a way of communicating\n",
    "- able to communicate across social circles\n",
    "- lip reading only about 60% accuracy\n",
    "- sign language correlates positively with written & spoken language development\n",
    "- impossible to predict if CI works\n",
    "\n"
   ]
  },
  {
   "attachments": {},
   "cell_type": "markdown",
   "metadata": {},
   "source": [
    "### Bilingual is ideal"
   ]
  },
  {
   "attachments": {},
   "cell_type": "markdown",
   "metadata": {},
   "source": [
    "- children display better mental flexibility, cognitive control, creative thinking\n",
    "- perform better academically, better communication with family\n",
    "- bad communication correlates to more symptoms of depression\n",
    "- more opportunities to socialize in both languages\n",
    "- alleviates stress concerning CI: you can have a full, rich life even if CI fails"
   ]
  },
  {
   "attachments": {},
   "cell_type": "markdown",
   "metadata": {},
   "source": [
    "### References"
   ]
  },
  {
   "attachments": {},
   "cell_type": "markdown",
   "metadata": {},
   "source": [
    "https://crownschool.uchicago.edu/ssa_magazine/sign-language-best-deaf-children.html\n",
    "\n",
    "https://www.researchgate.net/publication/278732836_Should_All_Deaf_Children_Learn_Sign_Language\n",
    "\n",
    "https://deafchildren.org/2019/02/deaf-adult-role-models/"
   ]
  }
 ],
 "metadata": {
  "kernelspec": {
   "display_name": ".venv",
   "language": "python",
   "name": "python3"
  },
  "language_info": {
   "codemirror_mode": {
    "name": "ipython",
    "version": 3
   },
   "file_extension": ".py",
   "mimetype": "text/x-python",
   "name": "python",
   "nbconvert_exporter": "python",
   "pygments_lexer": "ipython3",
   "version": "3.9.8"
  },
  "orig_nbformat": 4
 },
 "nbformat": 4,
 "nbformat_minor": 2
}
