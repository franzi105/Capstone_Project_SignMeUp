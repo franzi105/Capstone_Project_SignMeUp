{
 "cells": [
  {
   "attachments": {},
   "cell_type": "markdown",
   "metadata": {},
   "source": [
    "# Multivariate Classification"
   ]
  },
  {
   "attachments": {},
   "cell_type": "markdown",
   "metadata": {},
   "source": [
    "\n",
    "##### Reference : https://sktime-backup.readthedocs.io/en/v0.13.3/examples/02_classification.html\n"
   ]
  },
  {
   "attachments": {},
   "cell_type": "markdown",
   "metadata": {},
   "source": [
    "### Import Dependencies"
   ]
  },
  {
   "cell_type": "code",
   "execution_count": 29,
   "metadata": {},
   "outputs": [
    {
     "name": "stdout",
     "output_type": "stream",
     "text": [
      "Requirement already satisfied: sktime in /Users/verandaosmani/neuefische/Capstone_Project_SignMeUp/.venv/lib/python3.9/site-packages (0.17.1)\n",
      "Requirement already satisfied: scipy<2.0.0,>=1.2.0 in /Users/verandaosmani/neuefische/Capstone_Project_SignMeUp/.venv/lib/python3.9/site-packages (from sktime) (1.10.1)\n",
      "Requirement already satisfied: scikit-learn<1.3.0,>=0.24.0 in /Users/verandaosmani/neuefische/Capstone_Project_SignMeUp/.venv/lib/python3.9/site-packages (from sktime) (1.0.2)\n",
      "Requirement already satisfied: deprecated>=1.2.13 in /Users/verandaosmani/neuefische/Capstone_Project_SignMeUp/.venv/lib/python3.9/site-packages (from sktime) (1.2.13)\n",
      "Requirement already satisfied: pandas<2.0.0,>=1.1.0 in /Users/verandaosmani/neuefische/Capstone_Project_SignMeUp/.venv/lib/python3.9/site-packages (from sktime) (1.3.5)\n",
      "Requirement already satisfied: numba>=0.53 in /Users/verandaosmani/neuefische/Capstone_Project_SignMeUp/.venv/lib/python3.9/site-packages (from sktime) (0.56.4)\n",
      "Requirement already satisfied: numpy<1.25,>=1.21.0 in /Users/verandaosmani/neuefische/Capstone_Project_SignMeUp/.venv/lib/python3.9/site-packages (from sktime) (1.22.0)\n",
      "Requirement already satisfied: wrapt<2,>=1.10 in /Users/verandaosmani/neuefische/Capstone_Project_SignMeUp/.venv/lib/python3.9/site-packages (from deprecated>=1.2.13->sktime) (1.14.1)\n",
      "Requirement already satisfied: llvmlite<0.40,>=0.39.0dev0 in /Users/verandaosmani/neuefische/Capstone_Project_SignMeUp/.venv/lib/python3.9/site-packages (from numba>=0.53->sktime) (0.39.1)\n",
      "Requirement already satisfied: setuptools in /Users/verandaosmani/neuefische/Capstone_Project_SignMeUp/.venv/lib/python3.9/site-packages (from numba>=0.53->sktime) (58.1.0)\n",
      "Requirement already satisfied: pytz>=2017.3 in /Users/verandaosmani/neuefische/Capstone_Project_SignMeUp/.venv/lib/python3.9/site-packages (from pandas<2.0.0,>=1.1.0->sktime) (2023.3)\n",
      "Requirement already satisfied: python-dateutil>=2.7.3 in /Users/verandaosmani/neuefische/Capstone_Project_SignMeUp/.venv/lib/python3.9/site-packages (from pandas<2.0.0,>=1.1.0->sktime) (2.8.2)\n",
      "Requirement already satisfied: threadpoolctl>=2.0.0 in /Users/verandaosmani/neuefische/Capstone_Project_SignMeUp/.venv/lib/python3.9/site-packages (from scikit-learn<1.3.0,>=0.24.0->sktime) (3.1.0)\n",
      "Requirement already satisfied: joblib>=0.11 in /Users/verandaosmani/neuefische/Capstone_Project_SignMeUp/.venv/lib/python3.9/site-packages (from scikit-learn<1.3.0,>=0.24.0->sktime) (1.2.0)\n",
      "Requirement already satisfied: six>=1.5 in /Users/verandaosmani/neuefische/Capstone_Project_SignMeUp/.venv/lib/python3.9/site-packages (from python-dateutil>=2.7.3->pandas<2.0.0,>=1.1.0->sktime) (1.15.0)\n"
     ]
    }
   ],
   "source": [
    "# general \n",
    "import numpy as np\n",
    "import pandas as pd\n",
    "!pip install sktime\n",
    "\n",
    "# for data pre-processing\n",
    "from sklearn.model_selection import train_test_split\n",
    "\n",
    "# for model evaluation\n",
    "from sklearn.metrics import multilabel_confusion_matrix, accuracy_score, confusion_matrix, classification_report"
   ]
  },
  {
   "attachments": {},
   "cell_type": "markdown",
   "metadata": {},
   "source": [
    "### Load datasets\n",
    "\n",
    "Edit path for your computer"
   ]
  },
  {
   "cell_type": "code",
   "execution_count": null,
   "metadata": {},
   "outputs": [],
   "source": [
    "# load the data\n",
    "X = np.load(\"../data/X-data.npy\")\n",
    "y = np.load(\"../data/y-data.npy\")\n",
    "#make y 1-Dimensional because this is what SKTIME wants\n",
    "y = np.argmax(y, axis=1)\n",
    "\n",
    "#defining signs --> edit for specific subset of data\n",
    "actions = np.array ( ['alligator', 'radio', 'moon', 'sleep', 'grandpa', 'tiger', 'pencil', 'sleepy', 'grandma', 'chocolate'])"
   ]
  },
  {
   "attachments": {},
   "cell_type": "markdown",
   "metadata": {},
   "source": [
    "### Splitting Train and Test Data"
   ]
  },
  {
   "cell_type": "code",
   "execution_count": 31,
   "metadata": {},
   "outputs": [],
   "source": [
    "X_train, X_test, y_train, y_test = train_test_split(X, y, test_size=0.25)"
   ]
  },
  {
   "attachments": {},
   "cell_type": "markdown",
   "metadata": {},
   "source": [
    "### First Model: DrCIF Algorithm\n",
    "- The DrCIF algorithm stands for \"Distribution-Radius-based Classifier with Interval Features\". It is a time series classification algorithm that is based on the random forest of decision trees. The algorithm uses random intervals of the time series data to capture important temporal patterns and build decision trees on top of them. The DrCIF classifier from sktime.classification.interval_based module is an implementation of the DrCIF algorithm. In the code you provided, the n_estimators parameter of DrCIF is set to 10, which means that the algorithm will use a random forest of 10 decision trees."
   ]
  },
  {
   "attachments": {},
   "cell_type": "markdown",
   "metadata": {},
   "source": [
    "### Performing time series classification using the DrCIF algorithm"
   ]
  },
  {
   "attachments": {},
   "cell_type": "markdown",
   "metadata": {},
   "source": [
    "### keep in mind for DrCIfF time running is more than 1h. "
   ]
  },
  {
   "cell_type": "code",
   "execution_count": 16,
   "metadata": {},
   "outputs": [
    {
     "data": {
      "text/plain": [
       "0.46987951807228917"
      ]
     },
     "execution_count": 16,
     "metadata": {},
     "output_type": "execute_result"
    }
   ],
   "source": [
    "from sktime.classification.interval_based import DrCIF\n",
    "from sktime.transformations.panel.compose import ColumnConcatenator\n",
    "\n",
    "clf = ColumnConcatenator() * DrCIF(n_estimators=10)\n",
    "clf.fit(X_train, y_train)\n",
    "clf.score(X_test, y_test)"
   ]
  },
  {
   "attachments": {},
   "cell_type": "markdown",
   "metadata": {},
   "source": [
    "### Second model (baseline model): TimeSeriesForestClassifier:\n",
    "The TimeSeriesForestClassifier is another implementation of the random forest algorithm for time series classification, available in sktime.classification.interval_based module. Unlike DrCIF, this algorithm does not use interval-based features, but instead it applies random feature selection and random subspace projection to the input data. The n_estimators parameter of TimeSeriesForestClassifier is set to 5, which means that the algorithm will use a random forest of 5 decision trees."
   ]
  },
  {
   "cell_type": "code",
   "execution_count": 38,
   "metadata": {},
   "outputs": [
    {
     "name": "stderr",
     "output_type": "stream",
     "text": [
      "/Users/verandaosmani/neuefische/Capstone_Project_SignMeUp/.venv/lib/python3.9/site-packages/sktime/classification/base.py:664: UserWarning: Data seen by ClassifierPipeline instance has multivariate series, but this ClassifierPipeline instance cannot handle multivariate series. Calls with multivariate series may result in error or unreliable results.\n",
      "  warn(msg)\n",
      "/Users/verandaosmani/neuefische/Capstone_Project_SignMeUp/.venv/lib/python3.9/site-packages/sktime/classification/base.py:664: UserWarning: Data seen by ClassifierPipeline instance has multivariate series, but this ClassifierPipeline instance cannot handle multivariate series. Calls with multivariate series may result in error or unreliable results.\n",
      "  warn(msg)\n"
     ]
    },
    {
     "data": {
      "text/plain": [
       "0.3614457831325301"
      ]
     },
     "execution_count": 38,
     "metadata": {},
     "output_type": "execute_result"
    }
   ],
   "source": [
    "from sktime.classification.interval_based import TimeSeriesForestClassifier\n",
    "from sktime.transformations.panel.compose import ColumnConcatenator\n",
    "\n",
    "clf = ColumnConcatenator() * TimeSeriesForestClassifier(n_estimators=5)\n",
    "clf.fit(X_train, y_train)\n",
    "clf.score(X_test, y_test)"
   ]
  },
  {
   "attachments": {},
   "cell_type": "markdown",
   "metadata": {},
   "source": [
    "### keep in mind executing RandomizedSearchCV for Time Series forest Classifier takes 3h. "
   ]
  },
  {
   "cell_type": "code",
   "execution_count": 82,
   "metadata": {},
   "outputs": [
    {
     "name": "stdout",
     "output_type": "stream",
     "text": [
      "Fitting 5 folds for each of 5 candidates, totalling 25 fits\n"
     ]
    },
    {
     "name": "stderr",
     "output_type": "stream",
     "text": [
      "/Users/verandaosmani/neuefische/Capstone_Project_SignMeUp/.venv/lib/python3.9/site-packages/sktime/classification/base.py:664: UserWarning: Data seen by ClassifierPipeline instance has multivariate series, but this ClassifierPipeline instance cannot handle multivariate series. Calls with multivariate series may result in error or unreliable results.\n",
      "/Users/verandaosmani/neuefische/Capstone_Project_SignMeUp/.venv/lib/python3.9/site-packages/sktime/classification/base.py:664: UserWarning: Data seen by ClassifierPipeline instance has multivariate series, but this ClassifierPipeline instance cannot handle multivariate series. Calls with multivariate series may result in error or unreliable results.\n",
      "/Users/verandaosmani/neuefische/Capstone_Project_SignMeUp/.venv/lib/python3.9/site-packages/sktime/classification/base.py:664: UserWarning: Data seen by ClassifierPipeline instance has multivariate series, but this ClassifierPipeline instance cannot handle multivariate series. Calls with multivariate series may result in error or unreliable results.\n",
      "/Users/verandaosmani/neuefische/Capstone_Project_SignMeUp/.venv/lib/python3.9/site-packages/sktime/classification/base.py:664: UserWarning: Data seen by ClassifierPipeline instance has multivariate series, but this ClassifierPipeline instance cannot handle multivariate series. Calls with multivariate series may result in error or unreliable results.\n",
      "/Users/verandaosmani/neuefische/Capstone_Project_SignMeUp/.venv/lib/python3.9/site-packages/sktime/classification/base.py:664: UserWarning: Data seen by ClassifierPipeline instance has multivariate series, but this ClassifierPipeline instance cannot handle multivariate series. Calls with multivariate series may result in error or unreliable results.\n",
      "/Users/verandaosmani/neuefische/Capstone_Project_SignMeUp/.venv/lib/python3.9/site-packages/sktime/classification/base.py:664: UserWarning: Data seen by ClassifierPipeline instance has multivariate series, but this ClassifierPipeline instance cannot handle multivariate series. Calls with multivariate series may result in error or unreliable results.\n",
      "/Users/verandaosmani/neuefische/Capstone_Project_SignMeUp/.venv/lib/python3.9/site-packages/sktime/classification/base.py:664: UserWarning: Data seen by ClassifierPipeline instance has multivariate series, but this ClassifierPipeline instance cannot handle multivariate series. Calls with multivariate series may result in error or unreliable results.\n",
      "/Users/verandaosmani/neuefische/Capstone_Project_SignMeUp/.venv/lib/python3.9/site-packages/sktime/classification/base.py:664: UserWarning: Data seen by ClassifierPipeline instance has multivariate series, but this ClassifierPipeline instance cannot handle multivariate series. Calls with multivariate series may result in error or unreliable results.\n",
      "/Users/verandaosmani/neuefische/Capstone_Project_SignMeUp/.venv/lib/python3.9/site-packages/sktime/classification/base.py:664: UserWarning: Data seen by ClassifierPipeline instance has multivariate series, but this ClassifierPipeline instance cannot handle multivariate series. Calls with multivariate series may result in error or unreliable results.\n",
      "/Users/verandaosmani/neuefische/Capstone_Project_SignMeUp/.venv/lib/python3.9/site-packages/sktime/classification/base.py:664: UserWarning: Data seen by ClassifierPipeline instance has multivariate series, but this ClassifierPipeline instance cannot handle multivariate series. Calls with multivariate series may result in error or unreliable results.\n",
      "/Users/verandaosmani/neuefische/Capstone_Project_SignMeUp/.venv/lib/python3.9/site-packages/sktime/classification/base.py:664: UserWarning: Data seen by ClassifierPipeline instance has multivariate series, but this ClassifierPipeline instance cannot handle multivariate series. Calls with multivariate series may result in error or unreliable results.\n",
      "/Users/verandaosmani/neuefische/Capstone_Project_SignMeUp/.venv/lib/python3.9/site-packages/sktime/classification/base.py:664: UserWarning: Data seen by ClassifierPipeline instance has multivariate series, but this ClassifierPipeline instance cannot handle multivariate series. Calls with multivariate series may result in error or unreliable results.\n",
      "/Users/verandaosmani/neuefische/Capstone_Project_SignMeUp/.venv/lib/python3.9/site-packages/sktime/classification/base.py:664: UserWarning: Data seen by ClassifierPipeline instance has multivariate series, but this ClassifierPipeline instance cannot handle multivariate series. Calls with multivariate series may result in error or unreliable results.\n",
      "/Users/verandaosmani/neuefische/Capstone_Project_SignMeUp/.venv/lib/python3.9/site-packages/sktime/classification/base.py:664: UserWarning: Data seen by ClassifierPipeline instance has multivariate series, but this ClassifierPipeline instance cannot handle multivariate series. Calls with multivariate series may result in error or unreliable results.\n",
      "/Users/verandaosmani/neuefische/Capstone_Project_SignMeUp/.venv/lib/python3.9/site-packages/sktime/classification/base.py:664: UserWarning: Data seen by ClassifierPipeline instance has multivariate series, but this ClassifierPipeline instance cannot handle multivariate series. Calls with multivariate series may result in error or unreliable results.\n",
      "/Users/verandaosmani/neuefische/Capstone_Project_SignMeUp/.venv/lib/python3.9/site-packages/sktime/classification/base.py:664: UserWarning: Data seen by ClassifierPipeline instance has multivariate series, but this ClassifierPipeline instance cannot handle multivariate series. Calls with multivariate series may result in error or unreliable results.\n",
      "/Users/verandaosmani/neuefische/Capstone_Project_SignMeUp/.venv/lib/python3.9/site-packages/sktime/classification/base.py:664: UserWarning: Data seen by ClassifierPipeline instance has multivariate series, but this ClassifierPipeline instance cannot handle multivariate series. Calls with multivariate series may result in error or unreliable results.\n",
      "/Users/verandaosmani/neuefische/Capstone_Project_SignMeUp/.venv/lib/python3.9/site-packages/sktime/classification/base.py:664: UserWarning: Data seen by ClassifierPipeline instance has multivariate series, but this ClassifierPipeline instance cannot handle multivariate series. Calls with multivariate series may result in error or unreliable results.\n",
      "/Users/verandaosmani/neuefische/Capstone_Project_SignMeUp/.venv/lib/python3.9/site-packages/sktime/classification/base.py:664: UserWarning: Data seen by ClassifierPipeline instance has multivariate series, but this ClassifierPipeline instance cannot handle multivariate series. Calls with multivariate series may result in error or unreliable results.\n",
      "/Users/verandaosmani/neuefische/Capstone_Project_SignMeUp/.venv/lib/python3.9/site-packages/sktime/classification/base.py:664: UserWarning: Data seen by ClassifierPipeline instance has multivariate series, but this ClassifierPipeline instance cannot handle multivariate series. Calls with multivariate series may result in error or unreliable results.\n",
      "/Users/verandaosmani/neuefische/Capstone_Project_SignMeUp/.venv/lib/python3.9/site-packages/sktime/classification/base.py:664: UserWarning: Data seen by ClassifierPipeline instance has multivariate series, but this ClassifierPipeline instance cannot handle multivariate series. Calls with multivariate series may result in error or unreliable results.\n",
      "/Users/verandaosmani/neuefische/Capstone_Project_SignMeUp/.venv/lib/python3.9/site-packages/sktime/classification/base.py:664: UserWarning: Data seen by ClassifierPipeline instance has multivariate series, but this ClassifierPipeline instance cannot handle multivariate series. Calls with multivariate series may result in error or unreliable results.\n",
      "/Users/verandaosmani/neuefische/Capstone_Project_SignMeUp/.venv/lib/python3.9/site-packages/sktime/classification/base.py:664: UserWarning: Data seen by ClassifierPipeline instance has multivariate series, but this ClassifierPipeline instance cannot handle multivariate series. Calls with multivariate series may result in error or unreliable results.\n",
      "/Users/verandaosmani/neuefische/Capstone_Project_SignMeUp/.venv/lib/python3.9/site-packages/sktime/classification/base.py:664: UserWarning: Data seen by ClassifierPipeline instance has multivariate series, but this ClassifierPipeline instance cannot handle multivariate series. Calls with multivariate series may result in error or unreliable results.\n",
      "/Users/verandaosmani/neuefische/Capstone_Project_SignMeUp/.venv/lib/python3.9/site-packages/sktime/classification/base.py:664: UserWarning: Data seen by ClassifierPipeline instance has multivariate series, but this ClassifierPipeline instance cannot handle multivariate series. Calls with multivariate series may result in error or unreliable results.\n",
      "/Users/verandaosmani/neuefische/Capstone_Project_SignMeUp/.venv/lib/python3.9/site-packages/sktime/classification/base.py:664: UserWarning: Data seen by ClassifierPipeline instance has multivariate series, but this ClassifierPipeline instance cannot handle multivariate series. Calls with multivariate series may result in error or unreliable results.\n",
      "/Users/verandaosmani/neuefische/Capstone_Project_SignMeUp/.venv/lib/python3.9/site-packages/sktime/classification/base.py:664: UserWarning: Data seen by ClassifierPipeline instance has multivariate series, but this ClassifierPipeline instance cannot handle multivariate series. Calls with multivariate series may result in error or unreliable results.\n",
      "/Users/verandaosmani/neuefische/Capstone_Project_SignMeUp/.venv/lib/python3.9/site-packages/sktime/classification/base.py:664: UserWarning: Data seen by ClassifierPipeline instance has multivariate series, but this ClassifierPipeline instance cannot handle multivariate series. Calls with multivariate series may result in error or unreliable results.\n",
      "/Users/verandaosmani/neuefische/Capstone_Project_SignMeUp/.venv/lib/python3.9/site-packages/sktime/classification/base.py:664: UserWarning: Data seen by ClassifierPipeline instance has multivariate series, but this ClassifierPipeline instance cannot handle multivariate series. Calls with multivariate series may result in error or unreliable results.\n",
      "/Users/verandaosmani/neuefische/Capstone_Project_SignMeUp/.venv/lib/python3.9/site-packages/sktime/classification/base.py:664: UserWarning: Data seen by ClassifierPipeline instance has multivariate series, but this ClassifierPipeline instance cannot handle multivariate series. Calls with multivariate series may result in error or unreliable results.\n",
      "/Users/verandaosmani/neuefische/Capstone_Project_SignMeUp/.venv/lib/python3.9/site-packages/sktime/classification/base.py:664: UserWarning: Data seen by ClassifierPipeline instance has multivariate series, but this ClassifierPipeline instance cannot handle multivariate series. Calls with multivariate series may result in error or unreliable results.\n",
      "/Users/verandaosmani/neuefische/Capstone_Project_SignMeUp/.venv/lib/python3.9/site-packages/sktime/classification/base.py:664: UserWarning: Data seen by ClassifierPipeline instance has multivariate series, but this ClassifierPipeline instance cannot handle multivariate series. Calls with multivariate series may result in error or unreliable results.\n",
      "/Users/verandaosmani/neuefische/Capstone_Project_SignMeUp/.venv/lib/python3.9/site-packages/sktime/classification/base.py:664: UserWarning: Data seen by ClassifierPipeline instance has multivariate series, but this ClassifierPipeline instance cannot handle multivariate series. Calls with multivariate series may result in error or unreliable results.\n",
      "/Users/verandaosmani/neuefische/Capstone_Project_SignMeUp/.venv/lib/python3.9/site-packages/sktime/classification/base.py:664: UserWarning: Data seen by ClassifierPipeline instance has multivariate series, but this ClassifierPipeline instance cannot handle multivariate series. Calls with multivariate series may result in error or unreliable results.\n",
      "/Users/verandaosmani/neuefische/Capstone_Project_SignMeUp/.venv/lib/python3.9/site-packages/sktime/classification/base.py:664: UserWarning: Data seen by ClassifierPipeline instance has multivariate series, but this ClassifierPipeline instance cannot handle multivariate series. Calls with multivariate series may result in error or unreliable results.\n",
      "/Users/verandaosmani/neuefische/Capstone_Project_SignMeUp/.venv/lib/python3.9/site-packages/sktime/classification/base.py:664: UserWarning: Data seen by ClassifierPipeline instance has multivariate series, but this ClassifierPipeline instance cannot handle multivariate series. Calls with multivariate series may result in error or unreliable results.\n",
      "/Users/verandaosmani/neuefische/Capstone_Project_SignMeUp/.venv/lib/python3.9/site-packages/sktime/classification/base.py:664: UserWarning: Data seen by ClassifierPipeline instance has multivariate series, but this ClassifierPipeline instance cannot handle multivariate series. Calls with multivariate series may result in error or unreliable results.\n",
      "/Users/verandaosmani/neuefische/Capstone_Project_SignMeUp/.venv/lib/python3.9/site-packages/sktime/classification/base.py:664: UserWarning: Data seen by ClassifierPipeline instance has multivariate series, but this ClassifierPipeline instance cannot handle multivariate series. Calls with multivariate series may result in error or unreliable results.\n",
      "/Users/verandaosmani/neuefische/Capstone_Project_SignMeUp/.venv/lib/python3.9/site-packages/sktime/classification/base.py:664: UserWarning: Data seen by ClassifierPipeline instance has multivariate series, but this ClassifierPipeline instance cannot handle multivariate series. Calls with multivariate series may result in error or unreliable results.\n",
      "/Users/verandaosmani/neuefische/Capstone_Project_SignMeUp/.venv/lib/python3.9/site-packages/sktime/classification/base.py:664: UserWarning: Data seen by ClassifierPipeline instance has multivariate series, but this ClassifierPipeline instance cannot handle multivariate series. Calls with multivariate series may result in error or unreliable results.\n",
      "/Users/verandaosmani/neuefische/Capstone_Project_SignMeUp/.venv/lib/python3.9/site-packages/sktime/classification/base.py:664: UserWarning: Data seen by ClassifierPipeline instance has multivariate series, but this ClassifierPipeline instance cannot handle multivariate series. Calls with multivariate series may result in error or unreliable results.\n",
      "/Users/verandaosmani/neuefische/Capstone_Project_SignMeUp/.venv/lib/python3.9/site-packages/sktime/classification/base.py:664: UserWarning: Data seen by ClassifierPipeline instance has multivariate series, but this ClassifierPipeline instance cannot handle multivariate series. Calls with multivariate series may result in error or unreliable results.\n",
      "/Users/verandaosmani/neuefische/Capstone_Project_SignMeUp/.venv/lib/python3.9/site-packages/sktime/classification/base.py:664: UserWarning: Data seen by ClassifierPipeline instance has multivariate series, but this ClassifierPipeline instance cannot handle multivariate series. Calls with multivariate series may result in error or unreliable results.\n",
      "/Users/verandaosmani/neuefische/Capstone_Project_SignMeUp/.venv/lib/python3.9/site-packages/sktime/classification/base.py:664: UserWarning: Data seen by ClassifierPipeline instance has multivariate series, but this ClassifierPipeline instance cannot handle multivariate series. Calls with multivariate series may result in error or unreliable results.\n",
      "/Users/verandaosmani/neuefische/Capstone_Project_SignMeUp/.venv/lib/python3.9/site-packages/sktime/classification/base.py:664: UserWarning: Data seen by ClassifierPipeline instance has multivariate series, but this ClassifierPipeline instance cannot handle multivariate series. Calls with multivariate series may result in error or unreliable results.\n",
      "/Users/verandaosmani/neuefische/Capstone_Project_SignMeUp/.venv/lib/python3.9/site-packages/sktime/classification/base.py:664: UserWarning: Data seen by ClassifierPipeline instance has multivariate series, but this ClassifierPipeline instance cannot handle multivariate series. Calls with multivariate series may result in error or unreliable results.\n",
      "/Users/verandaosmani/neuefische/Capstone_Project_SignMeUp/.venv/lib/python3.9/site-packages/sktime/classification/base.py:664: UserWarning: Data seen by ClassifierPipeline instance has multivariate series, but this ClassifierPipeline instance cannot handle multivariate series. Calls with multivariate series may result in error or unreliable results.\n",
      "/Users/verandaosmani/neuefische/Capstone_Project_SignMeUp/.venv/lib/python3.9/site-packages/sktime/classification/base.py:664: UserWarning: Data seen by ClassifierPipeline instance has multivariate series, but this ClassifierPipeline instance cannot handle multivariate series. Calls with multivariate series may result in error or unreliable results.\n",
      "/Users/verandaosmani/neuefische/Capstone_Project_SignMeUp/.venv/lib/python3.9/site-packages/sktime/classification/base.py:664: UserWarning: Data seen by ClassifierPipeline instance has multivariate series, but this ClassifierPipeline instance cannot handle multivariate series. Calls with multivariate series may result in error or unreliable results.\n",
      "/Users/verandaosmani/neuefische/Capstone_Project_SignMeUp/.venv/lib/python3.9/site-packages/sktime/classification/base.py:664: UserWarning: Data seen by ClassifierPipeline instance has multivariate series, but this ClassifierPipeline instance cannot handle multivariate series. Calls with multivariate series may result in error or unreliable results.\n",
      "/Users/verandaosmani/neuefische/Capstone_Project_SignMeUp/.venv/lib/python3.9/site-packages/sktime/classification/base.py:664: UserWarning: Data seen by ClassifierPipeline instance has multivariate series, but this ClassifierPipeline instance cannot handle multivariate series. Calls with multivariate series may result in error or unreliable results.\n"
     ]
    },
    {
     "name": "stdout",
     "output_type": "stream",
     "text": [
      "{'tsf__n_estimators': 10, 'tsf__min_interval': 1, 'tsf__max_depth': None}\n"
     ]
    }
   ],
   "source": [
    "from sklearn.model_selection import RandomizedSearchCV\n",
    "#from sktime.classification.interval_based import TimeSeriesForestClassifier\n",
    "#from sktime.transformations.panel.compose import ColumnConcatenator\n",
    "\n",
    "# Define the parameter grid for the time series forest classifier\n",
    "param_grid = {\n",
    "    'tsf__n_estimators': [10, 20, 30],\n",
    "    'tsf__max_depth': [None, 10, 20],\n",
    "    'tsf__min_interval': [1, 3, 5]\n",
    "}\n",
    "\n",
    "# Define the pipeline with ColumnConcatenator and TimeSeriesForestClassifier\n",
    "tsf_clf = ColumnConcatenator() * TimeSeriesForestClassifier()\n",
    "\n",
    "#clf = RandomizedSearchCV(rocket, parameters, random_state=42, n_iter=5, verbose=True)\n",
    "clf= RandomizedSearchCV(\n",
    "    tsf_clf,\n",
    "    param_distributions=param_grid,\n",
    "    n_iter=5, \n",
    "    cv=5,  \n",
    "    #n_jobs=-1,  \n",
    "    random_state=42,\n",
    "    verbose=True,\n",
    "   \n",
    ")\n",
    "\n",
    "search=clf.fit(X_train, y_train)\n",
    "#search.fit(X_train, y_train)\n",
    "\n",
    "\n",
    "print(search.best_params_)\n",
    "\n",
    "\n",
    "#best_clf = search.best_estimator_\n",
    "#accuracy = best_clf.score(X_test, y_test)\n",
    "#print(\"Accuracy of the best model on the test set: {:.2f}%\".format(accuracy * 100))\n"
   ]
  },
  {
   "attachments": {},
   "cell_type": "markdown",
   "metadata": {},
   "source": [
    "The hyperparameters found are:\n",
    "\n",
    "- tsf__n_estimators: The number of trees in the random forest ensemble. In our case, it suggests using 10 trees.\n",
    "- tsf__min_interval: The minimum time lag to consider for the time series forest. In our case, it suggests using a minimum interval of 1.\n",
    "- tsf__max_depth: The maximum depth of the trees in the forest. In our case, it suggests using None, which means that the trees will be grown until all the leaves are pure.\n",
    "- These hyperparameters can be used by the model to make predictions on new data. "
   ]
  },
  {
   "attachments": {},
   "cell_type": "markdown",
   "metadata": {},
   "source": [
    "### Muse classifier((Multi-Scale Shapelet Ensemble))\n",
    "\n",
    "- The MUSE classifier uses a bag-of-words approach, where a set of shapelets are learned from the training data to represent patterns in the time series. The shapelets are extracted at different scales and used to build a dictionary, which is used to map time series to bag-of-words representations. The bag-of-words representations are then used to train an ensemble of decision trees. During testing, the MUSE classifier extracts the bag-of-words representation of the test time series and uses the decision trees to make predictions. Overall, the MUSE classifier provides an effective and efficient way to perform time series classification with high accuracy."
   ]
  },
  {
   "cell_type": "code",
   "execution_count": 39,
   "metadata": {},
   "outputs": [
    {
     "name": "stderr",
     "output_type": "stream",
     "text": [
      "/Users/verandaosmani/neuefische/Capstone_Project_SignMeUp/.venv/lib/python3.9/site-packages/sktime/classification/base.py:203: UserWarning: MUSE Warning: Input series is univariate; MUSE is designed for multivariate series. It is recommended WEASEL is used instead.\n",
      "  self._fit(X, y)\n"
     ]
    },
    {
     "data": {
      "text/plain": [
       "0.5301204819277109"
      ]
     },
     "execution_count": 39,
     "metadata": {},
     "output_type": "execute_result"
    }
   ],
   "source": [
    "from sktime.classification.dictionary_based import MUSE\n",
    "from sktime.transformations.panel.compose import ColumnConcatenator\n",
    "\n",
    "clf = ColumnConcatenator() * MUSE(window_inc=4, use_first_order_differences=False) \n",
    "clf.fit(X_train, y_train)\n",
    "clf.score(X_test, y_test)"
   ]
  },
  {
   "attachments": {},
   "cell_type": "markdown",
   "metadata": {},
   "source": [
    "### PCATransformer classifier\n",
    "- The PCATransformer transformer is used to perform PCA on the input time series data, reducing its dimensionality while retaining the most important information. The transformed data is then used to train a classifier, such as the TimeSeriesForestClassifier, to perform classification.\n",
    "Overall, the use of PCA in the classification pipeline can help improve the accuracy and efficiency of the classifier by reducing the dimensionality of the input data while retaining important information."
   ]
  },
  {
   "cell_type": "code",
   "execution_count": 36,
   "metadata": {},
   "outputs": [
    {
     "name": "stderr",
     "output_type": "stream",
     "text": [
      "/Users/verandaosmani/neuefische/Capstone_Project_SignMeUp/.venv/lib/python3.9/site-packages/sktime/classification/base.py:664: UserWarning: Data seen by ClassifierPipeline instance has multivariate series, but this ClassifierPipeline instance cannot handle multivariate series. Calls with multivariate series may result in error or unreliable results.\n",
      "  warn(msg)\n"
     ]
    },
    {
     "data": {
      "text/plain": [
       "ClassifierPipeline(classifier=TimeSeriesForestClassifier(n_estimators=5),\n",
       "                   transformers=[ColumnConcatenator(), PCATransformer()])"
      ]
     },
     "execution_count": 36,
     "metadata": {},
     "output_type": "execute_result"
    }
   ],
   "source": [
    "from sktime.transformations.panel.pca import PCATransformer\n",
    "from sktime.classification.interval_based import TimeSeriesForestClassifier\n",
    "\n",
    "from sktime.classification.compose import ClassifierPipeline\n",
    "\n",
    "pipeline = ColumnConcatenator() * ClassifierPipeline(\n",
    "    TimeSeriesForestClassifier(n_estimators=5), [PCATransformer()]\n",
    "\n",
    "\n",
    ")\n",
    "pipeline.fit(X_train, y_train)"
   ]
  }
 ],
 "metadata": {
  "kernelspec": {
   "display_name": ".venv",
   "language": "python",
   "name": "python3"
  },
  "language_info": {
   "codemirror_mode": {
    "name": "ipython",
    "version": 3
   },
   "file_extension": ".py",
   "mimetype": "text/x-python",
   "name": "python",
   "nbconvert_exporter": "python",
   "pygments_lexer": "ipython3",
   "version": "3.9.8"
  },
  "orig_nbformat": 4,
  "vscode": {
   "interpreter": {
    "hash": "40433cef62c227fe0c18ee0e9fd76389d91de061eabbb04345e2908e6dbb2c0b"
   }
  }
 },
 "nbformat": 4,
 "nbformat_minor": 2
}
