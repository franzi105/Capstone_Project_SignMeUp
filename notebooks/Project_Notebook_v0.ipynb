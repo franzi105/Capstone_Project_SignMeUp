{
 "cells": [
  {
   "attachments": {},
   "cell_type": "markdown",
   "metadata": {},
   "source": [
    "# __Running Modes__"
   ]
  },
  {
   "cell_type": "code",
   "execution_count": 35,
   "metadata": {},
   "outputs": [],
   "source": [
    "MODE = 'interactive' # uses only 0.01 % of the whole dataset\n",
    "#MODE = 'full' # uses the whole dataset\n",
    "\n",
    "LOAD_PARQUET = 0 # 0: disables, 1: enables loading of parquet files"
   ]
  },
  {
   "attachments": {},
   "cell_type": "markdown",
   "metadata": {},
   "source": [
    "# __0. Kaggle Competition__: Google - Isolated Sign Language Recognition"
   ]
  },
  {
   "attachments": {},
   "cell_type": "markdown",
   "metadata": {},
   "source": [
    "https://www.kaggle.com/competitions/asl-signs"
   ]
  },
  {
   "attachments": {},
   "cell_type": "markdown",
   "metadata": {},
   "source": [
    "## __Overview__"
   ]
  },
  {
   "attachments": {},
   "cell_type": "markdown",
   "metadata": {},
   "source": [
    "### __Description__"
   ]
  },
  {
   "attachments": {},
   "cell_type": "markdown",
   "metadata": {},
   "source": [
    "#### __Goal of the Competition__"
   ]
  },
  {
   "attachments": {},
   "cell_type": "markdown",
   "metadata": {},
   "source": [
    "The goal of this competition is to classify isolated American Sign Language (ASL) signs. You will create a [TensorFlow Lite](https://www.tensorflow.org/lite) model trained on labeled landmark data extracted using the [MediaPipe Holistic Solution](https://google.github.io/mediapipe/solutions/holistic.html).\n",
    "\n",
    "Your work may improve the ability of PopSign* to help relatives of deaf children learn basic signs and communicate better with their loved ones.^"
   ]
  },
  {
   "attachments": {},
   "cell_type": "markdown",
   "metadata": {},
   "source": [
    "[![IMAGE ALT TEXT HERE](https://img.youtube.com/vi/jcyWo_1Q_jY/0.jpg)](https://www.youtube.com/watch?v=jcyWo_1Q_jY)"
   ]
  },
  {
   "attachments": {},
   "cell_type": "markdown",
   "metadata": {},
   "source": [
    "#### __Context__"
   ]
  },
  {
   "attachments": {},
   "cell_type": "markdown",
   "metadata": {},
   "source": [
    "##### __Every day, 33 babies are born with permanent hearing loss in the U.S.__"
   ]
  },
  {
   "attachments": {},
   "cell_type": "markdown",
   "metadata": {},
   "source": [
    "Around 90% of which are born to hearing parents many of which may not know American Sign Language. (kdhe.ks.gov, deafchildren.org) Without sign language, deaf babies are at risk of Language Deprivation Syndrome. This syndrome is characterized by a lack of access to naturally occurring language acquisition during their critical language-learning years. It can cause serious impacts on different aspects of their lives, such as relationships, education, and employment."
   ]
  },
  {
   "attachments": {},
   "cell_type": "markdown",
   "metadata": {},
   "source": [
    "##### __Learning sign language is challenging.__"
   ]
  },
  {
   "attachments": {},
   "cell_type": "markdown",
   "metadata": {},
   "source": [
    "Learning American Sign Language is as difficult for English speakers as learning Japanese. (jstor.org) It takes time and resources, which many parents don't have. They want to learn sign language, but it's hard when they are working long hours just to make ends meet. And even if they find the time and money for classes, the classes are often far away."
   ]
  },
  {
   "attachments": {},
   "cell_type": "markdown",
   "metadata": {},
   "source": [
    "##### __Games can help.__"
   ]
  },
  {
   "attachments": {},
   "cell_type": "markdown",
   "metadata": {},
   "source": [
    "PopSign is a smartphone game app that makes learning American Sign Language fun, interactive, and accessible. Players match videos of ASL signs with bubbles containing written English words to pop them.\n",
    "PopSign is designed to help parents with deaf children learn ASL, but it's open to anyone who wants to learn sign language vocabulary. By adding a sign language recognizer from this competition, PopSign players will be able to sign the type of bubble they want to shoot, providing the player with the opportunity to practice the sign themselves instead of just watching videos of other people signing."
   ]
  },
  {
   "attachments": {},
   "cell_type": "markdown",
   "metadata": {},
   "source": [
    "##### __You can help connect deaf children and their parents.__"
   ]
  },
  {
   "attachments": {},
   "cell_type": "markdown",
   "metadata": {},
   "source": [
    "By training a sign language recognizer for PopSign, you can help make the game more interactive and improve the learning and confidence of players who want to learn sign language to communicate with their loved ones."
   ]
  },
  {
   "attachments": {},
   "cell_type": "markdown",
   "metadata": {},
   "source": [
    "##### __Why TensorFlow Lite__"
   ]
  },
  {
   "attachments": {},
   "cell_type": "markdown",
   "metadata": {},
   "source": [
    "To allow the ML model to run on device in an attempt to limit latency inside the game, PopSign doesn’t send user videos to the cloud. Therefore, all inference must be done on the phone itself. PopSign is building its recognition pipeline on top of TensorFlow Lite, which runs on both Android and iOS. In order for the competition models to integrate seamlessly with PopSign, we are asking our competitors to submit their entries in the form of TensorFlow Lite models."
   ]
  },
  {
   "attachments": {},
   "cell_type": "markdown",
   "metadata": {},
   "source": [
    "##### __Special thanks to our partners__"
   ]
  },
  {
   "attachments": {},
   "cell_type": "markdown",
   "metadata": {},
   "source": [
    "We’d like to thank the Georgia Institute of Technology, the National Technical Institute for the Deaf at Rochester Institute of Technology, and Deaf Professional Arts Network for their work to create the dataset, the PopSign game, and overall competition preparation."
   ]
  },
  {
   "attachments": {},
   "cell_type": "markdown",
   "metadata": {},
   "source": [
    "| This is a Code Competition. Refer to [Code Requirements](https://kaggle.com/competitions/asl-signs/overview/code-requirements) for details |\n",
    "|--------------------------------------------------------------------------------------------------------------------------------------------|\n",
    "\n",
    "**PopSign is an app developed by the Georgia Institute of Technology and the National Technical Institute for the Deaf at Rochester Institute of Technology. The app is available in beta on Android and iOS.*\n",
    "\n",
    "^*We cannot guarantee the competition will benefit the competitors or the disabled community directly.*"
   ]
  },
  {
   "attachments": {},
   "cell_type": "markdown",
   "metadata": {},
   "source": [
    "### __Evaluation__"
   ]
  },
  {
   "attachments": {},
   "cell_type": "markdown",
   "metadata": {},
   "source": [
    "The evaluation metric for this contest is simple classification __accuracy__."
   ]
  },
  {
   "attachments": {},
   "cell_type": "markdown",
   "metadata": {},
   "source": [
    "#### __Submission Process__"
   ]
  },
  {
   "attachments": {},
   "cell_type": "markdown",
   "metadata": {},
   "source": [
    "In this competition you will be submitting a TensorFlow Lite model file. The model must take one or more landmark frames as an input and return a float vector (the predicted probabilities of each sign class) as the output. Your model must be packaged into a `submission.zip` file and compatible with the [TensorFlow Lite Runtime v2.9.1](https://www.tensorflow.org/lite/guide/python#run_an_inference_using_tflite_runtime). You are welcome to train your model using the framework of your choice, as long as you convert the model checkpoint into the tflite format prior to submission.\n",
    "\n",
    "Your model must also perform inference with less than 100 milliseconds of latency per video on average and use less than 40 MB of storage space. Expect to see approximately 40,000 videos in the test set. We allow an additional 10 minute buffer for loading the data and miscellaneous overhead.\n",
    "\n",
    "Each video is loaded with the following function:"
   ]
  },
  {
   "attachments": {},
   "cell_type": "markdown",
   "metadata": {},
   "source": [
    "```python\n",
    "ROWS_PER_FRAME = 543  # number of landmarks per frame\n",
    "\n",
    "def load_relevant_data_subset(pq_path):\n",
    "    data_columns = ['x', 'y', 'z']\n",
    "    data = pd.read_parquet(pq_path, columns=data_columns)\n",
    "    n_frames = int(len(data) / ROWS_PER_FRAME)\n",
    "    data = data.values.reshape(n_frames, ROWS_PER_FRAME, len(data_columns))\n",
    "    return data.astype(np.float32)\n",
    "```"
   ]
  },
  {
   "attachments": {},
   "cell_type": "markdown",
   "metadata": {},
   "source": [
    "Inference is performed (roughly) as follows, ignoring details like how we manage multiple videos:"
   ]
  },
  {
   "attachments": {},
   "cell_type": "markdown",
   "metadata": {},
   "source": [
    "```python\n",
    "import tflite_runtime.interpreter as tflite\n",
    "interpreter = tflite.Interpreter(model_path)\n",
    "\n",
    "found_signatures = list(interpreter.get_signature_list().keys())\n",
    "\n",
    "if REQUIRED_SIGNATURE not in found_signatures:\n",
    "    raise KernelEvalException('Required input signature not found.')\n",
    "\n",
    "prediction_fn = interpreter.get_signature_runner(\"serving_default\")\n",
    "output = prediction_fn(inputs=frames)\n",
    "sign = np.argmax(output[\"outputs\"])\n",
    "```"
   ]
  },
  {
   "attachments": {},
   "cell_type": "markdown",
   "metadata": {},
   "source": [
    "### __Timeline__"
   ]
  },
  {
   "attachments": {},
   "cell_type": "markdown",
   "metadata": {},
   "source": [
    "- __February 23, 2023__ - Start Date.\n",
    "\n",
    "- __April 25, 2023__ - Entry Deadline. You must accept the competition rules before this date in order to compete.\n",
    "\n",
    "- __April 25, 2023__ - Team Merger Deadline. This is the last day participants may join or merge teams.\n",
    "\n",
    "- __May 2, 2023__ - Final Submission Deadline.\n",
    "\n",
    "All deadlines are at 11:59 PM UTC on the corresponding day unless otherwise noted. The competition organizers reserve the right to update the contest timeline if they deem it necessary."
   ]
  },
  {
   "attachments": {},
   "cell_type": "markdown",
   "metadata": {},
   "source": [
    "### __Prizes__"
   ]
  },
  {
   "attachments": {},
   "cell_type": "markdown",
   "metadata": {},
   "source": [
    "* 1st Place - $50,000\n",
    "* 2nd Place - $20,000\n",
    "* 3rd Place - $10,000\n",
    "* 4th Place - $10,000\n",
    "* 5th Place - $10,000"
   ]
  },
  {
   "attachments": {},
   "cell_type": "markdown",
   "metadata": {},
   "source": [
    "### __Code Requirements__"
   ]
  },
  {
   "attachments": {},
   "cell_type": "markdown",
   "metadata": {},
   "source": [
    "#### __This is a Code Competition__"
   ]
  },
  {
   "attachments": {},
   "cell_type": "markdown",
   "metadata": {},
   "source": [
    "Submissions to this competition must be made through Notebooks. In order for the \"Submit\" button to be active after a commit, the following conditions must be met:\n",
    "\n",
    "* CPU Notebook <= 9 hours run-time\n",
    "* GPU Notebook <= 9 hours run-time\n",
    "* Internet access disabled\n",
    "* Freely & publicly available external data is allowed, including pre-trained models\n",
    "* Submission file must be named submission.zip.\n",
    "\n",
    "Please see the Code [Competition FAQ](https://www.kaggle.com/docs/competitions#notebooks-only-FAQ) for more information on how to submit. And review the [code debugging doc](https://www.kaggle.com/code-competition-debugging) if you are encountering submission errors."
   ]
  },
  {
   "attachments": {},
   "cell_type": "markdown",
   "metadata": {},
   "source": [
    "### __Acknowledgements__"
   ]
  },
  {
   "attachments": {},
   "cell_type": "markdown",
   "metadata": {},
   "source": [
    "The dataset provided by Deaf Professional Arts Network and the Georgia Institute of Technology is licensed under [CC-BY 4.0](https://creativecommons.org/licenses/by/4.0/). Kaggle and Google do not own and have not validated the dataset in any way."
   ]
  },
  {
   "attachments": {},
   "cell_type": "markdown",
   "metadata": {},
   "source": [
    "### __Data Card__"
   ]
  },
  {
   "attachments": {},
   "cell_type": "markdown",
   "metadata": {},
   "source": [
    "#### __Dataset Card for the Isolated Sign Language Recognition Corpus__"
   ]
  },
  {
   "attachments": {},
   "cell_type": "markdown",
   "metadata": {},
   "source": [
    "##### __Dataset Summary__"
   ]
  },
  {
   "attachments": {},
   "cell_type": "markdown",
   "metadata": {},
   "source": [
    "The Isolated Sign Language Recognition corpus (version 1.0) is a collection of hand and facial landmarks generated by Mediapipe version 0.9.0.1 on ~100k videos of isolated signs performed by 21 Deaf signers from a 250-sign vocabulary."
   ]
  },
  {
   "attachments": {},
   "cell_type": "markdown",
   "metadata": {},
   "source": [
    "##### __Supported Tasks and Leaderboards__"
   ]
  },
  {
   "attachments": {},
   "cell_type": "markdown",
   "metadata": {},
   "source": [
    "https://www.kaggle.com/competitions/asl-signs/leaderboard"
   ]
  },
  {
   "attachments": {},
   "cell_type": "markdown",
   "metadata": {},
   "source": [
    "##### __Languages__"
   ]
  },
  {
   "attachments": {},
   "cell_type": "markdown",
   "metadata": {},
   "source": [
    "American Sign Language"
   ]
  },
  {
   "attachments": {},
   "cell_type": "markdown",
   "metadata": {},
   "source": [
    "#### __Dataset Structure__"
   ]
  },
  {
   "attachments": {},
   "cell_type": "markdown",
   "metadata": {},
   "source": [
    "##### __Data Instances__"
   ]
  },
  {
   "attachments": {},
   "cell_type": "markdown",
   "metadata": {},
   "source": [
    "{'frame': 27, 'row_id': '27-face-0', 'type': 'face', 'landmark_index': 0, 'x': 0.4764270484447479, 'y': 0.3772650957107544, 'z': -0.05066078156232834}"
   ]
  },
  {
   "attachments": {},
   "cell_type": "markdown",
   "metadata": {},
   "source": [
    "##### __Data Fields__"
   ]
  },
  {
   "attachments": {},
   "cell_type": "markdown",
   "metadata": {},
   "source": [
    "See https://www.kaggle.com/competitions/asl-signs/data"
   ]
  },
  {
   "attachments": {},
   "cell_type": "markdown",
   "metadata": {},
   "source": [
    "##### __Data Splits__"
   ]
  },
  {
   "attachments": {},
   "cell_type": "markdown",
   "metadata": {},
   "source": [
    "Not applicable."
   ]
  },
  {
   "attachments": {},
   "cell_type": "markdown",
   "metadata": {},
   "source": [
    "#### __Dataset Creation__"
   ]
  },
  {
   "attachments": {},
   "cell_type": "markdown",
   "metadata": {},
   "source": [
    "##### __Curation Rationale__"
   ]
  },
  {
   "attachments": {},
   "cell_type": "markdown",
   "metadata": {},
   "source": [
    "The signs in the dataset represent 250 of the first concepts taught to infants in any language. The goal is to create an isolated sign recognizer to incorporate into educational games for helping hearing parents of Deaf children learn American Sign Language (ASL). Around 90% of deaf infants are born to hearing parents, many of whom may not know American Sign Language. (kdhe.ks.gov, deafchildren.org). Surrounding Deaf children with sign helps avoid Language Deprivation Syndrome. This syndrome is characterized by a lack of access to naturally occurring language acquisition during the critical language-learning years. It can cause serious impacts on different aspects of their lives, such as relationships, education, and employment.\n",
    "\n",
    "Learning American Sign Language (ASL) is as difficult for English speakers as learning Japanese (jstor.org). It takes time and resources that many parents don't have. They want to learn sign language, but it's hard when they are working long hours just to make ends meet. And even if they find the time and money for classes, the classes are often far away. \n",
    "PopSign is a smartphone game app that makes learning American Sign Language fun, interactive, and accessible. Currently, players match videos of ASL signs with bubbles containing written English words to pop the bubbles and advance game play.\n",
    "By adding isolated sign language recognition to Popsign, parents will play the game by making the signs instead of watching videos of signing. This sort of expressive practice improves confidence for communicating with Deaf children and the Deaf community."
   ]
  },
  {
   "attachments": {},
   "cell_type": "markdown",
   "metadata": {},
   "source": [
    "##### __Source Data__"
   ]
  },
  {
   "attachments": {},
   "cell_type": "markdown",
   "metadata": {},
   "source": [
    "###### __Initial Data Collection and Normalization__"
   ]
  },
  {
   "attachments": {},
   "cell_type": "markdown",
   "metadata": {},
   "source": [
    "Signers who communicate using American Sign Language as their primary language were recruited from across the United States. They were shipped a Pixel 4a smartphone with an installed collection app. The app prompted the signer with the concept in English to sign, randomly selected from the 250-sign vocabulary. Signers pressed and held an on-screen button on the phone to record video while signing each concept, releasing the button after each sign. The video of the sign is extracted with a buffer 0.5 seconds before the press of the button and 0.5 seconds after the release of the button. This method of video collection matches the game interface where players touch the screen to aim a bubble and release the touch after they have finished signing.\n",
    "\n",
    "While the app provided a video example of the sign desired, signers routinely made variants of the sign based on their background and region. More rarely, signers might fingerspell a sign, miss it completely, or produce the wrong sign. Extraneous movements, such as scratching an itch, or the ending movement from the previous sign or the onset of the next sign, are sometimes included. Conversely, some signers pressed the button late or released the button early, causing cropping in some sign examples. Some signers sign with their left hand; others sign with their right. Some signers switch their signing hand. All of these situations must be handled by the game’s recognition system.\n",
    "\n",
    "While the game includes 250 signs, it only needs to distinguish between five signs at a time due to the game design. Since accuracy increases as vocabulary decreases, even a recognition system with 60% accuracy on the 250-sign task should perform well when distinguishing between five signs."
   ]
  },
  {
   "attachments": {},
   "cell_type": "markdown",
   "metadata": {},
   "source": [
    "###### __Who are the source language producers?__"
   ]
  },
  {
   "attachments": {},
   "cell_type": "markdown",
   "metadata": {},
   "source": [
    "21 signers recruited by the Deaf Professional Arts Network provided the sign. They are from many regions across the United States and all use American Sign Language as their primary form of communication. They represent a mix of skin tones and genders."
   ]
  },
  {
   "attachments": {},
   "cell_type": "markdown",
   "metadata": {},
   "source": [
    "##### __Annotations__"
   ]
  },
  {
   "attachments": {},
   "cell_type": "markdown",
   "metadata": {},
   "source": [
    "###### __Annotation process__"
   ]
  },
  {
   "attachments": {},
   "cell_type": "markdown",
   "metadata": {},
   "source": [
    "Each video was annotated at creation time by the smartphone app. Videos were coarsely reviewed to attempt to remove poor recordings, but little judgment was made on the correctness or quality of the sign itself."
   ]
  },
  {
   "attachments": {},
   "cell_type": "markdown",
   "metadata": {},
   "source": [
    "###### __Who are the annotators?__"
   ]
  },
  {
   "attachments": {},
   "cell_type": "markdown",
   "metadata": {},
   "source": [
    "Researchers at the Georgia Institute of Technology coarsely reviewed the individual videos."
   ]
  },
  {
   "attachments": {},
   "cell_type": "markdown",
   "metadata": {},
   "source": [
    "##### __Personal and Sensitive Information__"
   ]
  },
  {
   "attachments": {},
   "cell_type": "markdown",
   "metadata": {},
   "source": [
    "The landmark data has been de-identified. Landmark data should not be used to identify or re-identify an individual. Landmark data is not intended to enable any form of identity recognition or store any unique biometric identification."
   ]
  },
  {
   "attachments": {},
   "cell_type": "markdown",
   "metadata": {},
   "source": [
    "#### __Considerations for Using the Data__"
   ]
  },
  {
   "attachments": {},
   "cell_type": "markdown",
   "metadata": {},
   "source": [
    "##### __Social Impact of Dataset__"
   ]
  },
  {
   "attachments": {},
   "cell_type": "markdown",
   "metadata": {},
   "source": [
    "The Isolated Sign Language Recognition corpus (version 1.0), which contains Mediapipe landmarks only, will be used to create sign language recognition systems for Popsign, an educational game that encourages hearing parents of deaf infants to practice their ASL signing. The same dataset can be used to add signing to other games. For example, one proposed use is to create a game that allows Deaf children to practice their written English skills. The video set upon which the corpus is based is being used to examine variations in signing and provide examples of those variations for the wider Deaf community."
   ]
  },
  {
   "attachments": {},
   "cell_type": "markdown",
   "metadata": {},
   "source": [
    "##### __Discussion of Biases__"
   ]
  },
  {
   "attachments": {},
   "cell_type": "markdown",
   "metadata": {},
   "source": [
    "While ASL is the most common sign language used in the United States, there are many sign languages, including British Sign Language, Native American Sign Languages, Hawaiian Sign Language, French Sign Language, and Signed Exact English. In addition, there are many regional and cultural accents associated with sign in the United States, including Black Sign Language. This dataset focuses on American Sign Language, but it does not capture a representative sample of all the sign variations that would be commonly understood in conversation. ASL has a grammar that is very different from English, and isolated signs do not capture the variation that occurs when a concept is signed in context. A larger number of signers is necessary to better represent skin tones, hand features, and different levels of signing dexterity."
   ]
  },
  {
   "attachments": {},
   "cell_type": "markdown",
   "metadata": {},
   "source": [
    "##### __Other Known Limitations__"
   ]
  },
  {
   "attachments": {},
   "cell_type": "markdown",
   "metadata": {},
   "source": [
    "This isolated sign dataset is intended to help create educational games for teaching ASL, and is not appropriate for other purposes such as ASL-to-English translation or natural language interfaces for computers."
   ]
  },
  {
   "attachments": {},
   "cell_type": "markdown",
   "metadata": {},
   "source": [
    "#### __Additional Information__"
   ]
  },
  {
   "attachments": {},
   "cell_type": "markdown",
   "metadata": {},
   "source": [
    "##### __Dataset Curators__"
   ]
  },
  {
   "attachments": {},
   "cell_type": "markdown",
   "metadata": {},
   "source": [
    "The Deaf Professional Arts Network (DPAN), is a 501(c)(3) non-profit founded in 2006 to make music, entertainment, and media accessible. The Georgia Institute of Technology is a top-10 public research university committed to improving the human condition through advanced science and technology. The National Technical Institute for the Deaf is one of the nine colleges of the Rochester Institute of Technology and is home to the world’s first and largest technological college for deaf and hard-of-hearing students."
   ]
  },
  {
   "attachments": {},
   "cell_type": "markdown",
   "metadata": {},
   "source": [
    "##### __Licensing Information__"
   ]
  },
  {
   "attachments": {},
   "cell_type": "markdown",
   "metadata": {},
   "source": [
    "The dataset provided by Deaf Professional Arts Network and the Georgia Institute of Technology is licensed under CC-BY."
   ]
  },
  {
   "attachments": {},
   "cell_type": "markdown",
   "metadata": {},
   "source": [
    "##### __Citation Information__"
   ]
  },
  {
   "attachments": {},
   "cell_type": "markdown",
   "metadata": {},
   "source": [
    "See the bottom of the Kaggle competition overview page for citation information."
   ]
  },
  {
   "attachments": {},
   "cell_type": "markdown",
   "metadata": {},
   "source": [
    "##### __Contributions__"
   ]
  },
  {
   "attachments": {},
   "cell_type": "markdown",
   "metadata": {},
   "source": [
    "Thanks to the staff at DPAN and the students and faculty at Georgia Tech and NTID who make Popsign and this dataset possible."
   ]
  },
  {
   "attachments": {},
   "cell_type": "markdown",
   "metadata": {},
   "source": [
    "—-"
   ]
  },
  {
   "attachments": {},
   "cell_type": "markdown",
   "metadata": {},
   "source": [
    "## __Data__"
   ]
  },
  {
   "attachments": {},
   "cell_type": "markdown",
   "metadata": {},
   "source": [
    "### __Dataset Description__"
   ]
  },
  {
   "attachments": {},
   "cell_type": "markdown",
   "metadata": {},
   "source": [
    "Deaf children are often born to hearing parents who do not know sign language. Your challenge in this competition is to help identify signs made in processed videos, which will support the development of mobile apps to help teach parents sign language so they can communicate with their Deaf children.\n",
    "\n",
    "This competition requires submissions to be made in the form of [TensorFlow Lite models](https://www.tensorflow.org/lite). You are welcome to train your model using the framework of your choice as long as you convert the model checkpoint into the tflite format prior to submission. Please see [the evaluation page](https://www.kaggle.com/competitions/asl-signs/overview/evaluation) for details."
   ]
  },
  {
   "attachments": {},
   "cell_type": "markdown",
   "metadata": {},
   "source": [
    "##### __train_landmark_files/[participant_id]/[sequence_id].parquet__"
   ]
  },
  {
   "attachments": {},
   "cell_type": "markdown",
   "metadata": {},
   "source": [
    "The landmark data. The landmarks were extracted from raw videos with the [MediaPipe holistic model](https://google.github.io/mediapipe/solutions/holistic.html). Not all of the frames necessarily had visible hands or hands that could be detected by the model. \n",
    "\n",
    "*Landmark data should not be used to identify or re-identify an individual. Landmark data is not intended to enable any form of identity recognition or store any unique biometric identification.*\n",
    "\n",
    "- `frame` - The frame number in the raw video.\n",
    "- `row_id` - A unique identifier for the row.\n",
    "- `type` - The type of landmark. One of ['face', 'left_hand', 'pose', 'right_hand'].\n",
    "- `landmark_index` - The landmark index number. Details of the hand landmark locations can be found here.\n",
    "- `[x/y/z]` - The normalized spatial coordinates of the landmark. These are the only columns that will be provided to your submitted model for inference. The MediaPipe model is not fully trained to predict depth so you may wish to ignore the z values.\n",
    "\n"
   ]
  },
  {
   "attachments": {},
   "cell_type": "markdown",
   "metadata": {},
   "source": [
    "##### [__train.csv__](../data/asl-signs/train.csv)"
   ]
  },
  {
   "attachments": {},
   "cell_type": "markdown",
   "metadata": {},
   "source": [
    "- `path` - The path to the landmark file.\n",
    "- `participant_id` - A unique identifier for the data contributor.\n",
    "- `sequence_id` - A unique identifier for the landmark sequence.\n",
    "- `sign` - The label for the landmark sequence."
   ]
  },
  {
   "attachments": {},
   "cell_type": "markdown",
   "metadata": {},
   "source": [
    "##### [__sign_to_prediction_index_map.json__ (3.35 kB)](../data/asl-signs/sign_to_prediction_index_map.json)"
   ]
  },
  {
   "attachments": {},
   "cell_type": "markdown",
   "metadata": {},
   "source": [
    "```bash\n",
    "kaggle competitions download -c asl-signs\n",
    "```"
   ]
  },
  {
   "attachments": {},
   "cell_type": "markdown",
   "metadata": {},
   "source": [
    "# 1. Domain Knowledge"
   ]
  },
  {
   "attachments": {},
   "cell_type": "markdown",
   "metadata": {},
   "source": [
    "## Sign Language\n",
    "### Basics\n",
    "### Global statistics\n",
    "### Teaching and Learning\n",
    "### Social Impact\n",
    "### Mobile Apps\n",
    "### Kaggle\n"
   ]
  },
  {
   "attachments": {},
   "cell_type": "markdown",
   "metadata": {},
   "source": [
    "# Imports"
   ]
  },
  {
   "cell_type": "code",
   "execution_count": 36,
   "metadata": {},
   "outputs": [],
   "source": [
    "# general\n",
    "import pandas as pd\n",
    "import numpy as np\n",
    "\n",
    "# plotting\n",
    "import matplotlib.pyplot as plt\n",
    "import seaborn as sns\n",
    "\n",
    "# for loading .json dictionary\n",
    "import json\n"
   ]
  },
  {
   "attachments": {},
   "cell_type": "markdown",
   "metadata": {},
   "source": [
    "# 2. Data Mining"
   ]
  },
  {
   "attachments": {},
   "cell_type": "markdown",
   "metadata": {},
   "source": [
    "The whole data from the Kaggle competition was downloaded from here: https://www.kaggle.com/competitions/asl-signs/data inside the `data/asl-signs` folder of this repository. \n",
    "\n",
    "Here, you can find a\n",
    "\n",
    "- `sign_to_prediction_index_map.json` file, containing a dictionary of all available signs (string) with their corresponding categorical values (numeric)\n",
    "- `train.csv` file, which is a list of all recorded sequences (single word signing) with some basic information\n",
    "- `train_landmark_files` folder containing subfolders for each participant, which then contain all the parquet files (one parquet file corresponds to one sequence)\n",
    "\n",
    "In the following, we will first conduct data science on the `train.csv` file. Then, based on our findings, we will look at all the parquet files and use them for finding a best sign language action detection model. "
   ]
  },
  {
   "attachments": {},
   "cell_type": "markdown",
   "metadata": {},
   "source": [
    "---\n",
    "# The train.csv files"
   ]
  },
  {
   "attachments": {},
   "cell_type": "markdown",
   "metadata": {},
   "source": [
    "## 1. General Info"
   ]
  },
  {
   "attachments": {},
   "cell_type": "markdown",
   "metadata": {},
   "source": [
    "- `path` - The path to the landmark file.\n",
    "- `participant_id` - A unique identifier for the data contributor.\n",
    "- `sequence_id` - A unique identifier for the landmark sequence.\n",
    "- `sign` - The label for the landmark sequence."
   ]
  },
  {
   "attachments": {},
   "cell_type": "markdown",
   "metadata": {},
   "source": [
    "## 2. Load data"
   ]
  },
  {
   "attachments": {},
   "cell_type": "markdown",
   "metadata": {},
   "source": [
    "Let's load the train.csv file. "
   ]
  },
  {
   "cell_type": "code",
   "execution_count": 37,
   "metadata": {},
   "outputs": [
    {
     "data": {
      "text/html": [
       "<div>\n",
       "<style scoped>\n",
       "    .dataframe tbody tr th:only-of-type {\n",
       "        vertical-align: middle;\n",
       "    }\n",
       "\n",
       "    .dataframe tbody tr th {\n",
       "        vertical-align: top;\n",
       "    }\n",
       "\n",
       "    .dataframe thead th {\n",
       "        text-align: right;\n",
       "    }\n",
       "</style>\n",
       "<table border=\"1\" class=\"dataframe\">\n",
       "  <thead>\n",
       "    <tr style=\"text-align: right;\">\n",
       "      <th></th>\n",
       "      <th>path</th>\n",
       "      <th>participant_id</th>\n",
       "      <th>sequence_id</th>\n",
       "      <th>sign</th>\n",
       "    </tr>\n",
       "  </thead>\n",
       "  <tbody>\n",
       "    <tr>\n",
       "      <th>0</th>\n",
       "      <td>train_landmark_files/27610/561476403.parquet</td>\n",
       "      <td>27610</td>\n",
       "      <td>561476403</td>\n",
       "      <td>refrigerator</td>\n",
       "    </tr>\n",
       "    <tr>\n",
       "      <th>1</th>\n",
       "      <td>train_landmark_files/62590/1601341273.parquet</td>\n",
       "      <td>62590</td>\n",
       "      <td>1601341273</td>\n",
       "      <td>pizza</td>\n",
       "    </tr>\n",
       "    <tr>\n",
       "      <th>2</th>\n",
       "      <td>train_landmark_files/27610/11345226.parquet</td>\n",
       "      <td>27610</td>\n",
       "      <td>11345226</td>\n",
       "      <td>ear</td>\n",
       "    </tr>\n",
       "    <tr>\n",
       "      <th>3</th>\n",
       "      <td>train_landmark_files/22343/2474751636.parquet</td>\n",
       "      <td>22343</td>\n",
       "      <td>2474751636</td>\n",
       "      <td>girl</td>\n",
       "    </tr>\n",
       "    <tr>\n",
       "      <th>4</th>\n",
       "      <td>train_landmark_files/62590/231359756.parquet</td>\n",
       "      <td>62590</td>\n",
       "      <td>231359756</td>\n",
       "      <td>mad</td>\n",
       "    </tr>\n",
       "  </tbody>\n",
       "</table>\n",
       "</div>"
      ],
      "text/plain": [
       "                                            path  participant_id  sequence_id  \\\n",
       "0   train_landmark_files/27610/561476403.parquet           27610    561476403   \n",
       "1  train_landmark_files/62590/1601341273.parquet           62590   1601341273   \n",
       "2    train_landmark_files/27610/11345226.parquet           27610     11345226   \n",
       "3  train_landmark_files/22343/2474751636.parquet           22343   2474751636   \n",
       "4   train_landmark_files/62590/231359756.parquet           62590    231359756   \n",
       "\n",
       "           sign  \n",
       "0  refrigerator  \n",
       "1         pizza  \n",
       "2           ear  \n",
       "3          girl  \n",
       "4           mad  "
      ]
     },
     "execution_count": 37,
     "metadata": {},
     "output_type": "execute_result"
    }
   ],
   "source": [
    "# load train.csv file into a dataframe\n",
    "if MODE == 'full': \n",
    "    df_csv = pd.read_csv('../data/asl-signs/train.csv')\n",
    "if MODE == 'interactive': \n",
    "    df_csv = pd.read_csv('../data/train_sub94.csv')\n",
    "df_csv.head()"
   ]
  },
  {
   "attachments": {},
   "cell_type": "markdown",
   "metadata": {},
   "source": [
    "## 3. Data Cleaning"
   ]
  },
  {
   "attachments": {},
   "cell_type": "markdown",
   "metadata": {},
   "source": [
    "### Check for `null` values"
   ]
  },
  {
   "cell_type": "code",
   "execution_count": 38,
   "metadata": {},
   "outputs": [
    {
     "data": {
      "text/plain": [
       "path              0\n",
       "participant_id    0\n",
       "sequence_id       0\n",
       "sign              0\n",
       "dtype: int64"
      ]
     },
     "execution_count": 38,
     "metadata": {},
     "output_type": "execute_result"
    }
   ],
   "source": [
    "df_csv.isnull().sum()"
   ]
  },
  {
   "attachments": {},
   "cell_type": "markdown",
   "metadata": {},
   "source": [
    "We don't have any `null` values :)"
   ]
  },
  {
   "attachments": {},
   "cell_type": "markdown",
   "metadata": {},
   "source": [
    "### Check for `na` values"
   ]
  },
  {
   "cell_type": "code",
   "execution_count": 39,
   "metadata": {},
   "outputs": [
    {
     "data": {
      "text/plain": [
       "path              0\n",
       "participant_id    0\n",
       "sequence_id       0\n",
       "sign              0\n",
       "dtype: int64"
      ]
     },
     "execution_count": 39,
     "metadata": {},
     "output_type": "execute_result"
    }
   ],
   "source": [
    "df_csv.isna().sum()"
   ]
  },
  {
   "attachments": {},
   "cell_type": "markdown",
   "metadata": {},
   "source": [
    "We don't have any `na` values :)"
   ]
  },
  {
   "attachments": {},
   "cell_type": "markdown",
   "metadata": {},
   "source": [
    "### Check for duplicates"
   ]
  },
  {
   "cell_type": "code",
   "execution_count": 40,
   "metadata": {},
   "outputs": [
    {
     "data": {
      "text/plain": [
       "0"
      ]
     },
     "execution_count": 40,
     "metadata": {},
     "output_type": "execute_result"
    }
   ],
   "source": [
    "df_csv.duplicated().sum()"
   ]
  },
  {
   "attachments": {},
   "cell_type": "markdown",
   "metadata": {},
   "source": [
    "We don't have any duplicates in our data :)"
   ]
  },
  {
   "attachments": {},
   "cell_type": "markdown",
   "metadata": {},
   "source": [
    "## 4. Exploratory Data Analysis"
   ]
  },
  {
   "attachments": {},
   "cell_type": "markdown",
   "metadata": {},
   "source": [
    "### Summary"
   ]
  },
  {
   "attachments": {},
   "cell_type": "markdown",
   "metadata": {},
   "source": [
    "This file includes a list of all recorded sequences. Each row denotes one sequence and has information about participant_id and target sign.\n",
    "\n",
    "* We have around **95000 sequences**.\n",
    "* They show **250 signs**. Each sign is shown approximately 300 to 400 times.\n",
    "* The sequences were recorded by **21 participants**. Each participant contributed 3500 to 5000 sequences. \n",
    "\n",
    "We add the label numbers to the signs in a column called **\"target\"**.\n",
    "\n",
    "* There are no duplicate rows. \n",
    "* There are no missing values."
   ]
  },
  {
   "attachments": {},
   "cell_type": "markdown",
   "metadata": {},
   "source": [
    "### `.shape`"
   ]
  },
  {
   "cell_type": "code",
   "execution_count": 41,
   "metadata": {},
   "outputs": [
    {
     "data": {
      "text/plain": [
       "(94, 4)"
      ]
     },
     "execution_count": 41,
     "metadata": {},
     "output_type": "execute_result"
    }
   ],
   "source": [
    "df_csv.shape"
   ]
  },
  {
   "attachments": {},
   "cell_type": "markdown",
   "metadata": {},
   "source": [
    "We have 94477 rows and 4 columns of data. "
   ]
  },
  {
   "attachments": {},
   "cell_type": "markdown",
   "metadata": {},
   "source": [
    "### `.info()`"
   ]
  },
  {
   "cell_type": "code",
   "execution_count": 42,
   "metadata": {},
   "outputs": [
    {
     "name": "stdout",
     "output_type": "stream",
     "text": [
      "<class 'pandas.core.frame.DataFrame'>\n",
      "RangeIndex: 94 entries, 0 to 93\n",
      "Data columns (total 4 columns):\n",
      " #   Column          Non-Null Count  Dtype \n",
      "---  ------          --------------  ----- \n",
      " 0   path            94 non-null     object\n",
      " 1   participant_id  94 non-null     int64 \n",
      " 2   sequence_id     94 non-null     int64 \n",
      " 3   sign            94 non-null     object\n",
      "dtypes: int64(2), object(2)\n",
      "memory usage: 3.1+ KB\n"
     ]
    }
   ],
   "source": [
    "df_csv.info()"
   ]
  },
  {
   "attachments": {},
   "cell_type": "markdown",
   "metadata": {},
   "source": [
    "The column names are `path` (object), `participant_id` (int64), `sequence_id` (int64) and `sign` (object). "
   ]
  },
  {
   "attachments": {},
   "cell_type": "markdown",
   "metadata": {},
   "source": [
    "### 94477 unique `path`s"
   ]
  },
  {
   "cell_type": "code",
   "execution_count": 43,
   "metadata": {},
   "outputs": [
    {
     "data": {
      "text/plain": [
       "94"
      ]
     },
     "execution_count": 43,
     "metadata": {},
     "output_type": "execute_result"
    }
   ],
   "source": [
    "df_csv.path.unique().shape[0]\n"
   ]
  },
  {
   "cell_type": "code",
   "execution_count": 44,
   "metadata": {},
   "outputs": [
    {
     "data": {
      "text/plain": [
       "'train_landmark_files/27610/561476403.parquet'"
      ]
     },
     "execution_count": 44,
     "metadata": {},
     "output_type": "execute_result"
    }
   ],
   "source": [
    "df_csv.path.unique()[0] # example path from first row "
   ]
  },
  {
   "attachments": {},
   "cell_type": "markdown",
   "metadata": {},
   "source": [
    "We have 94477 unique paths (equal to the number of rows) for parquet files, which means that each row has a corresponding parquet file. "
   ]
  },
  {
   "attachments": {},
   "cell_type": "markdown",
   "metadata": {},
   "source": [
    "### 94477 unique `sequence_id`s"
   ]
  },
  {
   "cell_type": "code",
   "execution_count": 45,
   "metadata": {},
   "outputs": [
    {
     "data": {
      "text/plain": [
       "94"
      ]
     },
     "execution_count": 45,
     "metadata": {},
     "output_type": "execute_result"
    }
   ],
   "source": [
    "df_csv.sequence_id.unique().shape[0]\n"
   ]
  },
  {
   "attachments": {},
   "cell_type": "markdown",
   "metadata": {},
   "source": [
    "We also have 94477 unique `sequence_id`s (equal to the number of rows), which means that each row corresponds to a single sequence. \n",
    "\n",
    "Thus, each parquet file in `path` corresponds to a certain sequence in `sequence_id`. "
   ]
  },
  {
   "attachments": {},
   "cell_type": "markdown",
   "metadata": {},
   "source": [
    "### 21 unique `participant_id`s"
   ]
  },
  {
   "cell_type": "code",
   "execution_count": 46,
   "metadata": {},
   "outputs": [
    {
     "data": {
      "text/plain": [
       "21"
      ]
     },
     "execution_count": 46,
     "metadata": {},
     "output_type": "execute_result"
    }
   ],
   "source": [
    "df_csv.participant_id.unique().shape[0]\n"
   ]
  },
  {
   "attachments": {},
   "cell_type": "markdown",
   "metadata": {},
   "source": [
    "There are 21 unique participant IDs in our dataset, which are: "
   ]
  },
  {
   "cell_type": "code",
   "execution_count": 47,
   "metadata": {},
   "outputs": [
    {
     "data": {
      "text/html": [
       "<div>\n",
       "<style scoped>\n",
       "    .dataframe tbody tr th:only-of-type {\n",
       "        vertical-align: middle;\n",
       "    }\n",
       "\n",
       "    .dataframe tbody tr th {\n",
       "        vertical-align: top;\n",
       "    }\n",
       "\n",
       "    .dataframe thead th {\n",
       "        text-align: right;\n",
       "    }\n",
       "</style>\n",
       "<table border=\"1\" class=\"dataframe\">\n",
       "  <thead>\n",
       "    <tr style=\"text-align: right;\">\n",
       "      <th></th>\n",
       "      <th>participant_id</th>\n",
       "    </tr>\n",
       "  </thead>\n",
       "  <tbody>\n",
       "    <tr>\n",
       "      <th>0</th>\n",
       "      <td>27610</td>\n",
       "    </tr>\n",
       "    <tr>\n",
       "      <th>1</th>\n",
       "      <td>62590</td>\n",
       "    </tr>\n",
       "    <tr>\n",
       "      <th>2</th>\n",
       "      <td>22343</td>\n",
       "    </tr>\n",
       "    <tr>\n",
       "      <th>3</th>\n",
       "      <td>49445</td>\n",
       "    </tr>\n",
       "    <tr>\n",
       "      <th>4</th>\n",
       "      <td>34503</td>\n",
       "    </tr>\n",
       "    <tr>\n",
       "      <th>5</th>\n",
       "      <td>25571</td>\n",
       "    </tr>\n",
       "    <tr>\n",
       "      <th>6</th>\n",
       "      <td>55372</td>\n",
       "    </tr>\n",
       "    <tr>\n",
       "      <th>7</th>\n",
       "      <td>36257</td>\n",
       "    </tr>\n",
       "    <tr>\n",
       "      <th>8</th>\n",
       "      <td>53618</td>\n",
       "    </tr>\n",
       "    <tr>\n",
       "      <th>9</th>\n",
       "      <td>2044</td>\n",
       "    </tr>\n",
       "    <tr>\n",
       "      <th>10</th>\n",
       "      <td>37779</td>\n",
       "    </tr>\n",
       "    <tr>\n",
       "      <th>11</th>\n",
       "      <td>61333</td>\n",
       "    </tr>\n",
       "    <tr>\n",
       "      <th>12</th>\n",
       "      <td>26734</td>\n",
       "    </tr>\n",
       "    <tr>\n",
       "      <th>13</th>\n",
       "      <td>30680</td>\n",
       "    </tr>\n",
       "    <tr>\n",
       "      <th>14</th>\n",
       "      <td>16069</td>\n",
       "    </tr>\n",
       "    <tr>\n",
       "      <th>15</th>\n",
       "      <td>37055</td>\n",
       "    </tr>\n",
       "    <tr>\n",
       "      <th>16</th>\n",
       "      <td>32319</td>\n",
       "    </tr>\n",
       "    <tr>\n",
       "      <th>17</th>\n",
       "      <td>28656</td>\n",
       "    </tr>\n",
       "    <tr>\n",
       "      <th>18</th>\n",
       "      <td>18796</td>\n",
       "    </tr>\n",
       "    <tr>\n",
       "      <th>19</th>\n",
       "      <td>4718</td>\n",
       "    </tr>\n",
       "    <tr>\n",
       "      <th>20</th>\n",
       "      <td>29302</td>\n",
       "    </tr>\n",
       "  </tbody>\n",
       "</table>\n",
       "</div>"
      ],
      "text/plain": [
       "    participant_id\n",
       "0            27610\n",
       "1            62590\n",
       "2            22343\n",
       "3            49445\n",
       "4            34503\n",
       "5            25571\n",
       "6            55372\n",
       "7            36257\n",
       "8            53618\n",
       "9             2044\n",
       "10           37779\n",
       "11           61333\n",
       "12           26734\n",
       "13           30680\n",
       "14           16069\n",
       "15           37055\n",
       "16           32319\n",
       "17           28656\n",
       "18           18796\n",
       "19            4718\n",
       "20           29302"
      ]
     },
     "execution_count": 47,
     "metadata": {},
     "output_type": "execute_result"
    }
   ],
   "source": [
    "pd.DataFrame(df_csv.participant_id.unique(), columns=['participant_id'])"
   ]
  },
  {
   "attachments": {},
   "cell_type": "markdown",
   "metadata": {},
   "source": [
    "### 250 unique `sign`s"
   ]
  },
  {
   "cell_type": "code",
   "execution_count": 48,
   "metadata": {},
   "outputs": [
    {
     "data": {
      "text/plain": [
       "80"
      ]
     },
     "execution_count": 48,
     "metadata": {},
     "output_type": "execute_result"
    }
   ],
   "source": [
    "df_csv.sign.unique().shape[0]\n"
   ]
  },
  {
   "attachments": {},
   "cell_type": "markdown",
   "metadata": {},
   "source": [
    "There are 250 unique signs in our dataset, which are: "
   ]
  },
  {
   "cell_type": "code",
   "execution_count": 49,
   "metadata": {},
   "outputs": [
    {
     "name": "stdout",
     "output_type": "stream",
     "text": [
      "['refrigerator' 'pizza' 'ear' 'girl' 'mad' 'police' 'milk' 'cheek' 'story'\n",
      " 'frog' 'lion' 'talk' 'not' 'pretend' 'wait' 'boy' 'book' 'room' 'puppy'\n",
      " 'like' 'nose' 'bedroom' 'later' 'every' 'cow' 'puzzle' 'underwear'\n",
      " 'minemy' 'yucky' 'cat' 'smile' 'quiet' 'thankyou' 'sun' 'nap' 'person'\n",
      " 'why' 'wake' 'face' 'on' 'helicopter' 'sleep' 'open' 'animal' 'bug'\n",
      " 'into' 'gift' 'find' 'cut' 'orange' 'pig' 'yourself' 'yellow' 'lips'\n",
      " 'morning' 'aunt' 'arm' 'tomorrow' 'balloon' 'moon' 'hair' 'kitty' 'bath'\n",
      " 'make' 'after' 'closet' 'bed' 'grandma' 'fast' 'donkey' 'old' 'shirt'\n",
      " 'better' 'grass' 'close' 'where' 'will' 'cowboy' 'boat' 'carrot']\n"
     ]
    }
   ],
   "source": [
    "print(df_csv.sign.unique())"
   ]
  },
  {
   "attachments": {},
   "cell_type": "markdown",
   "metadata": {},
   "source": [
    "### Average 378 sequences per sign"
   ]
  },
  {
   "cell_type": "code",
   "execution_count": 50,
   "metadata": {},
   "outputs": [
    {
     "data": {
      "text/html": [
       "<div>\n",
       "<style scoped>\n",
       "    .dataframe tbody tr th:only-of-type {\n",
       "        vertical-align: middle;\n",
       "    }\n",
       "\n",
       "    .dataframe tbody tr th {\n",
       "        vertical-align: top;\n",
       "    }\n",
       "\n",
       "    .dataframe thead th {\n",
       "        text-align: right;\n",
       "    }\n",
       "</style>\n",
       "<table border=\"1\" class=\"dataframe\">\n",
       "  <thead>\n",
       "    <tr style=\"text-align: right;\">\n",
       "      <th></th>\n",
       "      <th>sequence_id</th>\n",
       "    </tr>\n",
       "    <tr>\n",
       "      <th>sign</th>\n",
       "      <th></th>\n",
       "    </tr>\n",
       "  </thead>\n",
       "  <tbody>\n",
       "    <tr>\n",
       "      <th>after</th>\n",
       "      <td>1</td>\n",
       "    </tr>\n",
       "    <tr>\n",
       "      <th>person</th>\n",
       "      <td>1</td>\n",
       "    </tr>\n",
       "    <tr>\n",
       "      <th>open</th>\n",
       "      <td>1</td>\n",
       "    </tr>\n",
       "    <tr>\n",
       "      <th>on</th>\n",
       "      <td>1</td>\n",
       "    </tr>\n",
       "    <tr>\n",
       "      <th>old</th>\n",
       "      <td>1</td>\n",
       "    </tr>\n",
       "  </tbody>\n",
       "</table>\n",
       "</div>"
      ],
      "text/plain": [
       "        sequence_id\n",
       "sign               \n",
       "after             1\n",
       "person            1\n",
       "open              1\n",
       "on                1\n",
       "old               1"
      ]
     },
     "execution_count": 50,
     "metadata": {},
     "output_type": "execute_result"
    }
   ],
   "source": [
    "df_csv[['sign', 'sequence_id']].groupby('sign').count().sort_values(by='sequence_id').head()"
   ]
  },
  {
   "cell_type": "code",
   "execution_count": 51,
   "metadata": {},
   "outputs": [
    {
     "data": {
      "text/html": [
       "<div>\n",
       "<style scoped>\n",
       "    .dataframe tbody tr th:only-of-type {\n",
       "        vertical-align: middle;\n",
       "    }\n",
       "\n",
       "    .dataframe tbody tr th {\n",
       "        vertical-align: top;\n",
       "    }\n",
       "\n",
       "    .dataframe thead th {\n",
       "        text-align: right;\n",
       "    }\n",
       "</style>\n",
       "<table border=\"1\" class=\"dataframe\">\n",
       "  <thead>\n",
       "    <tr style=\"text-align: right;\">\n",
       "      <th></th>\n",
       "      <th>sequence_id</th>\n",
       "    </tr>\n",
       "    <tr>\n",
       "      <th>sign</th>\n",
       "      <th></th>\n",
       "    </tr>\n",
       "  </thead>\n",
       "  <tbody>\n",
       "    <tr>\n",
       "      <th>orange</th>\n",
       "      <td>2</td>\n",
       "    </tr>\n",
       "    <tr>\n",
       "      <th>talk</th>\n",
       "      <td>2</td>\n",
       "    </tr>\n",
       "    <tr>\n",
       "      <th>yucky</th>\n",
       "      <td>2</td>\n",
       "    </tr>\n",
       "    <tr>\n",
       "      <th>ear</th>\n",
       "      <td>3</td>\n",
       "    </tr>\n",
       "    <tr>\n",
       "      <th>mad</th>\n",
       "      <td>3</td>\n",
       "    </tr>\n",
       "  </tbody>\n",
       "</table>\n",
       "</div>"
      ],
      "text/plain": [
       "        sequence_id\n",
       "sign               \n",
       "orange            2\n",
       "talk              2\n",
       "yucky             2\n",
       "ear               3\n",
       "mad               3"
      ]
     },
     "execution_count": 51,
     "metadata": {},
     "output_type": "execute_result"
    }
   ],
   "source": [
    "df_csv[['sign', 'sequence_id']].groupby('sign').count().sort_values(by='sequence_id').tail()"
   ]
  },
  {
   "cell_type": "code",
   "execution_count": 52,
   "metadata": {},
   "outputs": [
    {
     "data": {
      "text/plain": [
       "<AxesSubplot:xlabel='sign'>"
      ]
     },
     "execution_count": 52,
     "metadata": {},
     "output_type": "execute_result"
    },
    {
     "data": {
      "image/png": "[encoded data removed]",
      "text/plain": [
       "<Figure size 1500x300 with 1 Axes>"
      ]
     },
     "metadata": {},
     "output_type": "display_data"
    }
   ],
   "source": [
    "df_csv[['sign', 'sequence_id']].groupby('sign').count().sort_values(by='sequence_id').plot(kind='bar', figsize=(15,3), fontsize=4)"
   ]
  },
  {
   "cell_type": "code",
   "execution_count": 53,
   "metadata": {},
   "outputs": [
    {
     "data": {
      "text/html": [
       "<div>\n",
       "<style scoped>\n",
       "    .dataframe tbody tr th:only-of-type {\n",
       "        vertical-align: middle;\n",
       "    }\n",
       "\n",
       "    .dataframe tbody tr th {\n",
       "        vertical-align: top;\n",
       "    }\n",
       "\n",
       "    .dataframe thead th {\n",
       "        text-align: right;\n",
       "    }\n",
       "</style>\n",
       "<table border=\"1\" class=\"dataframe\">\n",
       "  <thead>\n",
       "    <tr style=\"text-align: right;\">\n",
       "      <th></th>\n",
       "      <th>sequence_id</th>\n",
       "    </tr>\n",
       "  </thead>\n",
       "  <tbody>\n",
       "    <tr>\n",
       "      <th>count</th>\n",
       "      <td>80.000000</td>\n",
       "    </tr>\n",
       "    <tr>\n",
       "      <th>mean</th>\n",
       "      <td>1.175000</td>\n",
       "    </tr>\n",
       "    <tr>\n",
       "      <th>std</th>\n",
       "      <td>0.443661</td>\n",
       "    </tr>\n",
       "    <tr>\n",
       "      <th>min</th>\n",
       "      <td>1.000000</td>\n",
       "    </tr>\n",
       "    <tr>\n",
       "      <th>25%</th>\n",
       "      <td>1.000000</td>\n",
       "    </tr>\n",
       "    <tr>\n",
       "      <th>50%</th>\n",
       "      <td>1.000000</td>\n",
       "    </tr>\n",
       "    <tr>\n",
       "      <th>75%</th>\n",
       "      <td>1.000000</td>\n",
       "    </tr>\n",
       "    <tr>\n",
       "      <th>max</th>\n",
       "      <td>3.000000</td>\n",
       "    </tr>\n",
       "  </tbody>\n",
       "</table>\n",
       "</div>"
      ],
      "text/plain": [
       "       sequence_id\n",
       "count    80.000000\n",
       "mean      1.175000\n",
       "std       0.443661\n",
       "min       1.000000\n",
       "25%       1.000000\n",
       "50%       1.000000\n",
       "75%       1.000000\n",
       "max       3.000000"
      ]
     },
     "execution_count": 53,
     "metadata": {},
     "output_type": "execute_result"
    }
   ],
   "source": [
    "df_csv[['sign', 'sequence_id']].groupby('sign').count().sort_values(by='sequence_id').describe()"
   ]
  },
  {
   "attachments": {},
   "cell_type": "markdown",
   "metadata": {},
   "source": [
    "We have between 300 to 400 recorded total sequences for each sign. "
   ]
  },
  {
   "attachments": {},
   "cell_type": "markdown",
   "metadata": {},
   "source": [
    "### Average 4499 sequences per participant"
   ]
  },
  {
   "cell_type": "code",
   "execution_count": 54,
   "metadata": {},
   "outputs": [
    {
     "data": {
      "text/html": [
       "<div>\n",
       "<style scoped>\n",
       "    .dataframe tbody tr th:only-of-type {\n",
       "        vertical-align: middle;\n",
       "    }\n",
       "\n",
       "    .dataframe tbody tr th {\n",
       "        vertical-align: top;\n",
       "    }\n",
       "\n",
       "    .dataframe thead th {\n",
       "        text-align: right;\n",
       "    }\n",
       "</style>\n",
       "<table border=\"1\" class=\"dataframe\">\n",
       "  <thead>\n",
       "    <tr style=\"text-align: right;\">\n",
       "      <th></th>\n",
       "      <th>sequence_id</th>\n",
       "    </tr>\n",
       "    <tr>\n",
       "      <th>participant_id</th>\n",
       "      <th></th>\n",
       "    </tr>\n",
       "  </thead>\n",
       "  <tbody>\n",
       "    <tr>\n",
       "      <th>28656</th>\n",
       "      <td>1</td>\n",
       "    </tr>\n",
       "    <tr>\n",
       "      <th>29302</th>\n",
       "      <td>1</td>\n",
       "    </tr>\n",
       "    <tr>\n",
       "      <th>61333</th>\n",
       "      <td>1</td>\n",
       "    </tr>\n",
       "    <tr>\n",
       "      <th>4718</th>\n",
       "      <td>2</td>\n",
       "    </tr>\n",
       "    <tr>\n",
       "      <th>18796</th>\n",
       "      <td>2</td>\n",
       "    </tr>\n",
       "  </tbody>\n",
       "</table>\n",
       "</div>"
      ],
      "text/plain": [
       "                sequence_id\n",
       "participant_id             \n",
       "28656                     1\n",
       "29302                     1\n",
       "61333                     1\n",
       "4718                      2\n",
       "18796                     2"
      ]
     },
     "execution_count": 54,
     "metadata": {},
     "output_type": "execute_result"
    }
   ],
   "source": [
    "df_csv[['participant_id', 'sequence_id']].groupby('participant_id').count().sort_values(by='sequence_id').head()"
   ]
  },
  {
   "cell_type": "code",
   "execution_count": 55,
   "metadata": {},
   "outputs": [
    {
     "data": {
      "text/plain": [
       "<AxesSubplot:xlabel='participant_id'>"
      ]
     },
     "execution_count": 55,
     "metadata": {},
     "output_type": "execute_result"
    },
    {
     "data": {
      "image/png": "[encoded data removed]",
      "text/plain": [
       "<Figure size 1500x300 with 1 Axes>"
      ]
     },
     "metadata": {},
     "output_type": "display_data"
    }
   ],
   "source": [
    "df_csv[['sequence_id', 'participant_id']].groupby('participant_id').count().sort_values(by='sequence_id').plot(kind='bar', figsize=(15,3))"
   ]
  },
  {
   "cell_type": "code",
   "execution_count": 56,
   "metadata": {},
   "outputs": [
    {
     "data": {
      "text/html": [
       "<div>\n",
       "<style scoped>\n",
       "    .dataframe tbody tr th:only-of-type {\n",
       "        vertical-align: middle;\n",
       "    }\n",
       "\n",
       "    .dataframe tbody tr th {\n",
       "        vertical-align: top;\n",
       "    }\n",
       "\n",
       "    .dataframe thead th {\n",
       "        text-align: right;\n",
       "    }\n",
       "</style>\n",
       "<table border=\"1\" class=\"dataframe\">\n",
       "  <thead>\n",
       "    <tr style=\"text-align: right;\">\n",
       "      <th></th>\n",
       "      <th>sequence_id</th>\n",
       "    </tr>\n",
       "  </thead>\n",
       "  <tbody>\n",
       "    <tr>\n",
       "      <th>count</th>\n",
       "      <td>21.000000</td>\n",
       "    </tr>\n",
       "    <tr>\n",
       "      <th>mean</th>\n",
       "      <td>4.476190</td>\n",
       "    </tr>\n",
       "    <tr>\n",
       "      <th>std</th>\n",
       "      <td>2.839349</td>\n",
       "    </tr>\n",
       "    <tr>\n",
       "      <th>min</th>\n",
       "      <td>1.000000</td>\n",
       "    </tr>\n",
       "    <tr>\n",
       "      <th>25%</th>\n",
       "      <td>2.000000</td>\n",
       "    </tr>\n",
       "    <tr>\n",
       "      <th>50%</th>\n",
       "      <td>4.000000</td>\n",
       "    </tr>\n",
       "    <tr>\n",
       "      <th>75%</th>\n",
       "      <td>6.000000</td>\n",
       "    </tr>\n",
       "    <tr>\n",
       "      <th>max</th>\n",
       "      <td>11.000000</td>\n",
       "    </tr>\n",
       "  </tbody>\n",
       "</table>\n",
       "</div>"
      ],
      "text/plain": [
       "       sequence_id\n",
       "count    21.000000\n",
       "mean      4.476190\n",
       "std       2.839349\n",
       "min       1.000000\n",
       "25%       2.000000\n",
       "50%       4.000000\n",
       "75%       6.000000\n",
       "max      11.000000"
      ]
     },
     "execution_count": 56,
     "metadata": {},
     "output_type": "execute_result"
    }
   ],
   "source": [
    "df_csv[['sequence_id', 'participant_id']].groupby('participant_id').count().sort_values(by='sequence_id').describe()"
   ]
  },
  {
   "attachments": {},
   "cell_type": "markdown",
   "metadata": {},
   "source": [
    "All participants signed well over 3000 sequences and most participants recorded even over 4000 sequences. "
   ]
  },
  {
   "attachments": {},
   "cell_type": "markdown",
   "metadata": {},
   "source": [
    "### Some missing signs for two participants 30680 and 25571"
   ]
  },
  {
   "cell_type": "code",
   "execution_count": 57,
   "metadata": {},
   "outputs": [
    {
     "data": {
      "text/html": [
       "<div>\n",
       "<style scoped>\n",
       "    .dataframe tbody tr th:only-of-type {\n",
       "        vertical-align: middle;\n",
       "    }\n",
       "\n",
       "    .dataframe tbody tr th {\n",
       "        vertical-align: top;\n",
       "    }\n",
       "\n",
       "    .dataframe thead th {\n",
       "        text-align: right;\n",
       "    }\n",
       "</style>\n",
       "<table border=\"1\" class=\"dataframe\">\n",
       "  <thead>\n",
       "    <tr style=\"text-align: right;\">\n",
       "      <th></th>\n",
       "      <th>sign</th>\n",
       "    </tr>\n",
       "    <tr>\n",
       "      <th>participant_id</th>\n",
       "      <th></th>\n",
       "    </tr>\n",
       "  </thead>\n",
       "  <tbody>\n",
       "    <tr>\n",
       "      <th>28656</th>\n",
       "      <td>1</td>\n",
       "    </tr>\n",
       "    <tr>\n",
       "      <th>29302</th>\n",
       "      <td>1</td>\n",
       "    </tr>\n",
       "    <tr>\n",
       "      <th>61333</th>\n",
       "      <td>1</td>\n",
       "    </tr>\n",
       "    <tr>\n",
       "      <th>4718</th>\n",
       "      <td>2</td>\n",
       "    </tr>\n",
       "    <tr>\n",
       "      <th>18796</th>\n",
       "      <td>2</td>\n",
       "    </tr>\n",
       "  </tbody>\n",
       "</table>\n",
       "</div>"
      ],
      "text/plain": [
       "                sign\n",
       "participant_id      \n",
       "28656              1\n",
       "29302              1\n",
       "61333              1\n",
       "4718               2\n",
       "18796              2"
      ]
     },
     "execution_count": 57,
     "metadata": {},
     "output_type": "execute_result"
    }
   ],
   "source": [
    "df_csv[['participant_id', 'sign']].groupby('participant_id').nunique().sort_values(by='sign').head()"
   ]
  },
  {
   "cell_type": "code",
   "execution_count": 58,
   "metadata": {},
   "outputs": [
    {
     "data": {
      "text/plain": [
       "<AxesSubplot:xlabel='participant_id'>"
      ]
     },
     "execution_count": 58,
     "metadata": {},
     "output_type": "execute_result"
    },
    {
     "data": {
      "image/png": "[encoded data removed]",
      "text/plain": [
       "<Figure size 1500x300 with 1 Axes>"
      ]
     },
     "metadata": {},
     "output_type": "display_data"
    }
   ],
   "source": [
    "df_csv[['participant_id', 'sign']].groupby('participant_id').nunique().sort_values(by='sign').plot(kind='bar', figsize=(15,3))"
   ]
  },
  {
   "cell_type": "code",
   "execution_count": 59,
   "metadata": {},
   "outputs": [
    {
     "data": {
      "text/html": [
       "<div>\n",
       "<style scoped>\n",
       "    .dataframe tbody tr th:only-of-type {\n",
       "        vertical-align: middle;\n",
       "    }\n",
       "\n",
       "    .dataframe tbody tr th {\n",
       "        vertical-align: top;\n",
       "    }\n",
       "\n",
       "    .dataframe thead th {\n",
       "        text-align: right;\n",
       "    }\n",
       "</style>\n",
       "<table border=\"1\" class=\"dataframe\">\n",
       "  <thead>\n",
       "    <tr style=\"text-align: right;\">\n",
       "      <th></th>\n",
       "      <th>sign</th>\n",
       "    </tr>\n",
       "  </thead>\n",
       "  <tbody>\n",
       "    <tr>\n",
       "      <th>count</th>\n",
       "      <td>21.000000</td>\n",
       "    </tr>\n",
       "    <tr>\n",
       "      <th>mean</th>\n",
       "      <td>4.428571</td>\n",
       "    </tr>\n",
       "    <tr>\n",
       "      <th>std</th>\n",
       "      <td>2.749026</td>\n",
       "    </tr>\n",
       "    <tr>\n",
       "      <th>min</th>\n",
       "      <td>1.000000</td>\n",
       "    </tr>\n",
       "    <tr>\n",
       "      <th>25%</th>\n",
       "      <td>2.000000</td>\n",
       "    </tr>\n",
       "    <tr>\n",
       "      <th>50%</th>\n",
       "      <td>4.000000</td>\n",
       "    </tr>\n",
       "    <tr>\n",
       "      <th>75%</th>\n",
       "      <td>6.000000</td>\n",
       "    </tr>\n",
       "    <tr>\n",
       "      <th>max</th>\n",
       "      <td>11.000000</td>\n",
       "    </tr>\n",
       "  </tbody>\n",
       "</table>\n",
       "</div>"
      ],
      "text/plain": [
       "            sign\n",
       "count  21.000000\n",
       "mean    4.428571\n",
       "std     2.749026\n",
       "min     1.000000\n",
       "25%     2.000000\n",
       "50%     4.000000\n",
       "75%     6.000000\n",
       "max    11.000000"
      ]
     },
     "execution_count": 59,
     "metadata": {},
     "output_type": "execute_result"
    }
   ],
   "source": [
    "df_csv[['participant_id', 'sign']].groupby('participant_id').nunique().sort_values(by='sign').describe()"
   ]
  },
  {
   "attachments": {},
   "cell_type": "markdown",
   "metadata": {},
   "source": [
    "In our dataset some signs are not available from participants 30680 and 25571. "
   ]
  },
  {
   "attachments": {},
   "cell_type": "markdown",
   "metadata": {},
   "source": [
    "For participant 30680 following signs are missing: "
   ]
  },
  {
   "cell_type": "code",
   "execution_count": 60,
   "metadata": {},
   "outputs": [
    {
     "data": {
      "text/plain": [
       "{'after',\n",
       " 'animal',\n",
       " 'arm',\n",
       " 'aunt',\n",
       " 'balloon',\n",
       " 'bath',\n",
       " 'bed',\n",
       " 'bedroom',\n",
       " 'better',\n",
       " 'boat',\n",
       " 'book',\n",
       " 'boy',\n",
       " 'bug',\n",
       " 'carrot',\n",
       " 'cat',\n",
       " 'cheek',\n",
       " 'close',\n",
       " 'closet',\n",
       " 'cow',\n",
       " 'cowboy',\n",
       " 'cut',\n",
       " 'donkey',\n",
       " 'ear',\n",
       " 'every',\n",
       " 'face',\n",
       " 'fast',\n",
       " 'find',\n",
       " 'frog',\n",
       " 'gift',\n",
       " 'girl',\n",
       " 'grandma',\n",
       " 'grass',\n",
       " 'hair',\n",
       " 'helicopter',\n",
       " 'into',\n",
       " 'kitty',\n",
       " 'later',\n",
       " 'lion',\n",
       " 'lips',\n",
       " 'mad',\n",
       " 'milk',\n",
       " 'minemy',\n",
       " 'moon',\n",
       " 'morning',\n",
       " 'nap',\n",
       " 'nose',\n",
       " 'not',\n",
       " 'old',\n",
       " 'on',\n",
       " 'open',\n",
       " 'orange',\n",
       " 'person',\n",
       " 'pig',\n",
       " 'pizza',\n",
       " 'police',\n",
       " 'pretend',\n",
       " 'puppy',\n",
       " 'puzzle',\n",
       " 'refrigerator',\n",
       " 'room',\n",
       " 'shirt',\n",
       " 'sleep',\n",
       " 'story',\n",
       " 'sun',\n",
       " 'talk',\n",
       " 'thankyou',\n",
       " 'tomorrow',\n",
       " 'underwear',\n",
       " 'wait',\n",
       " 'wake',\n",
       " 'where',\n",
       " 'why',\n",
       " 'will',\n",
       " 'yellow',\n",
       " 'yourself',\n",
       " 'yucky'}"
      ]
     },
     "execution_count": 60,
     "metadata": {},
     "output_type": "execute_result"
    }
   ],
   "source": [
    "set(df_csv.sign.unique()).difference(set(df_csv[df_csv.participant_id == 30680].sign.unique()))"
   ]
  },
  {
   "attachments": {},
   "cell_type": "markdown",
   "metadata": {},
   "source": [
    "For participant 25571 following signs are missing: "
   ]
  },
  {
   "cell_type": "code",
   "execution_count": 61,
   "metadata": {},
   "outputs": [
    {
     "data": {
      "text/plain": [
       "{'after',\n",
       " 'animal',\n",
       " 'arm',\n",
       " 'aunt',\n",
       " 'balloon',\n",
       " 'bath',\n",
       " 'bed',\n",
       " 'bedroom',\n",
       " 'better',\n",
       " 'boat',\n",
       " 'book',\n",
       " 'boy',\n",
       " 'bug',\n",
       " 'carrot',\n",
       " 'cat',\n",
       " 'cheek',\n",
       " 'close',\n",
       " 'closet',\n",
       " 'cow',\n",
       " 'cowboy',\n",
       " 'cut',\n",
       " 'donkey',\n",
       " 'ear',\n",
       " 'every',\n",
       " 'face',\n",
       " 'fast',\n",
       " 'find',\n",
       " 'gift',\n",
       " 'girl',\n",
       " 'grandma',\n",
       " 'grass',\n",
       " 'hair',\n",
       " 'into',\n",
       " 'later',\n",
       " 'like',\n",
       " 'lion',\n",
       " 'lips',\n",
       " 'mad',\n",
       " 'make',\n",
       " 'milk',\n",
       " 'minemy',\n",
       " 'moon',\n",
       " 'morning',\n",
       " 'nap',\n",
       " 'nose',\n",
       " 'not',\n",
       " 'old',\n",
       " 'on',\n",
       " 'open',\n",
       " 'orange',\n",
       " 'person',\n",
       " 'pig',\n",
       " 'pizza',\n",
       " 'police',\n",
       " 'pretend',\n",
       " 'puppy',\n",
       " 'puzzle',\n",
       " 'quiet',\n",
       " 'refrigerator',\n",
       " 'room',\n",
       " 'sleep',\n",
       " 'smile',\n",
       " 'story',\n",
       " 'sun',\n",
       " 'talk',\n",
       " 'thankyou',\n",
       " 'tomorrow',\n",
       " 'underwear',\n",
       " 'wait',\n",
       " 'wake',\n",
       " 'where',\n",
       " 'why',\n",
       " 'yellow',\n",
       " 'yourself',\n",
       " 'yucky'}"
      ]
     },
     "execution_count": 61,
     "metadata": {},
     "output_type": "execute_result"
    }
   ],
   "source": [
    "set(df_csv.sign.unique()).difference(set(df_csv[df_csv.participant_id == 25571].sign.unique()))"
   ]
  },
  {
   "attachments": {},
   "cell_type": "markdown",
   "metadata": {},
   "source": [
    "---\n",
    "# The parquet files"
   ]
  },
  {
   "attachments": {},
   "cell_type": "markdown",
   "metadata": {},
   "source": [
    "## 1. General info"
   ]
  },
  {
   "attachments": {},
   "cell_type": "markdown",
   "metadata": {},
   "source": [
    "The landmark data. The landmarks were extracted from raw videos with the MediaPipe holistic model. Not all of the frames necessarily had visible hands or hands that could be detected by the model.\n",
    "\n",
    "Landmark data should not be used to identify or re-identify an individual. Landmark data is not intended to enable any form of identity recognition or store any unique biometric identification.\n",
    "\n",
    "- `frame` - The frame number in the raw video.\n",
    "- `row_id` - A unique identifier for the row.\n",
    "- `type` - The type of landmark. One of ['face', 'left_hand', 'pose', 'right_hand'].\n",
    "- `landmark_index` - The landmark index number. Details of the hand landmark locations can be found here.\n",
    "- [`x`/`y`/`z`] - The normalized spatial coordinates of the landmark. These are the only columns that will be provided to your submitted model for inference. The MediaPipe model is not fully trained to predict depth so you may wish to ignore the z values."
   ]
  },
  {
   "attachments": {},
   "cell_type": "markdown",
   "metadata": {},
   "source": [
    "## 2. Load data"
   ]
  },
  {
   "attachments": {},
   "cell_type": "markdown",
   "metadata": {},
   "source": [
    "### .parquet files"
   ]
  },
  {
   "cell_type": "code",
   "execution_count": 63,
   "metadata": {},
   "outputs": [],
   "source": [
    "# function to load all parquet files from a train.csv dataframe into a new dataframe\n",
    "def load_parquet_files_from_csv(LOAD_PARQUET, df_csv): \n",
    "\n",
    "    # if LOAD_PARQUET flag is 1 (yes), read in parquet files\n",
    "    if LOAD_PARQUET == 1: \n",
    "\n",
    "        df = pd.DataFrame() #initialize empty dataframe\n",
    "        for i in range(len(df_csv)):\n",
    "            path = df_csv.path[i] # get current parquet file path\n",
    "\n",
    "            # load parquet file\n",
    "            parquet = pd.read_parquet('../data/asl-signs/'+path)\n",
    "\n",
    "            # add participant_id and sign from csv file\n",
    "            parquet['participant_id'] = df_csv.participant_id[i] # add current participant id\n",
    "            parquet['sign'] = df_csv.sign[i] # add current sign\n",
    "\n",
    "            # concatenate all parquet file data to a dataframe\n",
    "            df = pd.concat([df, parquet], axis = 0)\n",
    "    \n",
    "        return df"
   ]
  },
  {
   "cell_type": "code",
   "execution_count": null,
   "metadata": {},
   "outputs": [],
   "source": [
    "df = load_parquet_files_from_csv(LOAD_PARQUET, df_csv)"
   ]
  },
  {
   "attachments": {},
   "cell_type": "markdown",
   "metadata": {},
   "source": [
    "### sign_to_prediction_index_map.json file"
   ]
  },
  {
   "cell_type": "code",
   "execution_count": 62,
   "metadata": {},
   "outputs": [
    {
     "data": {
      "text/plain": [
       "{'TV': 0,\n",
       " 'after': 1,\n",
       " 'airplane': 2,\n",
       " 'all': 3,\n",
       " 'alligator': 4,\n",
       " 'animal': 5,\n",
       " 'another': 6,\n",
       " 'any': 7,\n",
       " 'apple': 8,\n",
       " 'arm': 9,\n",
       " 'aunt': 10,\n",
       " 'awake': 11,\n",
       " 'backyard': 12,\n",
       " 'bad': 13,\n",
       " 'balloon': 14,\n",
       " 'bath': 15,\n",
       " 'because': 16,\n",
       " 'bed': 17,\n",
       " 'bedroom': 18,\n",
       " 'bee': 19,\n",
       " 'before': 20,\n",
       " 'beside': 21,\n",
       " 'better': 22,\n",
       " 'bird': 23,\n",
       " 'black': 24,\n",
       " 'blow': 25,\n",
       " 'blue': 26,\n",
       " 'boat': 27,\n",
       " 'book': 28,\n",
       " 'boy': 29,\n",
       " 'brother': 30,\n",
       " 'brown': 31,\n",
       " 'bug': 32,\n",
       " 'bye': 33,\n",
       " 'callonphone': 34,\n",
       " 'can': 35,\n",
       " 'car': 36,\n",
       " 'carrot': 37,\n",
       " 'cat': 38,\n",
       " 'cereal': 39,\n",
       " 'chair': 40,\n",
       " 'cheek': 41,\n",
       " 'child': 42,\n",
       " 'chin': 43,\n",
       " 'chocolate': 44,\n",
       " 'clean': 45,\n",
       " 'close': 46,\n",
       " 'closet': 47,\n",
       " 'cloud': 48,\n",
       " 'clown': 49,\n",
       " 'cow': 50,\n",
       " 'cowboy': 51,\n",
       " 'cry': 52,\n",
       " 'cut': 53,\n",
       " 'cute': 54,\n",
       " 'dad': 55,\n",
       " 'dance': 56,\n",
       " 'dirty': 57,\n",
       " 'dog': 58,\n",
       " 'doll': 59,\n",
       " 'donkey': 60,\n",
       " 'down': 61,\n",
       " 'drawer': 62,\n",
       " 'drink': 63,\n",
       " 'drop': 64,\n",
       " 'dry': 65,\n",
       " 'dryer': 66,\n",
       " 'duck': 67,\n",
       " 'ear': 68,\n",
       " 'elephant': 69,\n",
       " 'empty': 70,\n",
       " 'every': 71,\n",
       " 'eye': 72,\n",
       " 'face': 73,\n",
       " 'fall': 74,\n",
       " 'farm': 75,\n",
       " 'fast': 76,\n",
       " 'feet': 77,\n",
       " 'find': 78,\n",
       " 'fine': 79,\n",
       " 'finger': 80,\n",
       " 'finish': 81,\n",
       " 'fireman': 82,\n",
       " 'first': 83,\n",
       " 'fish': 84,\n",
       " 'flag': 85,\n",
       " 'flower': 86,\n",
       " 'food': 87,\n",
       " 'for': 88,\n",
       " 'frenchfries': 89,\n",
       " 'frog': 90,\n",
       " 'garbage': 91,\n",
       " 'gift': 92,\n",
       " 'giraffe': 93,\n",
       " 'girl': 94,\n",
       " 'give': 95,\n",
       " 'glasswindow': 96,\n",
       " 'go': 97,\n",
       " 'goose': 98,\n",
       " 'grandma': 99,\n",
       " 'grandpa': 100,\n",
       " 'grass': 101,\n",
       " 'green': 102,\n",
       " 'gum': 103,\n",
       " 'hair': 104,\n",
       " 'happy': 105,\n",
       " 'hat': 106,\n",
       " 'hate': 107,\n",
       " 'have': 108,\n",
       " 'haveto': 109,\n",
       " 'head': 110,\n",
       " 'hear': 111,\n",
       " 'helicopter': 112,\n",
       " 'hello': 113,\n",
       " 'hen': 114,\n",
       " 'hesheit': 115,\n",
       " 'hide': 116,\n",
       " 'high': 117,\n",
       " 'home': 118,\n",
       " 'horse': 119,\n",
       " 'hot': 120,\n",
       " 'hungry': 121,\n",
       " 'icecream': 122,\n",
       " 'if': 123,\n",
       " 'into': 124,\n",
       " 'jacket': 125,\n",
       " 'jeans': 126,\n",
       " 'jump': 127,\n",
       " 'kiss': 128,\n",
       " 'kitty': 129,\n",
       " 'lamp': 130,\n",
       " 'later': 131,\n",
       " 'like': 132,\n",
       " 'lion': 133,\n",
       " 'lips': 134,\n",
       " 'listen': 135,\n",
       " 'look': 136,\n",
       " 'loud': 137,\n",
       " 'mad': 138,\n",
       " 'make': 139,\n",
       " 'man': 140,\n",
       " 'many': 141,\n",
       " 'milk': 142,\n",
       " 'minemy': 143,\n",
       " 'mitten': 144,\n",
       " 'mom': 145,\n",
       " 'moon': 146,\n",
       " 'morning': 147,\n",
       " 'mouse': 148,\n",
       " 'mouth': 149,\n",
       " 'nap': 150,\n",
       " 'napkin': 151,\n",
       " 'night': 152,\n",
       " 'no': 153,\n",
       " 'noisy': 154,\n",
       " 'nose': 155,\n",
       " 'not': 156,\n",
       " 'now': 157,\n",
       " 'nuts': 158,\n",
       " 'old': 159,\n",
       " 'on': 160,\n",
       " 'open': 161,\n",
       " 'orange': 162,\n",
       " 'outside': 163,\n",
       " 'owie': 164,\n",
       " 'owl': 165,\n",
       " 'pajamas': 166,\n",
       " 'pen': 167,\n",
       " 'pencil': 168,\n",
       " 'penny': 169,\n",
       " 'person': 170,\n",
       " 'pig': 171,\n",
       " 'pizza': 172,\n",
       " 'please': 173,\n",
       " 'police': 174,\n",
       " 'pool': 175,\n",
       " 'potty': 176,\n",
       " 'pretend': 177,\n",
       " 'pretty': 178,\n",
       " 'puppy': 179,\n",
       " 'puzzle': 180,\n",
       " 'quiet': 181,\n",
       " 'radio': 182,\n",
       " 'rain': 183,\n",
       " 'read': 184,\n",
       " 'red': 185,\n",
       " 'refrigerator': 186,\n",
       " 'ride': 187,\n",
       " 'room': 188,\n",
       " 'sad': 189,\n",
       " 'same': 190,\n",
       " 'say': 191,\n",
       " 'scissors': 192,\n",
       " 'see': 193,\n",
       " 'shhh': 194,\n",
       " 'shirt': 195,\n",
       " 'shoe': 196,\n",
       " 'shower': 197,\n",
       " 'sick': 198,\n",
       " 'sleep': 199,\n",
       " 'sleepy': 200,\n",
       " 'smile': 201,\n",
       " 'snack': 202,\n",
       " 'snow': 203,\n",
       " 'stairs': 204,\n",
       " 'stay': 205,\n",
       " 'sticky': 206,\n",
       " 'store': 207,\n",
       " 'story': 208,\n",
       " 'stuck': 209,\n",
       " 'sun': 210,\n",
       " 'table': 211,\n",
       " 'talk': 212,\n",
       " 'taste': 213,\n",
       " 'thankyou': 214,\n",
       " 'that': 215,\n",
       " 'there': 216,\n",
       " 'think': 217,\n",
       " 'thirsty': 218,\n",
       " 'tiger': 219,\n",
       " 'time': 220,\n",
       " 'tomorrow': 221,\n",
       " 'tongue': 222,\n",
       " 'tooth': 223,\n",
       " 'toothbrush': 224,\n",
       " 'touch': 225,\n",
       " 'toy': 226,\n",
       " 'tree': 227,\n",
       " 'uncle': 228,\n",
       " 'underwear': 229,\n",
       " 'up': 230,\n",
       " 'vacuum': 231,\n",
       " 'wait': 232,\n",
       " 'wake': 233,\n",
       " 'water': 234,\n",
       " 'wet': 235,\n",
       " 'weus': 236,\n",
       " 'where': 237,\n",
       " 'white': 238,\n",
       " 'who': 239,\n",
       " 'why': 240,\n",
       " 'will': 241,\n",
       " 'wolf': 242,\n",
       " 'yellow': 243,\n",
       " 'yes': 244,\n",
       " 'yesterday': 245,\n",
       " 'yourself': 246,\n",
       " 'yucky': 247,\n",
       " 'zebra': 248,\n",
       " 'zipper': 249}"
      ]
     },
     "execution_count": 62,
     "metadata": {},
     "output_type": "execute_result"
    }
   ],
   "source": [
    "with open('../data/asl-signs/sign_to_prediction_index_map.json') as json_file:\n",
    "    sign_dict = json.load(json_file)\n",
    "sign_dict"
   ]
  },
  {
   "attachments": {},
   "cell_type": "markdown",
   "metadata": {},
   "source": [
    "## 3. Data Cleaning"
   ]
  },
  {
   "cell_type": "code",
   "execution_count": null,
   "metadata": {},
   "outputs": [],
   "source": []
  },
  {
   "attachments": {},
   "cell_type": "markdown",
   "metadata": {},
   "source": [
    "# 5. Feature Engineering"
   ]
  },
  {
   "attachments": {},
   "cell_type": "markdown",
   "metadata": {},
   "source": [
    "# 6. Modeling"
   ]
  }
 ],
 "metadata": {
  "kernelspec": {
   "display_name": ".venv",
   "language": "python",
   "name": "python3"
  },
  "language_info": {
   "codemirror_mode": {
    "name": "ipython",
    "version": 3
   },
   "file_extension": ".py",
   "mimetype": "text/x-python",
   "name": "python",
   "nbconvert_exporter": "python",
   "pygments_lexer": "ipython3",
   "version": "3.9.8"
  },
  "orig_nbformat": 4
 },
 "nbformat": 4,
 "nbformat_minor": 2
}
