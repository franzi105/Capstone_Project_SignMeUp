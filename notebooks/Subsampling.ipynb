{
 "cells": [
  {
   "attachments": {},
   "cell_type": "markdown",
   "metadata": {},
   "source": [
    "# Subsampling"
   ]
  },
  {
   "attachments": {},
   "cell_type": "markdown",
   "metadata": {},
   "source": [
    "## Ideas\n",
    "\n",
    "### Rationale: \n",
    "\n",
    "Subsampling can change: \n",
    "- the number of participants\n",
    "- the number of classes (signs or words)\n",
    "- the occurrence or counts per class\n",
    "\n",
    "#### On the number of participants\n",
    "\n",
    "Different participants have different ways of signing the same word or sign. A model learned on more participants can predict more variations of a class (sign or word). Thus we can assume, that the more participants we have, the higher the model accuracy will be. \n",
    "\n",
    "#### On the number of classes \n",
    "\n",
    "\"This shows that \"60%\" accuracy \"means more\" if you have more classes: a binary classifier with 60% accuracy is almost random, but achieving 60% accuracy for 100 classes is godlike (assuming the classes are relatively balanced).\" (https://stackoverflow.com/questions/71632842/does-the-number-of-classes-in-the-target-variable-affect-the-accuracy-of-a-class: )\n",
    "\n",
    "#### On the occurrence or counts per class\n",
    "\n",
    "The occurrence or counts per class represents the number of example of the same class (word or sign) that the model sees during training. We can assume, the higher this \"coverage\", the higher the accuracy of the model as it has been trained on more instances of each class. \n",
    "\n",
    "Based on this, there are a few meaningful options to subsample the whole data set. \n",
    "\n",
    "### Option 1\n",
    "Just randomly takes a certain proportion of the data, e.g. 1 % of the whole data set: \n",
    "- covers all participants\n",
    "- covers all classes\n",
    "- low occurrence or counts per class\n",
    "\n",
    "### Option 2\n",
    "Set the number of counts per word "
   ]
  },
  {
   "attachments": {},
   "cell_type": "markdown",
   "metadata": {},
   "source": [
    "## Install Dependencies"
   ]
  },
  {
   "attachments": {},
   "cell_type": "markdown",
   "metadata": {},
   "source": [
    "## Import Dependencies"
   ]
  },
  {
   "cell_type": "code",
   "execution_count": 4,
   "metadata": {},
   "outputs": [],
   "source": [
    "import numpy as np\n",
    "import pandas as pd\n",
    "\n",
    "import random\n",
    "from random import randint, randrange"
   ]
  },
  {
   "attachments": {},
   "cell_type": "markdown",
   "metadata": {},
   "source": [
    "## Load train.csv"
   ]
  },
  {
   "cell_type": "code",
   "execution_count": 5,
   "metadata": {},
   "outputs": [
    {
     "data": {
      "text/plain": [
       "(94477, 4)"
      ]
     },
     "execution_count": 5,
     "metadata": {},
     "output_type": "execute_result"
    }
   ],
   "source": [
    "df_train = pd.read_csv('../data/asl-signs/train.csv')\n",
    "df_train.shape"
   ]
  },
  {
   "cell_type": "code",
   "execution_count": 7,
   "metadata": {},
   "outputs": [
    {
     "data": {
      "text/plain": [
       "250"
      ]
     },
     "execution_count": 7,
     "metadata": {},
     "output_type": "execute_result"
    }
   ],
   "source": [
    "df_train.sign.nunique()"
   ]
  },
  {
   "attachments": {},
   "cell_type": "markdown",
   "metadata": {},
   "source": [
    "## Parameters"
   ]
  },
  {
   "cell_type": "code",
   "execution_count": 81,
   "metadata": {},
   "outputs": [],
   "source": [
    "MODE = 'random'\n",
    "MODE = 'sign_counts'\n",
    "\n",
    "# random seed used for subsampling\n",
    "RSEED = 42\n",
    "\n",
    "# random subsampling proportion of whole data\n",
    "p = 0.01\n",
    "\n"
   ]
  },
  {
   "attachments": {},
   "cell_type": "markdown",
   "metadata": {},
   "source": [
    "## Option 1: Random subsampling"
   ]
  },
  {
   "cell_type": "code",
   "execution_count": 82,
   "metadata": {},
   "outputs": [],
   "source": [
    "# set random state\n",
    "random.seed(RSEED)\n",
    "\n",
    "# set length of subsample\n",
    "length = int(df_train.shape[0] * p) # number of rows in train.csv times p\n",
    "\n",
    "# random sampling of row indices\n",
    "r = [randrange(df_train.shape[0]) for i in range(0, length)] \n",
    "\n",
    "# subsampling df_train\n",
    "df_train_sub = df_train.iloc[r]\n"
   ]
  },
  {
   "attachments": {},
   "cell_type": "markdown",
   "metadata": {},
   "source": [
    "## Save subsample "
   ]
  },
  {
   "cell_type": "code",
   "execution_count": 83,
   "metadata": {},
   "outputs": [
    {
     "data": {
      "text/plain": [
       "'../data/train_sub944.csv'"
      ]
     },
     "execution_count": 83,
     "metadata": {},
     "output_type": "execute_result"
    }
   ],
   "source": [
    "f'../data/train_sub{length}.csv'"
   ]
  },
  {
   "cell_type": "code",
   "execution_count": 84,
   "metadata": {},
   "outputs": [],
   "source": [
    "df_train_sub.to_csv(f'../data/train_sub{length}.csv', index=False)"
   ]
  }
 ],
 "metadata": {
  "kernelspec": {
   "display_name": ".venv",
   "language": "python",
   "name": "python3"
  },
  "language_info": {
   "codemirror_mode": {
    "name": "ipython",
    "version": 3
   },
   "file_extension": ".py",
   "mimetype": "text/x-python",
   "name": "python",
   "nbconvert_exporter": "python",
   "pygments_lexer": "ipython3",
   "version": "3.9.8"
  },
  "orig_nbformat": 4
 },
 "nbformat": 4,
 "nbformat_minor": 2
}
