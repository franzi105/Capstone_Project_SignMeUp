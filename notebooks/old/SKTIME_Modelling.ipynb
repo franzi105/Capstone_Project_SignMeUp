{
 "cells": [
  {
   "attachments": {},
   "cell_type": "markdown",
   "metadata": {},
   "source": [
    "# Modeling wit SKTIME"
   ]
  },
  {
   "attachments": {},
   "cell_type": "markdown",
   "metadata": {},
   "source": [
    "## Reference"
   ]
  },
  {
   "attachments": {},
   "cell_type": "markdown",
   "metadata": {},
   "source": [
    "The code in this notebook is used for modelling with all types of SKTIME classifiers. Here is the documentation: http://www.sktime.net/en/latest/api_reference/classification.html"
   ]
  },
  {
   "attachments": {},
   "cell_type": "markdown",
   "metadata": {},
   "source": [
    "### Import Dependencies"
   ]
  },
  {
   "cell_type": "code",
   "execution_count": 1,
   "metadata": {},
   "outputs": [
    {
     "name": "stdout",
     "output_type": "stream",
     "text": [
      "Requirement already satisfied: sktime in /Users/ronjaweiblen/Bootcamp/Capstone_Project_SignMeUp/.venv/lib/python3.9/site-packages (0.17.1)\n",
      "Requirement already satisfied: deprecated>=1.2.13 in /Users/ronjaweiblen/Bootcamp/Capstone_Project_SignMeUp/.venv/lib/python3.9/site-packages (from sktime) (1.2.13)\n",
      "Requirement already satisfied: pandas<2.0.0,>=1.1.0 in /Users/ronjaweiblen/Bootcamp/Capstone_Project_SignMeUp/.venv/lib/python3.9/site-packages (from sktime) (1.3.3)\n",
      "Requirement already satisfied: scipy<2.0.0,>=1.2.0 in /Users/ronjaweiblen/Bootcamp/Capstone_Project_SignMeUp/.venv/lib/python3.9/site-packages (from sktime) (1.10.1)\n",
      "Requirement already satisfied: scikit-learn<1.3.0,>=0.24.0 in /Users/ronjaweiblen/Bootcamp/Capstone_Project_SignMeUp/.venv/lib/python3.9/site-packages (from sktime) (1.0)\n",
      "Requirement already satisfied: numba>=0.53 in /Users/ronjaweiblen/Bootcamp/Capstone_Project_SignMeUp/.venv/lib/python3.9/site-packages (from sktime) (0.56.4)\n",
      "Requirement already satisfied: numpy<1.25,>=1.21.0 in /Users/ronjaweiblen/Bootcamp/Capstone_Project_SignMeUp/.venv/lib/python3.9/site-packages (from sktime) (1.23.1)\n",
      "Requirement already satisfied: wrapt<2,>=1.10 in /Users/ronjaweiblen/Bootcamp/Capstone_Project_SignMeUp/.venv/lib/python3.9/site-packages (from deprecated>=1.2.13->sktime) (1.14.1)\n",
      "Requirement already satisfied: setuptools in /Users/ronjaweiblen/Bootcamp/Capstone_Project_SignMeUp/.venv/lib/python3.9/site-packages (from numba>=0.53->sktime) (58.1.0)\n",
      "Requirement already satisfied: llvmlite<0.40,>=0.39.0dev0 in /Users/ronjaweiblen/Bootcamp/Capstone_Project_SignMeUp/.venv/lib/python3.9/site-packages (from numba>=0.53->sktime) (0.39.1)\n",
      "Requirement already satisfied: python-dateutil>=2.7.3 in /Users/ronjaweiblen/Bootcamp/Capstone_Project_SignMeUp/.venv/lib/python3.9/site-packages (from pandas<2.0.0,>=1.1.0->sktime) (2.8.2)\n",
      "Requirement already satisfied: pytz>=2017.3 in /Users/ronjaweiblen/Bootcamp/Capstone_Project_SignMeUp/.venv/lib/python3.9/site-packages (from pandas<2.0.0,>=1.1.0->sktime) (2023.3)\n",
      "Requirement already satisfied: joblib>=0.11 in /Users/ronjaweiblen/Bootcamp/Capstone_Project_SignMeUp/.venv/lib/python3.9/site-packages (from scikit-learn<1.3.0,>=0.24.0->sktime) (1.2.0)\n",
      "Requirement already satisfied: threadpoolctl>=2.0.0 in /Users/ronjaweiblen/Bootcamp/Capstone_Project_SignMeUp/.venv/lib/python3.9/site-packages (from scikit-learn<1.3.0,>=0.24.0->sktime) (3.1.0)\n",
      "Requirement already satisfied: six>=1.5 in /Users/ronjaweiblen/Bootcamp/Capstone_Project_SignMeUp/.venv/lib/python3.9/site-packages (from python-dateutil>=2.7.3->pandas<2.0.0,>=1.1.0->sktime) (1.16.0)\n"
     ]
    }
   ],
   "source": [
    "# general \n",
    "import numpy as np\n",
    "import pandas as pd\n",
    "!pip install sktime\n",
    "\n",
    "# for data pre-processing\n",
    "from sklearn.model_selection import train_test_split\n",
    "\n",
    "# for model evaluation\n",
    "from sklearn.metrics import multilabel_confusion_matrix, accuracy_score, confusion_matrix, classification_report"
   ]
  },
  {
   "attachments": {},
   "cell_type": "markdown",
   "metadata": {},
   "source": [
    "### Load datasets\n",
    "\n",
    "Edit path for your computer"
   ]
  },
  {
   "cell_type": "code",
   "execution_count": 2,
   "metadata": {},
   "outputs": [],
   "source": [
    "#loading our preprocessed datasets\n",
    "X = np.load('/Users/ronjaweiblen/Bootcamp/Capstone_Project_SignMeUp/data/X-data.npy')\n",
    "y = np.load('/Users/ronjaweiblen/Bootcamp/Capstone_Project_SignMeUp/data/y-data.npy')\n",
    "\n",
    "#make y 1-Dimensional because this is what SKTIME wants\n",
    "y = np.argmax(y, axis=1)\n",
    "\n",
    "#defining signs --> edit for specific subset of data\n",
    "actions = np.array ( ['alligator', 'radio', 'moon', 'sleep', 'grandpa', 'tiger', 'pencil', 'sleepy', 'grandma', 'chocolate'])"
   ]
  },
  {
   "attachments": {},
   "cell_type": "markdown",
   "metadata": {},
   "source": [
    "### Splitting Train and Test Data"
   ]
  },
  {
   "cell_type": "code",
   "execution_count": 3,
   "metadata": {},
   "outputs": [],
   "source": [
    "X_train, X_test, y_train, y_test = train_test_split(X, y, test_size=0.25)"
   ]
  },
  {
   "attachments": {},
   "cell_type": "markdown",
   "metadata": {},
   "source": [
    "**Here you can add all kinds of models from SKTIME. Just follow the steps of model 1.**"
   ]
  },
  {
   "attachments": {},
   "cell_type": "markdown",
   "metadata": {},
   "source": [
    "### Model 1 : KNN Time Series "
   ]
  },
  {
   "attachments": {},
   "cell_type": "markdown",
   "metadata": {},
   "source": [
    "Step 1: Import Model"
   ]
  },
  {
   "cell_type": "code",
   "execution_count": 4,
   "metadata": {},
   "outputs": [],
   "source": [
    "from sktime.classification.distance_based import KNeighborsTimeSeriesClassifier"
   ]
  },
  {
   "attachments": {},
   "cell_type": "markdown",
   "metadata": {},
   "source": [
    "Step 2: Train Model"
   ]
  },
  {
   "cell_type": "code",
   "execution_count": 5,
   "metadata": {},
   "outputs": [
    {
     "data": {
      "text/plain": [
       "KNeighborsTimeSeriesClassifier(distance='euclidean')"
      ]
     },
     "execution_count": 5,
     "metadata": {},
     "output_type": "execute_result"
    }
   ],
   "source": [
    "classifier = KNeighborsTimeSeriesClassifier(distance=\"euclidean\")\n",
    "classifier.fit(X_train, y_train)"
   ]
  },
  {
   "attachments": {},
   "cell_type": "markdown",
   "metadata": {},
   "source": [
    "Step 3: Make Predictions"
   ]
  },
  {
   "cell_type": "code",
   "execution_count": 6,
   "metadata": {},
   "outputs": [
    {
     "name": "stderr",
     "output_type": "stream",
     "text": [
      "/Users/ronjaweiblen/Bootcamp/Capstone_Project_SignMeUp/.venv/lib/python3.9/site-packages/sklearn/neighbors/_classification.py:230: FutureWarning: Unlike other reduction functions (e.g. `skew`, `kurtosis`), the default behavior of `mode` typically preserves the axis it acts along. In SciPy 1.11.0, this behavior will change: the default value of `keepdims` will become False, the `axis` over which the statistic is taken will be eliminated, and the value None will no longer be accepted. Set `keepdims` to True or False to avoid this warning.\n",
      "  mode, _ = stats.mode(_y[neigh_ind, k], axis=1)\n"
     ]
    }
   ],
   "source": [
    "y_pred = classifier.predict(X_test)"
   ]
  },
  {
   "attachments": {},
   "cell_type": "markdown",
   "metadata": {},
   "source": [
    "Step 4: Test Model"
   ]
  },
  {
   "cell_type": "code",
   "execution_count": 7,
   "metadata": {},
   "outputs": [
    {
     "name": "stdout",
     "output_type": "stream",
     "text": [
      "              precision    recall  f1-score   support\n",
      "\n",
      "           0       0.42      0.62      0.50         8\n",
      "           1       0.18      0.22      0.20         9\n",
      "           2       0.00      0.00      0.00         6\n",
      "           3       0.44      0.44      0.44         9\n",
      "           4       0.50      0.20      0.29        10\n",
      "           5       0.36      0.36      0.36        11\n",
      "           6       0.22      0.33      0.27         6\n",
      "           7       0.29      0.22      0.25         9\n",
      "           8       0.12      0.11      0.12         9\n",
      "           9       0.20      0.33      0.25         6\n",
      "\n",
      "    accuracy                           0.29        83\n",
      "   macro avg       0.27      0.29      0.27        83\n",
      "weighted avg       0.29      0.29      0.28        83\n",
      "\n",
      "[[5 2 0 0 0 0 1 0 0 0]\n",
      " [2 2 0 0 1 1 0 0 2 1]\n",
      " [1 1 0 0 0 2 0 1 1 0]\n",
      " [2 0 0 4 0 1 1 0 1 0]\n",
      " [2 1 1 0 2 0 2 0 1 1]\n",
      " [0 1 1 1 1 4 1 1 1 0]\n",
      " [0 0 0 2 0 0 2 0 1 1]\n",
      " [0 0 0 1 0 1 1 2 0 4]\n",
      " [0 2 0 1 0 2 0 2 1 1]\n",
      " [0 2 0 0 0 0 1 1 0 2]]\n"
     ]
    },
    {
     "data": {
      "text/plain": [
       "array([[[68,  7],\n",
       "        [ 3,  5]],\n",
       "\n",
       "       [[65,  9],\n",
       "        [ 7,  2]],\n",
       "\n",
       "       [[75,  2],\n",
       "        [ 6,  0]],\n",
       "\n",
       "       [[69,  5],\n",
       "        [ 5,  4]],\n",
       "\n",
       "       [[71,  2],\n",
       "        [ 8,  2]],\n",
       "\n",
       "       [[65,  7],\n",
       "        [ 7,  4]],\n",
       "\n",
       "       [[70,  7],\n",
       "        [ 4,  2]],\n",
       "\n",
       "       [[69,  5],\n",
       "        [ 7,  2]],\n",
       "\n",
       "       [[67,  7],\n",
       "        [ 8,  1]],\n",
       "\n",
       "       [[69,  8],\n",
       "        [ 4,  2]]])"
      ]
     },
     "execution_count": 7,
     "metadata": {},
     "output_type": "execute_result"
    }
   ],
   "source": [
    "# accuracy\n",
    "#print(accuracy_score(y_test, y_pred))\n",
    "print(classification_report(y_test, y_pred))\n",
    "# confusion matrix\n",
    "print(confusion_matrix(y_test, y_pred))\n",
    "#multilabel confusion matrix\n",
    "multilabel_confusion_matrix(y_test, y_pred)\n",
    "\n"
   ]
  },
  {
   "attachments": {},
   "cell_type": "markdown",
   "metadata": {},
   "source": [
    "Step 5: Save Model"
   ]
  },
  {
   "cell_type": "code",
   "execution_count": 8,
   "metadata": {},
   "outputs": [],
   "source": [
    "#This is where I assume some ML Flow would come in"
   ]
  },
  {
   "cell_type": "code",
   "execution_count": null,
   "metadata": {},
   "outputs": [],
   "source": []
  },
  {
   "cell_type": "markdown",
   "metadata": {},
   "source": [
    "### Model 1 : KNN Time Series "
   ]
  },
  {
   "cell_type": "markdown",
   "metadata": {},
   "source": [
    "Step 1: Import Model"
   ]
  },
  {
   "cell_type": "code",
   "execution_count": 9,
   "metadata": {},
   "outputs": [],
   "source": [
    "from sktime.classification.kernel_based import RocketClassifier"
   ]
  },
  {
   "cell_type": "markdown",
   "metadata": {},
   "source": [
    "Step 2: Train Model"
   ]
  },
  {
   "cell_type": "code",
   "execution_count": 10,
   "metadata": {},
   "outputs": [
    {
     "data": {
      "text/plain": [
       "RocketClassifier(num_kernels=500)"
      ]
     },
     "execution_count": 10,
     "metadata": {},
     "output_type": "execute_result"
    }
   ],
   "source": [
    "clf = RocketClassifier(num_kernels=500) \n",
    "clf.fit(X_train, y_train) "
   ]
  },
  {
   "cell_type": "markdown",
   "metadata": {},
   "source": [
    "Step 3: Make Predictions"
   ]
  },
  {
   "cell_type": "code",
   "execution_count": 11,
   "metadata": {},
   "outputs": [],
   "source": [
    "y_pred = clf.predict(X_test)"
   ]
  },
  {
   "cell_type": "markdown",
   "metadata": {},
   "source": [
    "Step 4: Test Model"
   ]
  },
  {
   "cell_type": "code",
   "execution_count": 12,
   "metadata": {},
   "outputs": [
    {
     "name": "stdout",
     "output_type": "stream",
     "text": [
      "              precision    recall  f1-score   support\n",
      "\n",
      "           0       0.88      0.88      0.88         8\n",
      "           1       0.67      0.44      0.53         9\n",
      "           2       0.50      0.17      0.25         6\n",
      "           3       0.64      0.78      0.70         9\n",
      "           4       0.67      0.40      0.50        10\n",
      "           5       0.39      0.64      0.48        11\n",
      "           6       0.50      0.50      0.50         6\n",
      "           7       0.50      0.56      0.53         9\n",
      "           8       0.43      0.33      0.38         9\n",
      "           9       0.56      0.83      0.67         6\n",
      "\n",
      "    accuracy                           0.55        83\n",
      "   macro avg       0.57      0.55      0.54        83\n",
      "weighted avg       0.57      0.55      0.54        83\n",
      "\n",
      "[[7 0 0 0 0 1 0 0 0 0]\n",
      " [0 4 0 0 1 1 1 0 2 0]\n",
      " [0 0 1 0 0 4 0 0 0 1]\n",
      " [0 0 0 7 1 0 0 1 0 0]\n",
      " [0 1 1 0 4 1 0 1 1 1]\n",
      " [0 0 0 2 0 7 1 0 1 0]\n",
      " [0 0 0 2 0 0 3 0 0 1]\n",
      " [1 0 0 0 0 2 0 5 0 1]\n",
      " [0 1 0 0 0 2 0 3 3 0]\n",
      " [0 0 0 0 0 0 1 0 0 5]]\n"
     ]
    },
    {
     "data": {
      "text/plain": [
       "array([[[74,  1],\n",
       "        [ 1,  7]],\n",
       "\n",
       "       [[72,  2],\n",
       "        [ 5,  4]],\n",
       "\n",
       "       [[76,  1],\n",
       "        [ 5,  1]],\n",
       "\n",
       "       [[70,  4],\n",
       "        [ 2,  7]],\n",
       "\n",
       "       [[71,  2],\n",
       "        [ 6,  4]],\n",
       "\n",
       "       [[61, 11],\n",
       "        [ 4,  7]],\n",
       "\n",
       "       [[74,  3],\n",
       "        [ 3,  3]],\n",
       "\n",
       "       [[69,  5],\n",
       "        [ 4,  5]],\n",
       "\n",
       "       [[70,  4],\n",
       "        [ 6,  3]],\n",
       "\n",
       "       [[73,  4],\n",
       "        [ 1,  5]]])"
      ]
     },
     "execution_count": 12,
     "metadata": {},
     "output_type": "execute_result"
    }
   ],
   "source": [
    "# accuracy\n",
    "#print(accuracy_score(y_test, y_pred))\n",
    "print(classification_report(y_test, y_pred))\n",
    "# confusion matrix\n",
    "print(confusion_matrix(y_test, y_pred))\n",
    "#multilabel confusion matrix\n",
    "multilabel_confusion_matrix(y_test, y_pred)\n",
    "\n"
   ]
  },
  {
   "cell_type": "markdown",
   "metadata": {},
   "source": [
    "Step 5: Save Model"
   ]
  },
  {
   "cell_type": "code",
   "execution_count": 13,
   "metadata": {},
   "outputs": [],
   "source": [
    "#This is where I assume some ML Flow would come in"
   ]
  },
  {
   "cell_type": "code",
   "execution_count": null,
   "metadata": {},
   "outputs": [],
   "source": []
  },
  {
   "attachments": {},
   "cell_type": "markdown",
   "metadata": {},
   "source": [
    "### Dealing with multivariate classification --> doesn#t work yet!\n",
    "\n",
    "Info from here: https://sktime-backup.readthedocs.io/en/v0.13.3/examples/02_classification.html\n",
    "\n"
   ]
  },
  {
   "attachments": {},
   "cell_type": "markdown",
   "metadata": {},
   "source": [
    "* many classifiers (f.e.: ROCKET, HC2)are configured to work with multivariate input.\n",
    "* sktime offers two other ways of solving multivariate time series classification problems:\n",
    "    * Concatenation of time series columns into a single long time series column via *ColumnConcatenator* and apply a classifier to the concatenated data\n",
    "    * Dimension ensembling via *ColumnEnsembleClassifier* in which one classifier is fitted for each time series column/dimension of the time series and their predictions are combined through a voting scheme."
   ]
  },
  {
   "attachments": {},
   "cell_type": "markdown",
   "metadata": {},
   "source": [
    "Concatenating columns:"
   ]
  },
  {
   "cell_type": "code",
   "execution_count": 14,
   "metadata": {},
   "outputs": [],
   "source": [
    "from sktime.transformations.panel.compose import ColumnConcatenator\n",
    "\n",
    "#import classifier you want to use\n",
    "from sktime.classification.dictionary_based import BOSSEnsemble\n"
   ]
  },
  {
   "cell_type": "code",
   "execution_count": 15,
   "metadata": {},
   "outputs": [],
   "source": [
    "\n",
    "clf = ColumnConcatenator() * BOSSEnsemble(max_ensemble_size=3) \n",
    "#clf.fit(X_train, y_train)\n",
    "#clf.score(motions_test_X, motions_test_y)"
   ]
  },
  {
   "cell_type": "code",
   "execution_count": 16,
   "metadata": {},
   "outputs": [
    {
     "data": {
      "text/plain": [
       "ClassifierPipeline(classifier=BOSSEnsemble(max_ensemble_size=3),\n",
       "                   transformers=[ColumnConcatenator()])"
      ]
     },
     "execution_count": 16,
     "metadata": {},
     "output_type": "execute_result"
    }
   ],
   "source": [
    "clf"
   ]
  },
  {
   "cell_type": "code",
   "execution_count": 17,
   "metadata": {},
   "outputs": [
    {
     "name": "stderr",
     "output_type": "stream",
     "text": [
      "/Users/ronjaweiblen/Bootcamp/Capstone_Project_SignMeUp/.venv/lib/python3.9/site-packages/sktime/classification/base.py:664: UserWarning: Data seen by ClassifierPipeline instance has multivariate series, but this ClassifierPipeline instance cannot handle multivariate series. Calls with multivariate series may result in error or unreliable results.\n",
      "  warn(msg)\n"
     ]
    },
    {
     "ename": "KeyboardInterrupt",
     "evalue": "",
     "output_type": "error",
     "traceback": [
      "\u001b[0;31m---------------------------------------------------------------------------\u001b[0m",
      "\u001b[0;31mKeyboardInterrupt\u001b[0m                         Traceback (most recent call last)",
      "Cell \u001b[0;32mIn[17], line 1\u001b[0m\n\u001b[0;32m----> 1\u001b[0m clf\u001b[39m.\u001b[39;49mfit(X_train, y_train)\n",
      "File \u001b[0;32m~/Bootcamp/Capstone_Project_SignMeUp/.venv/lib/python3.9/site-packages/sktime/classification/base.py:203\u001b[0m, in \u001b[0;36mBaseClassifier.fit\u001b[0;34m(self, X, y)\u001b[0m\n\u001b[1;32m    198\u001b[0m         \u001b[39mraise\u001b[39;00m \u001b[39mAttributeError\u001b[39;00m(\n\u001b[1;32m    199\u001b[0m             \u001b[39m\"\u001b[39m\u001b[39mself.n_jobs must be set if capability:multithreading is True\u001b[39m\u001b[39m\"\u001b[39m\n\u001b[1;32m    200\u001b[0m         )\n\u001b[1;32m    202\u001b[0m \u001b[39m# pass coerced and checked data to inner _fit\u001b[39;00m\n\u001b[0;32m--> 203\u001b[0m \u001b[39mself\u001b[39;49m\u001b[39m.\u001b[39;49m_fit(X, y)\n\u001b[1;32m    204\u001b[0m \u001b[39mself\u001b[39m\u001b[39m.\u001b[39mfit_time_ \u001b[39m=\u001b[39m \u001b[39mint\u001b[39m(\u001b[39mround\u001b[39m(time\u001b[39m.\u001b[39mtime() \u001b[39m*\u001b[39m \u001b[39m1000\u001b[39m)) \u001b[39m-\u001b[39m start\n\u001b[1;32m    206\u001b[0m \u001b[39m# this should happen last\u001b[39;00m\n",
      "File \u001b[0;32m~/Bootcamp/Capstone_Project_SignMeUp/.venv/lib/python3.9/site-packages/sktime/classification/compose/_pipeline.py:200\u001b[0m, in \u001b[0;36mClassifierPipeline._fit\u001b[0;34m(self, X, y)\u001b[0m\n\u001b[1;32m    182\u001b[0m \u001b[39m\u001b[39m\u001b[39m\"\"\"Fit time series classifier to training data.\u001b[39;00m\n\u001b[1;32m    183\u001b[0m \n\u001b[1;32m    184\u001b[0m \u001b[39mcore logic\u001b[39;00m\n\u001b[0;32m   (...)\u001b[0m\n\u001b[1;32m    197\u001b[0m \u001b[39mcreates fitted model (attributes ending in \"_\")\u001b[39;00m\n\u001b[1;32m    198\u001b[0m \u001b[39m\"\"\"\u001b[39;00m\n\u001b[1;32m    199\u001b[0m Xt \u001b[39m=\u001b[39m \u001b[39mself\u001b[39m\u001b[39m.\u001b[39mtransformers_\u001b[39m.\u001b[39mfit_transform(X\u001b[39m=\u001b[39mX, y\u001b[39m=\u001b[39my)\n\u001b[0;32m--> 200\u001b[0m \u001b[39mself\u001b[39;49m\u001b[39m.\u001b[39;49mclassifier_\u001b[39m.\u001b[39;49mfit(X\u001b[39m=\u001b[39;49mXt, y\u001b[39m=\u001b[39;49my)\n\u001b[1;32m    202\u001b[0m \u001b[39mreturn\u001b[39;00m \u001b[39mself\u001b[39m\n",
      "File \u001b[0;32m~/Bootcamp/Capstone_Project_SignMeUp/.venv/lib/python3.9/site-packages/sktime/classification/base.py:203\u001b[0m, in \u001b[0;36mBaseClassifier.fit\u001b[0;34m(self, X, y)\u001b[0m\n\u001b[1;32m    198\u001b[0m         \u001b[39mraise\u001b[39;00m \u001b[39mAttributeError\u001b[39;00m(\n\u001b[1;32m    199\u001b[0m             \u001b[39m\"\u001b[39m\u001b[39mself.n_jobs must be set if capability:multithreading is True\u001b[39m\u001b[39m\"\u001b[39m\n\u001b[1;32m    200\u001b[0m         )\n\u001b[1;32m    202\u001b[0m \u001b[39m# pass coerced and checked data to inner _fit\u001b[39;00m\n\u001b[0;32m--> 203\u001b[0m \u001b[39mself\u001b[39;49m\u001b[39m.\u001b[39;49m_fit(X, y)\n\u001b[1;32m    204\u001b[0m \u001b[39mself\u001b[39m\u001b[39m.\u001b[39mfit_time_ \u001b[39m=\u001b[39m \u001b[39mint\u001b[39m(\u001b[39mround\u001b[39m(time\u001b[39m.\u001b[39mtime() \u001b[39m*\u001b[39m \u001b[39m1000\u001b[39m)) \u001b[39m-\u001b[39m start\n\u001b[1;32m    206\u001b[0m \u001b[39m# this should happen last\u001b[39;00m\n",
      "File \u001b[0;32m~/Bootcamp/Capstone_Project_SignMeUp/.venv/lib/python3.9/site-packages/sktime/classification/dictionary_based/_boss.py:239\u001b[0m, in \u001b[0;36mBOSSEnsemble._fit\u001b[0;34m(self, X, y)\u001b[0m\n\u001b[1;32m    236\u001b[0m \u001b[39mif\u001b[39;00m n \u001b[39m>\u001b[39m \u001b[39m0\u001b[39m \u001b[39mand\u001b[39;00m word_len \u001b[39m<\u001b[39m boss\u001b[39m.\u001b[39m_transformer\u001b[39m.\u001b[39mword_length:\n\u001b[1;32m    237\u001b[0m     boss \u001b[39m=\u001b[39m boss\u001b[39m.\u001b[39m_shorten_bags(word_len, y)\n\u001b[0;32m--> 239\u001b[0m boss\u001b[39m.\u001b[39m_accuracy \u001b[39m=\u001b[39m \u001b[39mself\u001b[39;49m\u001b[39m.\u001b[39;49m_individual_train_acc(\n\u001b[1;32m    240\u001b[0m     boss, y, \u001b[39mself\u001b[39;49m\u001b[39m.\u001b[39;49mn_instances_, best_acc_for_win_size\n\u001b[1;32m    241\u001b[0m )\n\u001b[1;32m    243\u001b[0m \u001b[39mif\u001b[39;00m boss\u001b[39m.\u001b[39m_accuracy \u001b[39m>\u001b[39m\u001b[39m=\u001b[39m best_acc_for_win_size:\n\u001b[1;32m    244\u001b[0m     best_acc_for_win_size \u001b[39m=\u001b[39m boss\u001b[39m.\u001b[39m_accuracy\n",
      "File \u001b[0;32m~/Bootcamp/Capstone_Project_SignMeUp/.venv/lib/python3.9/site-packages/sktime/classification/dictionary_based/_boss.py:399\u001b[0m, in \u001b[0;36mBOSSEnsemble._individual_train_acc\u001b[0;34m(self, boss, y, train_size, lowest_acc)\u001b[0m\n\u001b[1;32m    397\u001b[0m \u001b[39m# there may be no words if feature selection is too aggressive\u001b[39;00m\n\u001b[1;32m    398\u001b[0m \u001b[39mif\u001b[39;00m boss\u001b[39m.\u001b[39m_transformed_data\u001b[39m.\u001b[39mshape[\u001b[39m1\u001b[39m] \u001b[39m>\u001b[39m \u001b[39m0\u001b[39m:\n\u001b[0;32m--> 399\u001b[0m     distance_matrix \u001b[39m=\u001b[39m pairwise_distances(\n\u001b[1;32m    400\u001b[0m         boss\u001b[39m.\u001b[39;49m_transformed_data,\n\u001b[1;32m    401\u001b[0m         use_boss_distance\u001b[39m=\u001b[39;49m\u001b[39mself\u001b[39;49m\u001b[39m.\u001b[39;49muse_boss_distance,\n\u001b[1;32m    402\u001b[0m         n_jobs\u001b[39m=\u001b[39;49m\u001b[39mself\u001b[39;49m\u001b[39m.\u001b[39;49mn_jobs,\n\u001b[1;32m    403\u001b[0m     )\n\u001b[1;32m    405\u001b[0m     \u001b[39mfor\u001b[39;00m i \u001b[39min\u001b[39;00m \u001b[39mrange\u001b[39m(train_size):\n\u001b[1;32m    406\u001b[0m         \u001b[39mif\u001b[39;00m correct \u001b[39m+\u001b[39m train_size \u001b[39m-\u001b[39m i \u001b[39m<\u001b[39m required_correct:\n",
      "File \u001b[0;32m~/Bootcamp/Capstone_Project_SignMeUp/.venv/lib/python3.9/site-packages/sktime/classification/dictionary_based/_boss.py:710\u001b[0m, in \u001b[0;36mpairwise_distances\u001b[0;34m(X, Y, use_boss_distance, n_jobs)\u001b[0m\n\u001b[1;32m    708\u001b[0m     \u001b[39melse\u001b[39;00m:\n\u001b[1;32m    709\u001b[0m         \u001b[39mfor\u001b[39;00m i \u001b[39min\u001b[39;00m \u001b[39mrange\u001b[39m(\u001b[39mlen\u001b[39m(distance_matrix)):\n\u001b[0;32m--> 710\u001b[0m             distance_matrix[i] \u001b[39m=\u001b[39m boss_distance(X, Y, i, XX_row_norms, XY)\n\u001b[1;32m    712\u001b[0m \u001b[39melse\u001b[39;00m:\n\u001b[1;32m    713\u001b[0m     distance_matrix \u001b[39m=\u001b[39m pairwise\u001b[39m.\u001b[39mpairwise_distances(X, Y, n_jobs\u001b[39m=\u001b[39mn_jobs)\n",
      "File \u001b[0;32m~/Bootcamp/Capstone_Project_SignMeUp/.venv/lib/python3.9/site-packages/sktime/classification/dictionary_based/_boss.py:758\u001b[0m, in \u001b[0;36mboss_distance\u001b[0;34m(X, Y, i, XX_all, XY_all)\u001b[0m\n\u001b[1;32m    755\u001b[0m \u001b[39melse\u001b[39;00m:\n\u001b[1;32m    756\u001b[0m     XY \u001b[39m=\u001b[39m XY_all[i]\n\u001b[0;32m--> 758\u001b[0m YY \u001b[39m=\u001b[39m csr_row_norms(Y[:, mask])\n\u001b[1;32m    759\u001b[0m A \u001b[39m=\u001b[39m XX \u001b[39m-\u001b[39m \u001b[39m2\u001b[39m \u001b[39m*\u001b[39m XY \u001b[39m+\u001b[39m YY\n\u001b[1;32m    760\u001b[0m np\u001b[39m.\u001b[39mmaximum(A, \u001b[39m0\u001b[39m, out\u001b[39m=\u001b[39mA)\n",
      "File \u001b[0;32m~/Bootcamp/Capstone_Project_SignMeUp/.venv/lib/python3.9/site-packages/scipy/sparse/_index.py:71\u001b[0m, in \u001b[0;36mIndexMixin.__getitem__\u001b[0;34m(self, key)\u001b[0m\n\u001b[1;32m     69\u001b[0m         \u001b[39mreturn\u001b[39;00m \u001b[39mself\u001b[39m\u001b[39m.\u001b[39m_get_sliceXslice(row, col)\n\u001b[1;32m     70\u001b[0m     \u001b[39melif\u001b[39;00m col\u001b[39m.\u001b[39mndim \u001b[39m==\u001b[39m \u001b[39m1\u001b[39m:\n\u001b[0;32m---> 71\u001b[0m         \u001b[39mreturn\u001b[39;00m \u001b[39mself\u001b[39;49m\u001b[39m.\u001b[39;49m_get_sliceXarray(row, col)\n\u001b[1;32m     72\u001b[0m     \u001b[39mraise\u001b[39;00m \u001b[39mIndexError\u001b[39;00m(\u001b[39m'\u001b[39m\u001b[39mindex results in >2 dimensions\u001b[39m\u001b[39m'\u001b[39m)\n\u001b[1;32m     73\u001b[0m \u001b[39melif\u001b[39;00m row\u001b[39m.\u001b[39mndim \u001b[39m==\u001b[39m \u001b[39m1\u001b[39m:\n",
      "File \u001b[0;32m~/Bootcamp/Capstone_Project_SignMeUp/.venv/lib/python3.9/site-packages/scipy/sparse/_csr.py:321\u001b[0m, in \u001b[0;36mcsr_matrix._get_sliceXarray\u001b[0;34m(self, row, col)\u001b[0m\n\u001b[1;32m    320\u001b[0m \u001b[39mdef\u001b[39;00m \u001b[39m_get_sliceXarray\u001b[39m(\u001b[39mself\u001b[39m, row, col):\n\u001b[0;32m--> 321\u001b[0m     \u001b[39mreturn\u001b[39;00m \u001b[39mself\u001b[39;49m\u001b[39m.\u001b[39;49m_major_slice(row)\u001b[39m.\u001b[39;49m_minor_index_fancy(col)\n",
      "File \u001b[0;32m~/Bootcamp/Capstone_Project_SignMeUp/.venv/lib/python3.9/site-packages/scipy/sparse/_compressed.py:777\u001b[0m, in \u001b[0;36m_cs_matrix._minor_index_fancy\u001b[0;34m(self, idx)\u001b[0m\n\u001b[1;32m    775\u001b[0m res_indices \u001b[39m=\u001b[39m np\u001b[39m.\u001b[39mempty(nnz, dtype\u001b[39m=\u001b[39midx_dtype)\n\u001b[1;32m    776\u001b[0m res_data \u001b[39m=\u001b[39m np\u001b[39m.\u001b[39mempty(nnz, dtype\u001b[39m=\u001b[39m\u001b[39mself\u001b[39m\u001b[39m.\u001b[39mdtype)\n\u001b[0;32m--> 777\u001b[0m csr_column_index2(col_order, col_offsets, \u001b[39mlen\u001b[39;49m(\u001b[39mself\u001b[39;49m\u001b[39m.\u001b[39;49mindices),\n\u001b[1;32m    778\u001b[0m                   \u001b[39mself\u001b[39;49m\u001b[39m.\u001b[39;49mindices, \u001b[39mself\u001b[39;49m\u001b[39m.\u001b[39;49mdata, res_indices, res_data)\n\u001b[1;32m    779\u001b[0m \u001b[39mreturn\u001b[39;00m \u001b[39mself\u001b[39m\u001b[39m.\u001b[39m\u001b[39m__class__\u001b[39m((res_data, res_indices, res_indptr),\n\u001b[1;32m    780\u001b[0m                       shape\u001b[39m=\u001b[39mnew_shape, copy\u001b[39m=\u001b[39m\u001b[39mFalse\u001b[39;00m)\n",
      "\u001b[0;31mKeyboardInterrupt\u001b[0m: "
     ]
    }
   ],
   "source": [
    "clf.fit(X_train, y_train)"
   ]
  },
  {
   "cell_type": "code",
   "execution_count": null,
   "metadata": {},
   "outputs": [],
   "source": [
    "#get column ensembler\n",
    "from sktime.classification.compose import ColumnEnsembleClassifier\n",
    "\n",
    "#get models we want to use\n",
    "from sktime.classification.dictionary_based import WEASEL\n",
    "from sktime.classification.dictionary_based import BOSSEnsemble"
   ]
  },
  {
   "cell_type": "code",
   "execution_count": null,
   "metadata": {},
   "outputs": [],
   "source": [
    "from sktime.classification.dictionary_based import BOSSEnsemble"
   ]
  },
  {
   "cell_type": "code",
   "execution_count": null,
   "metadata": {},
   "outputs": [],
   "source": [
    "#dimension ensembling for our data\n",
    "clf = ColumnEnsembleClassifier(\n",
    "    estimators=[\n",
    "        (\"WEASEL0\", WEASEL(window_inc=4), [0]),#this is the classifier used for dimension 0 \n",
    "        (\"TDE3\", TemporalDictionaryEnsemble(max_ensemble_size=5), [3]),\n",
    "    ]\n",
    ")\n"
   ]
  }
 ],
 "metadata": {
  "kernelspec": {
   "display_name": ".venv",
   "language": "python",
   "name": "python3"
  },
  "language_info": {
   "codemirror_mode": {
    "name": "ipython",
    "version": 3
   },
   "file_extension": ".py",
   "mimetype": "text/x-python",
   "name": "python",
   "nbconvert_exporter": "python",
   "pygments_lexer": "ipython3",
   "version": "3.9.8"
  },
  "orig_nbformat": 4
 },
 "nbformat": 4,
 "nbformat_minor": 2
}
