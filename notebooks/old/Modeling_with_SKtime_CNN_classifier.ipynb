{
 "cells": [
  {
   "attachments": {},
   "cell_type": "markdown",
   "metadata": {},
   "source": [
    "## Modeling with SKtime- CNN classifier"
   ]
  },
  {
   "attachments": {},
   "cell_type": "markdown",
   "metadata": {},
   "source": [
    "Import Dependencies"
   ]
  },
  {
   "cell_type": "code",
   "execution_count": 1,
   "metadata": {},
   "outputs": [],
   "source": [
    "# general \n",
    "import numpy as np\n",
    "import pandas as pd\n",
    "\n",
    "\n",
    "# for data pre-processing\n",
    "from sklearn.model_selection import train_test_split\n",
    "\n",
    "# for model evaluation\n",
    "from sklearn.metrics import multilabel_confusion_matrix, accuracy_score, confusion_matrix, classification_report\n"
   ]
  },
  {
   "cell_type": "code",
   "execution_count": 2,
   "metadata": {},
   "outputs": [
    {
     "name": "stdout",
     "output_type": "stream",
     "text": [
      "Requirement already satisfied: sktime in /Users/verandaosmani/neuefische/Capstone_Project_SignMeUp/.venv/lib/python3.9/site-packages (0.17.1)\n",
      "Requirement already satisfied: pandas<2.0.0,>=1.1.0 in /Users/verandaosmani/neuefische/Capstone_Project_SignMeUp/.venv/lib/python3.9/site-packages (from sktime) (1.3.5)\n",
      "Requirement already satisfied: scipy<2.0.0,>=1.2.0 in /Users/verandaosmani/neuefische/Capstone_Project_SignMeUp/.venv/lib/python3.9/site-packages (from sktime) (1.10.1)\n",
      "Requirement already satisfied: numba>=0.53 in /Users/verandaosmani/neuefische/Capstone_Project_SignMeUp/.venv/lib/python3.9/site-packages (from sktime) (0.56.4)\n",
      "Requirement already satisfied: numpy<1.25,>=1.21.0 in /Users/verandaosmani/neuefische/Capstone_Project_SignMeUp/.venv/lib/python3.9/site-packages (from sktime) (1.22.0)\n",
      "Requirement already satisfied: scikit-learn<1.3.0,>=0.24.0 in /Users/verandaosmani/neuefische/Capstone_Project_SignMeUp/.venv/lib/python3.9/site-packages (from sktime) (1.0.2)\n",
      "Requirement already satisfied: deprecated>=1.2.13 in /Users/verandaosmani/neuefische/Capstone_Project_SignMeUp/.venv/lib/python3.9/site-packages (from sktime) (1.2.13)\n",
      "Requirement already satisfied: wrapt<2,>=1.10 in /Users/verandaosmani/neuefische/Capstone_Project_SignMeUp/.venv/lib/python3.9/site-packages (from deprecated>=1.2.13->sktime) (1.14.1)\n",
      "Requirement already satisfied: setuptools in /Users/verandaosmani/neuefische/Capstone_Project_SignMeUp/.venv/lib/python3.9/site-packages (from numba>=0.53->sktime) (58.1.0)\n",
      "Requirement already satisfied: llvmlite<0.40,>=0.39.0dev0 in /Users/verandaosmani/neuefische/Capstone_Project_SignMeUp/.venv/lib/python3.9/site-packages (from numba>=0.53->sktime) (0.39.1)\n",
      "Requirement already satisfied: pytz>=2017.3 in /Users/verandaosmani/neuefische/Capstone_Project_SignMeUp/.venv/lib/python3.9/site-packages (from pandas<2.0.0,>=1.1.0->sktime) (2023.3)\n",
      "Requirement already satisfied: python-dateutil>=2.7.3 in /Users/verandaosmani/neuefische/Capstone_Project_SignMeUp/.venv/lib/python3.9/site-packages (from pandas<2.0.0,>=1.1.0->sktime) (2.8.2)\n",
      "Requirement already satisfied: threadpoolctl>=2.0.0 in /Users/verandaosmani/neuefische/Capstone_Project_SignMeUp/.venv/lib/python3.9/site-packages (from scikit-learn<1.3.0,>=0.24.0->sktime) (3.1.0)\n",
      "Requirement already satisfied: joblib>=0.11 in /Users/verandaosmani/neuefische/Capstone_Project_SignMeUp/.venv/lib/python3.9/site-packages (from scikit-learn<1.3.0,>=0.24.0->sktime) (1.2.0)\n",
      "Requirement already satisfied: six>=1.5 in /Users/verandaosmani/neuefische/Capstone_Project_SignMeUp/.venv/lib/python3.9/site-packages (from python-dateutil>=2.7.3->pandas<2.0.0,>=1.1.0->sktime) (1.15.0)\n"
     ]
    }
   ],
   "source": [
    "!pip install sktime"
   ]
  },
  {
   "attachments": {},
   "cell_type": "markdown",
   "metadata": {},
   "source": [
    "Load datasets\n",
    "\n",
    "Edit path for your computer"
   ]
  },
  {
   "cell_type": "code",
   "execution_count": 4,
   "metadata": {},
   "outputs": [],
   "source": [
    "\n",
    "# load the data\n",
    "X = np.load(\"../data/X-data.npy\")\n",
    "y = np.load(\"../data/y-data.npy\")\n",
    "#make y 1-Dimensional because this is what SKTIME wants\n",
    "y = np.argmax(y, axis=1)\n",
    "\n",
    "#defining signs --> edit for specific subset of data\n",
    "actions = np.array ( ['alligator', 'radio', 'moon', 'sleep', 'grandpa', 'tiger', 'pencil', 'sleepy', 'grandma', 'chocolate'])"
   ]
  },
  {
   "attachments": {},
   "cell_type": "markdown",
   "metadata": {},
   "source": [
    "Splitting Train and Test Data"
   ]
  },
  {
   "cell_type": "code",
   "execution_count": 5,
   "metadata": {},
   "outputs": [],
   "source": [
    "X_train, X_test, y_train, y_test = train_test_split(X, y, test_size=0.25)"
   ]
  },
  {
   "attachments": {},
   "cell_type": "markdown",
   "metadata": {},
   "source": [
    "### Model :CNNClassifier"
   ]
  },
  {
   "cell_type": "code",
   "execution_count": 7,
   "metadata": {},
   "outputs": [],
   "source": [
    "from sktime.classification.deep_learning.cnn import CNNClassifier\n",
    "from sktime.transformations.panel.compose import ColumnConcatenator\n"
   ]
  },
  {
   "cell_type": "code",
   "execution_count": null,
   "metadata": {},
   "outputs": [],
   "source": [
    "clf = ColumnConcatenator() * CNNClassifier(n_epochs=20,batch_size=4)\n"
   ]
  },
  {
   "cell_type": "code",
   "execution_count": null,
   "metadata": {},
   "outputs": [],
   "source": [
    "clf.fit(X_train, y_train)\n",
    "clf.score(X_test, y_test)"
   ]
  },
  {
   "attachments": {},
   "cell_type": "markdown",
   "metadata": {},
   "source": [
    " RandomizedSearchCV for CNN classifier"
   ]
  },
  {
   "cell_type": "code",
   "execution_count": null,
   "metadata": {},
   "outputs": [],
   "source": [
    "from sklearn.model_selection import RandomizedSearchCV\n",
    "# Define the parameter grid for the CNN classifier\n",
    "param_grid = {\n",
    "    'cnn__n_filters': [4, 8, 12],\n",
    "    'cnn__filter_length': [3, 5],\n",
    "    'cnn__n_epochs': [5, 10],\n",
    "    'cnn__batch_size': [2, 4],\n",
    "}\n",
    "# Define the pipeline with ColumnConcatenator and CNNClassifier\n",
    "cnn_clf = ColumnConcatenator() * CNNClassifier()\n",
    "\n",
    "\n",
    "clf= RandomizedSearchCV(\n",
    "    cnn_clf,\n",
    "    param_distributions=param_grid,\n",
    "    n_iter=3, \n",
    "    cv=5,  \n",
    "    #n_jobs=-1,  \n",
    "    random_state=42,\n",
    "    verbose=True,\n",
    "   \n",
    ")\n",
    "\n",
    "search=clf.fit(X_train, y_train)\n",
    "#search.fit(X_train, y_train)\n",
    "\n",
    "\n",
    "print(search.best_params_)\n",
    "\n",
    "\n",
    "#best_clf = search.best_estimator_\n",
    "#accuracy = best_clf.score(X_test, y_test)\n",
    "#print(\"Accuracy of the best model on the test set: {:.2f}%\".format(accuracy * 100))\n"
   ]
  }
 ],
 "metadata": {
  "kernelspec": {
   "display_name": ".venv",
   "language": "python",
   "name": "python3"
  },
  "language_info": {
   "codemirror_mode": {
    "name": "ipython",
    "version": 3
   },
   "file_extension": ".py",
   "mimetype": "text/x-python",
   "name": "python",
   "nbconvert_exporter": "python",
   "pygments_lexer": "ipython3",
   "version": "3.9.8"
  },
  "orig_nbformat": 4,
  "vscode": {
   "interpreter": {
    "hash": "40433cef62c227fe0c18ee0e9fd76389d91de061eabbb04345e2908e6dbb2c0b"
   }
  }
 },
 "nbformat": 4,
 "nbformat_minor": 2
}
